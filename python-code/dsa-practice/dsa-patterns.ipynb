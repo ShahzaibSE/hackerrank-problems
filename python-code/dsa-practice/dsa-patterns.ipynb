{
 "cells": [
  {
   "cell_type": "markdown",
   "metadata": {},
   "source": [
    "# 15 LeetCode Patterns to Master\n",
    "\n",
    "## 1. Prefix Sum  \n",
    "Used to calculate cumulative sums efficiently.  \n",
    "**Example Problems:**  \n",
    "- Find Pivot Index  \n",
    "- Subarray Sum Equals K  \n",
    "\n",
    "## 2. Two Pointers  \n",
    "Solves problems by iterating with two indices from different directions.  \n",
    "**Example Problems:**  \n",
    "- Two Sum II  \n",
    "- Container With Most Water  \n",
    "\n",
    "## 3. Sliding Window  \n",
    "Optimizes problems involving contiguous subarrays.  \n",
    "**Example Problems:**  \n",
    "- Longest Substring Without Repeating Characters  \n",
    "- Maximum Average Subarray I  \n",
    "\n",
    "## 4. Fast & Slow Pointers  \n",
    "Detects cycles in linked lists or arrays.  \n",
    "**Example Problems:**  \n",
    "- Linked List Cycle  \n",
    "- Find the Duplicate Number  \n",
    "\n",
    "## 5. Merge Intervals  \n",
    "Solves interval-related problems by sorting and merging.  \n",
    "**Example Problems:**  \n",
    "- Merge Intervals  \n",
    "- Insert Interval  \n",
    "\n",
    "## 6. Cyclic Sort  \n",
    "Used when numbers are in a given range to sort in-place.  \n",
    "**Example Problems:**  \n",
    "- Find All Missing Numbers  \n",
    "- Find the Duplicate Number  \n",
    "\n",
    "## 7. In-Place Reversal of Linked List  \n",
    "Reverses parts of linked lists in-place.  \n",
    "**Example Problems:**  \n",
    "- Reverse Linked List  \n",
    "- Reverse Nodes in k-Group  \n",
    "\n",
    "## 8. Breadth-First Search (BFS)  \n",
    "Used for shortest paths in graphs or trees.  \n",
    "**Example Problems:**  \n",
    "- Binary Tree Level Order Traversal  \n",
    "- Shortest Path in Binary Matrix  \n",
    "\n",
    "## 9. Depth-First Search (DFS)  \n",
    "Explores all possible paths in graphs or trees.  \n",
    "**Example Problems:**  \n",
    "- Number of Islands  \n",
    "- Letter Combinations of a Phone Number  \n",
    "\n",
    "## 10. Backtracking  \n",
    "Used to explore all solutions by undoing previous choices.  \n",
    "**Example Problems:**  \n",
    "- Permutations  \n",
    "- Combination Sum  \n",
    "\n",
    "## 11. Dynamic Programming (DP)  \n",
    "Solves problems by storing intermediate results.  \n",
    "**Example Problems:**  \n",
    "- House Robber  \n",
    "- Longest Increasing Subsequence  \n",
    "\n",
    "## 12. Bit Manipulation  \n",
    "Efficient for working with bits in problems.  \n",
    "**Example Problems:**  \n",
    "- Single Number  \n",
    "- Reverse Bits  \n",
    "\n",
    "## 13. Topological Sort  \n",
    "Used to sort directed graphs with dependencies.  \n",
    "**Example Problems:**  \n",
    "- Course Schedule  \n",
    "- Alien Dictionary  \n",
    "\n",
    "## 14. Trie (Prefix Tree)  \n",
    "Efficient for prefix-based searches.  \n",
    "**Example Problems:**  \n",
    "- Implement Trie  \n",
    "- Word Search II  \n",
    "\n",
    "## 15. Monotonic Stack  \n",
    "Used to maintain order while processing elements.  \n",
    "**Example Problems:**  \n",
    "- Next Greater Element  \n",
    "- Daily Temperatures  \n",
    "\n",
    "---  \n",
    "For more details, visit: [LeetCode Patterns](https://blog.algomaster.io/p/15-leetcode-patterns)  \n"
   ]
  },
  {
   "cell_type": "markdown",
   "metadata": {},
   "source": [
    "## **Prefix Sum**\n",
    "\n",
    "Prefix Sum involves preprocessing an array to create a new array where each element at index i represents the sum of the array from the start up to i. This allows for efficient sum queries on subarrays.\n",
    "\n",
    "Use this pattern when you need to perform multiple sum queries on a subarray or need to calculate cumulative sums."
   ]
  },
  {
   "cell_type": "code",
   "execution_count": 16,
   "metadata": {},
   "outputs": [
    {
     "name": "stdout",
     "output_type": "stream",
     "text": [
      "[2, 6, 12, 20]\n"
     ]
    }
   ],
   "source": [
    "from typing import List\n",
    "\n",
    "class Solution:\n",
    "    def calculate_prefix_sum(self, nums: List[int]):\n",
    "        n:int = len(nums)\n",
    "        result:List[int] = [nums[0]]\n",
    "        for i in range(1, n):\n",
    "            current:int = result[i-1] + nums[i]\n",
    "            result.append(current)\n",
    "        print(result)\n",
    "\n",
    "sol: Solution = Solution()\n",
    "sol.calculate_prefix_sum([2, 4, 6, 8])\n"
   ]
  },
  {
   "cell_type": "markdown",
   "metadata": {},
   "source": [
    "### **303. Range Query Sum - Immutable**"
   ]
  },
  {
   "cell_type": "code",
   "execution_count": 17,
   "metadata": {},
   "outputs": [],
   "source": [
    "from typing import List\n",
    "\n",
    "class NumArray:\n",
    "\n",
    "    def __init__(self, nums: List[int]):\n",
    "        self.prefix_sums = [0] * (len(nums) + 1)\n",
    "        \n",
    "        for i in range(len(nums)):\n",
    "            self.prefix_sums[i+1] = self.prefix_sums[i] + nums[i]\n",
    "        \n",
    "\n",
    "    def sumRange(self, left: int, right: int) -> int:\n",
    "        return self.prefix_sums[right+1] - self.prefix_sums[left]\n",
    "        \n",
    "        \n",
    "\n",
    "\n",
    "# Your NumArray object will be instantiated and called as such:\n",
    "# obj = NumArray(nums)\n",
    "# param_1 = obj.sumRange(left,right)"
   ]
  },
  {
   "cell_type": "markdown",
   "metadata": {},
   "source": [
    "### **525. Contiguous Array**"
   ]
  },
  {
   "cell_type": "code",
   "execution_count": 18,
   "metadata": {},
   "outputs": [
    {
     "data": {
      "text/plain": [
       "2"
      ]
     },
     "execution_count": 18,
     "metadata": {},
     "output_type": "execute_result"
    }
   ],
   "source": [
    "class Solution:\n",
    "    def findMaxLength(self, nums: List[int]) -> int:\n",
    "        n:int = len(nums)\n",
    "        count:int = 0\n",
    "        max_count:int = 0\n",
    "        count_map = {0:-1}\n",
    "        for i in range(n):\n",
    "            count += 1 if nums[i] == 1 else -1\n",
    "            \n",
    "            if count in count_map:\n",
    "                max_count = max(max_count, (i - count_map[count]))\n",
    "            else:\n",
    "                count_map[count] = i\n",
    "        \n",
    "        return max_count                \n",
    "\n",
    "sol: Solution = Solution()\n",
    "sol.findMaxLength([0,1])\n",
    "# sol.findMaxLength([0,1,0]) # Not contigious subarray\n",
    "# sol.findMaxLength([0, 1, 0, 1, 0, 1, 0, 1, 0, 1])"
   ]
  },
  {
   "cell_type": "markdown",
   "metadata": {},
   "source": [
    "### **560. Subarray Sum Equals K**"
   ]
  },
  {
   "cell_type": "code",
   "execution_count": 19,
   "metadata": {},
   "outputs": [
    {
     "name": "stdout",
     "output_type": "stream",
     "text": [
      "{0: 1, 1: 1, 2: 1, 3: 1}\n"
     ]
    },
    {
     "data": {
      "text/plain": [
       "2"
      ]
     },
     "execution_count": 19,
     "metadata": {},
     "output_type": "execute_result"
    }
   ],
   "source": [
    "class Solution:\n",
    "    def subarraySum(self, nums: List[int], k: int) -> int:\n",
    "        n:int = len(nums)\n",
    "        sum:int = 0\n",
    "        sum_map = {0:1}\n",
    "        count:int = 0\n",
    "        \n",
    "        for i in range(n):\n",
    "            sum += nums[i]\n",
    "            if (sum - k) in sum_map:\n",
    "                count += sum_map[sum - k]\n",
    "            # else:\n",
    "            sum_map[sum] = sum_map.get(sum, 0) + 1\n",
    "                \n",
    "        print(sum_map)        \n",
    "                \n",
    "        return count\n",
    " \n",
    "sol:Solution = Solution()\n",
    "sol.subarraySum([1,1,1], 2) # Output: 2    "
   ]
  },
  {
   "cell_type": "markdown",
   "metadata": {},
   "source": [
    "## **Two Pointers**\n",
    "\n",
    "The Two Pointers pattern involves using two pointers to iterate through an array or list, often used to find pairs or elements that meet specific criteria.\n",
    "\n",
    "Use this pattern when dealing with sorted arrays or lists where you need to find pairs that satisfy a specific condition."
   ]
  },
  {
   "cell_type": "code",
   "execution_count": 20,
   "metadata": {},
   "outputs": [
    {
     "data": {
      "text/plain": [
       "[1, 3]"
      ]
     },
     "execution_count": 20,
     "metadata": {},
     "output_type": "execute_result"
    }
   ],
   "source": [
    "\"\"\"\n",
    "Find two numbers in a sorted array that add up to a target value.\n",
    "\n",
    "Example:\n",
    "\n",
    "Input: nums = [1, 2, 3, 4, 6], target = 6\n",
    "\n",
    "Output: [1, 3]\n",
    "\"\"\"\n",
    "class Solution:\n",
    "    def checkTwoNumbers(self, nums:List[int], k:int):\n",
    "        nums.sort()\n",
    "        left, right = 0, len(nums) - 1\n",
    "        \n",
    "        while left < right:\n",
    "            current_sum = nums[left] + nums[right]\n",
    "            \n",
    "            if current_sum == k:\n",
    "                return [left, right]\n",
    "            elif current_sum < k:\n",
    "                left += 1\n",
    "            else:\n",
    "                right -= 1\n",
    "    \n",
    "sol:Solution = Solution()\n",
    "sol.checkTwoNumbers([1, 2, 3, 4, 6], 6) # Output: [1, 3]\n",
    "            \n",
    "            "
   ]
  },
  {
   "cell_type": "markdown",
   "metadata": {},
   "source": [
    "## **Check Palindrome**"
   ]
  },
  {
   "cell_type": "code",
   "execution_count": 21,
   "metadata": {},
   "outputs": [
    {
     "data": {
      "text/plain": [
       "False"
      ]
     },
     "execution_count": 21,
     "metadata": {},
     "output_type": "execute_result"
    }
   ],
   "source": [
    "class Solution:\n",
    "    def checkPalindrome(self, s:str):\n",
    "        n:int = len(s)\n",
    "        left, right = 0, n - 1\n",
    "        \n",
    "        while left < right:\n",
    "            if s[left] != s[right]:\n",
    "                return False\n",
    "            left += 1\n",
    "            right -= 1\n",
    "        \n",
    "        return True\n",
    "    \n",
    "\n",
    "sol:Solution = Solution()\n",
    "# sol.checkPalindrome(\"abba\") # Output: True\n",
    "sol.checkPalindrome(\"abbb\") # Output: False"
   ]
  },
  {
   "cell_type": "markdown",
   "metadata": {},
   "source": [
    "## **Sliding Window**\n",
    "\n",
    "The Sliding Window pattern is used to find a subarray or substring that satisfies a specific condition, optimizing the time complexity by maintaining a window of elements.\n",
    "\n",
    "Use this pattern when dealing with problems involving contiguous subarrays or substrings."
   ]
  },
  {
   "cell_type": "code",
   "execution_count": 22,
   "metadata": {},
   "outputs": [
    {
     "data": {
      "text/plain": [
       "9"
      ]
     },
     "execution_count": 22,
     "metadata": {},
     "output_type": "execute_result"
    }
   ],
   "source": [
    "\"\"\"\n",
    "Find the maximum sum of a subarray of size k.\n",
    "\n",
    "Example:\n",
    "\n",
    "Input: nums = [2, 1, 5, 1, 3, 2], k = 3\n",
    "\n",
    "Output: 9\n",
    "\"\"\"\n",
    "class Solution:\n",
    "    def maxSubArray(self, nums:List[int], k:int):\n",
    "        window_size:int = 0\n",
    "        current_sum:int = 0\n",
    "        max_sum:int = 0\n",
    "        for i in range(len(nums)):\n",
    "            current_sum += nums[i]\n",
    "            \n",
    "            if i >= k - 1:\n",
    "                max_sum = max(current_sum, max_sum)\n",
    "                current_sum -= nums[i - (k - 1)]\n",
    "        \n",
    "        return max_sum\n",
    "                    \n",
    "\n",
    "sol:Solution = Solution()\n",
    "sol.maxSubArray([2, 1, 5, 1, 3, 2], 3) # Output: 9"
   ]
  },
  {
   "cell_type": "markdown",
   "metadata": {},
   "source": [
    "## **Fast & Slow Pointers**\n",
    "\n",
    "The Fast & Slow Pointers (Tortoise and Hare) pattern is used to detect cycles in linked lists and other similar structures.\n",
    "\n",
    "### **Sample Problem:**\n",
    "Detect if a linked list has a cycle.\n",
    "\n",
    "### **Explanation:**\n",
    "- Initialize two pointers, one moving one step at a time (slow) and the other moving two steps at a time (fast).\n",
    "\n",
    "- If there is a cycle, the fast pointer will eventually meet the slow pointer.\n",
    "\n",
    "- If the fast pointer reaches the end of the list, there is no cycle."
   ]
  },
  {
   "cell_type": "markdown",
   "metadata": {},
   "source": [
    "### **141. Detect Cycle in a Linked List**"
   ]
  },
  {
   "cell_type": "code",
   "execution_count": 23,
   "metadata": {},
   "outputs": [],
   "source": [
    "from typing import Optional\n",
    "# Definition for singly-linked list.\n",
    "class ListNode:\n",
    "    def __init__(self, x):\n",
    "        self.val = x\n",
    "        self.next = None\n",
    "\n",
    "class Solution:\n",
    "    def hasCycle(self, head: Optional[ListNode]) -> bool:\n",
    "        slow_pointer:ListNode = head\n",
    "        fast_pointer:ListNode = head\n",
    "\n",
    "        while fast_pointer and fast_pointer.next != None:\n",
    "            slow_pointer = slow_pointer.next\n",
    "            fast_pointer = fast_pointer.next.next\n",
    "\n",
    "            if slow_pointer == fast_pointer:\n",
    "                return True\n",
    "        \n",
    "        return False"
   ]
  },
  {
   "cell_type": "markdown",
   "metadata": {},
   "source": [
    "### **202. Happy Number**"
   ]
  },
  {
   "cell_type": "code",
   "execution_count": 24,
   "metadata": {},
   "outputs": [
    {
     "data": {
      "text/plain": [
       "True"
      ]
     },
     "execution_count": 24,
     "metadata": {},
     "output_type": "execute_result"
    }
   ],
   "source": [
    "class Solution:\n",
    "    def isHappy(self, n: int) -> bool:\n",
    "        def digit_sum(n:int):\n",
    "            sum:int = 0\n",
    "            while n > 0:\n",
    "                digit:int = n % 10\n",
    "                sum += digit * digit\n",
    "                n //= 10 \n",
    "            \n",
    "            return sum\n",
    "        \n",
    "        slow_pointer:int = n\n",
    "        fast_pointer:int = digit_sum(n)\n",
    "        \n",
    "        while fast_pointer != 1 and slow_pointer != fast_pointer:\n",
    "            slow_pointer = digit_sum(slow_pointer)\n",
    "            fast_pointer = digit_sum(digit_sum(fast_pointer))\n",
    "        \n",
    "        return fast_pointer == 1\n",
    "        \n",
    "        \n",
    "\n",
    "sol:Solution = Solution()\n",
    "sol.isHappy(19) # Output: True"
   ]
  },
  {
   "cell_type": "code",
   "execution_count": 25,
   "metadata": {},
   "outputs": [
    {
     "data": {
      "text/plain": [
       "9"
      ]
     },
     "execution_count": 25,
     "metadata": {},
     "output_type": "execute_result"
    }
   ],
   "source": [
    "num = 19\n",
    "digit = num % 10\n",
    "digit"
   ]
  },
  {
   "cell_type": "markdown",
   "metadata": {},
   "source": [
    "## **LinkedList In-place Reversal**\n",
    "\n",
    "The In-place Reversal of a LinkedList pattern reverses parts of a linked list without using extra space.\n",
    "\n",
    "Use this pattern when you need to reverse sections of a linked list.\n"
   ]
  },
  {
   "cell_type": "markdown",
   "metadata": {},
   "source": [
    "### **206. Reverse Linked List**"
   ]
  },
  {
   "cell_type": "code",
   "execution_count": 26,
   "metadata": {},
   "outputs": [],
   "source": [
    "\"\"\"\"\"\"\n",
    "# Definition for singly-linked list.\n",
    "class ListNode:\n",
    "    def __init__(self, val=0, next=None):\n",
    "        self.val = val\n",
    "        self.next = next\n",
    "        \n",
    "class Solution:\n",
    "    def reverseList(self, head: Optional[ListNode]) -> Optional[ListNode]:\n",
    "        previous_pointer = None\n",
    "        current = head\n",
    "                \n",
    "        while current:\n",
    "            next_pointer = current.next\n",
    "            current.next = previous_pointer\n",
    "            previous_pointer = current\n",
    "            current = next_pointer\n",
    "        \n",
    "        return previous_pointer"
   ]
  },
  {
   "cell_type": "markdown",
   "metadata": {},
   "source": [
    "## **Monotonic Stack**\n",
    "\n",
    "The Monotonic Stack pattern uses a stack to maintain a sequence of elements in a specific order (increasing or decreasing).\n",
    "\n",
    "Use this pattern for problems that require finding the next greater or smaller element.\n",
    "\n",
    "### **Explanation:**\n",
    "- Use a stack to keep track of elements for which we haven't found the next greater element yet.\n",
    "\n",
    "- Iterate through the array, and for each element, pop elements from the stack until you find a greater element.\n",
    "\n",
    "- If the stack is not empty, set the result for index at the top of the stack to current element.\n",
    "\n",
    "- Push the current element onto the stack."
   ]
  },
  {
   "cell_type": "code",
   "execution_count": 27,
   "metadata": {},
   "outputs": [
    {
     "data": {
      "text/plain": [
       "[4, 2, 4, -1, -1]"
      ]
     },
     "execution_count": 27,
     "metadata": {},
     "output_type": "execute_result"
    }
   ],
   "source": [
    "\"\"\"\n",
    "Sample Problem:\n",
    "Find the next greater element for each element in an array. Output -1 if the greater element doesn’t exist.\n",
    "\n",
    "Example:\n",
    "\n",
    "Input: nums = [2, 1, 2, 4, 3]\n",
    "\n",
    "Output: [4, 2, 4, -1, -1]\n",
    "\"\"\"\n",
    "\n",
    "from typing import List\n",
    "\n",
    "class Solution:\n",
    "    def find_next_greater_element(self, nums:List[int]):\n",
    "        stack = []\n",
    "        n:int = len(nums)\n",
    "        result = [-1] * n\n",
    "        \n",
    "        for i in range(n):\n",
    "            while stack and nums[i] > nums[stack[-1]]:\n",
    "                result[stack.pop()] = nums[i]\n",
    "            stack.append(i)\n",
    "        \n",
    "        return result     \n",
    "\n",
    "sol:Solution = Solution()\n",
    "sol.find_next_greater_element([2, 1, 2, 4, 3]) # Output: [4, 2, 4, -1, -1]"
   ]
  },
  {
   "cell_type": "markdown",
   "metadata": {},
   "source": [
    "### **Next Greater Element 1**"
   ]
  },
  {
   "cell_type": "code",
   "execution_count": 28,
   "metadata": {},
   "outputs": [
    {
     "data": {
      "text/plain": [
       "[-1, 3, -1]"
      ]
     },
     "execution_count": 28,
     "metadata": {},
     "output_type": "execute_result"
    }
   ],
   "source": [
    "\"\"\"\n",
    "The next greater element of some element x in an array is the first greater element that is to the right of x in the same array.\n",
    "\n",
    "You are given two distinct 0-indexed integer arrays nums1 and nums2, where nums1 is a subset of nums2.\n",
    "\n",
    "For each 0 <= i < nums1.length, find the index j such that nums1[i] == nums2[j] and determine the next greater element of nums2[j] \n",
    "in nums2. If there is no next greater element, then the answer for this query is -1.\n",
    "\n",
    "Return an array ans of length nums1.length such that ans[i] is the next greater element as described above.\n",
    "\n",
    "Note: For efficient look up, hash maps are fast.\n",
    "\"\"\"\n",
    "class Solution:\n",
    "    def nextGreaterElement(self, nums1: List[int], nums2: List[int]) -> List[int]:\n",
    "        stack = []\n",
    "        answers = {}\n",
    "        \n",
    "        for num in nums2:\n",
    "            while stack and num > stack[-1]:\n",
    "                answers[stack.pop()] = num\n",
    "            stack.append(num)\n",
    "        \n",
    "        while stack:\n",
    "            answers[stack.pop()] = -1\n",
    "        \n",
    "        return [answers[num] for num in nums1]\n",
    "        \n",
    "        \n",
    "sol:Solution = Solution()\n",
    "sol.nextGreaterElement([4,1,2], [1,3,4,2]) # Output: [-1, 3, -1]"
   ]
  },
  {
   "cell_type": "markdown",
   "metadata": {},
   "source": [
    "## **Kth Largest Element**\n",
    "\n",
    "Explanation:\n",
    "Use a min-heap of size k to keep track of the k largest elements.\n",
    "\n",
    "Iterate through the array, adding elements to the heap.\n",
    "\n",
    "If the heap size exceeds k, remove the smallest element from the heap.\n",
    "\n",
    "The root of the heap will be the k-th largest element."
   ]
  },
  {
   "cell_type": "markdown",
   "metadata": {},
   "source": [
    "## **Top ‘K’ Elements**"
   ]
  },
  {
   "cell_type": "code",
   "execution_count": 29,
   "metadata": {},
   "outputs": [],
   "source": [
    "import heapq\n",
    "\n",
    "# Create a min heap\n",
    "min_heap = []\n",
    "\n",
    "# Insert elements into the heap\n",
    "heapq.heappush(min_heap, 3)\n",
    "heapq.heappush(min_heap, 1)\n",
    "heapq.heappush(min_heap, 4)\n",
    "heapq.heappush(min_heap, 2)"
   ]
  },
  {
   "cell_type": "code",
   "execution_count": 30,
   "metadata": {},
   "outputs": [
    {
     "data": {
      "text/plain": [
       "5"
      ]
     },
     "execution_count": 30,
     "metadata": {},
     "output_type": "execute_result"
    }
   ],
   "source": [
    "\"\"\"Find the k-th largest element in an unsorted array.\n",
    "\n",
    "Example:\n",
    "\n",
    "Input: nums = [3, 2, 1, 5, 6, 4], k = 2\n",
    "\n",
    "Output: 5\"\"\"\n",
    "\n",
    "class Solution:\n",
    "    def kth_largest(self, arr:List[int], k:int):\n",
    "        min_heap = []\n",
    "        \n",
    "        for i in range(len(arr)):\n",
    "            heapq.heappush(min_heap, arr[i])\n",
    "            \n",
    "            if len(min_heap) > k:\n",
    "                heapq.heappop(min_heap)\n",
    "        \n",
    "        return min_heap[0]\n",
    "\n",
    "sol:Solution = Solution()\n",
    "sol.kth_largest([3, 2, 1, 5, 6, 4], 2)"
   ]
  }
 ],
 "metadata": {
  "kernelspec": {
   "display_name": "python-dev-shahzaibse",
   "language": "python",
   "name": "python3"
  },
  "language_info": {
   "codemirror_mode": {
    "name": "ipython",
    "version": 3
   },
   "file_extension": ".py",
   "mimetype": "text/x-python",
   "name": "python",
   "nbconvert_exporter": "python",
   "pygments_lexer": "ipython3",
   "version": "3.12.2"
  }
 },
 "nbformat": 4,
 "nbformat_minor": 2
}
