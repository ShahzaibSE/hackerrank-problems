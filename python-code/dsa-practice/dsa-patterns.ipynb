{
 "cells": [
  {
   "cell_type": "markdown",
   "metadata": {},
   "source": [
    "# 15 LeetCode Patterns to Master\n",
    "\n",
    "## 1. Prefix Sum  \n",
    "Used to calculate cumulative sums efficiently.  \n",
    "**Example Problems:**  \n",
    "- Find Pivot Index  \n",
    "- Subarray Sum Equals K  \n",
    "\n",
    "## 2. Two Pointers  \n",
    "Solves problems by iterating with two indices from different directions.  \n",
    "**Example Problems:**  \n",
    "- Two Sum II  \n",
    "- Container With Most Water  \n",
    "\n",
    "## 3. Sliding Window  \n",
    "Optimizes problems involving contiguous subarrays.  \n",
    "**Example Problems:**  \n",
    "- Longest Substring Without Repeating Characters  \n",
    "- Maximum Average Subarray I  \n",
    "\n",
    "## 4. Fast & Slow Pointers  \n",
    "Detects cycles in linked lists or arrays.  \n",
    "**Example Problems:**  \n",
    "- Linked List Cycle  \n",
    "- Find the Duplicate Number  \n",
    "\n",
    "## 5. Merge Intervals  \n",
    "Solves interval-related problems by sorting and merging.  \n",
    "**Example Problems:**  \n",
    "- Merge Intervals  \n",
    "- Insert Interval  \n",
    "\n",
    "## 6. Cyclic Sort  \n",
    "Used when numbers are in a given range to sort in-place.  \n",
    "**Example Problems:**  \n",
    "- Find All Missing Numbers  \n",
    "- Find the Duplicate Number  \n",
    "\n",
    "## 7. In-Place Reversal of Linked List  \n",
    "Reverses parts of linked lists in-place.  \n",
    "**Example Problems:**  \n",
    "- Reverse Linked List  \n",
    "- Reverse Nodes in k-Group  \n",
    "\n",
    "## 8. Breadth-First Search (BFS)  \n",
    "Used for shortest paths in graphs or trees.  \n",
    "**Example Problems:**  \n",
    "- Binary Tree Level Order Traversal  \n",
    "- Shortest Path in Binary Matrix  \n",
    "\n",
    "## 9. Depth-First Search (DFS)  \n",
    "Explores all possible paths in graphs or trees.  \n",
    "**Example Problems:**  \n",
    "- Number of Islands  \n",
    "- Letter Combinations of a Phone Number  \n",
    "\n",
    "## 10. Backtracking  \n",
    "Used to explore all solutions by undoing previous choices.  \n",
    "**Example Problems:**  \n",
    "- Permutations  \n",
    "- Combination Sum  \n",
    "\n",
    "## 11. Dynamic Programming (DP)  \n",
    "Solves problems by storing intermediate results.  \n",
    "**Example Problems:**  \n",
    "- House Robber  \n",
    "- Longest Increasing Subsequence  \n",
    "\n",
    "## 12. Bit Manipulation  \n",
    "Efficient for working with bits in problems.  \n",
    "**Example Problems:**  \n",
    "- Single Number  \n",
    "- Reverse Bits  \n",
    "\n",
    "## 13. Topological Sort  \n",
    "Used to sort directed graphs with dependencies.  \n",
    "**Example Problems:**  \n",
    "- Course Schedule  \n",
    "- Alien Dictionary  \n",
    "\n",
    "## 14. Trie (Prefix Tree)  \n",
    "Efficient for prefix-based searches.  \n",
    "**Example Problems:**  \n",
    "- Implement Trie  \n",
    "- Word Search II  \n",
    "\n",
    "## 15. Monotonic Stack  \n",
    "Used to maintain order while processing elements.  \n",
    "**Example Problems:**  \n",
    "- Next Greater Element  \n",
    "- Daily Temperatures  \n",
    "\n",
    "---  \n",
    "For more details, visit: [LeetCode Patterns](https://blog.algomaster.io/p/15-leetcode-patterns)  \n"
   ]
  },
  {
   "cell_type": "markdown",
   "metadata": {},
   "source": [
    "## **Prefix Sum**\n",
    "\n",
    "Prefix Sum involves preprocessing an array to create a new array where each element at index i represents the sum of the array from the start up to i. This allows for efficient sum queries on subarrays.\n",
    "\n",
    "Use this pattern when you need to perform multiple sum queries on a subarray or need to calculate cumulative sums."
   ]
  },
  {
   "cell_type": "code",
   "execution_count": 1,
   "metadata": {},
   "outputs": [
    {
     "name": "stdout",
     "output_type": "stream",
     "text": [
      "[2, 6, 12, 20]\n"
     ]
    }
   ],
   "source": [
    "from typing import List\n",
    "\n",
    "class Solution:\n",
    "    def calculate_prefix_sum(self, nums: List[int]):\n",
    "        n:int = len(nums)\n",
    "        result:List[int] = [nums[0]]\n",
    "        for i in range(1, n):\n",
    "            current:int = result[i-1] + nums[i]\n",
    "            result.append(current)\n",
    "        print(result)\n",
    "\n",
    "sol: Solution = Solution()\n",
    "sol.calculate_prefix_sum([2, 4, 6, 8])\n"
   ]
  },
  {
   "cell_type": "markdown",
   "metadata": {},
   "source": [
    "### **303. Range Query Sum - Immutable**"
   ]
  },
  {
   "cell_type": "code",
   "execution_count": 2,
   "metadata": {},
   "outputs": [],
   "source": [
    "from typing import List\n",
    "\n",
    "class NumArray:\n",
    "\n",
    "    def __init__(self, nums: List[int]):\n",
    "        self.prefix_sums = [0] * (len(nums) + 1)\n",
    "        \n",
    "        for i in range(len(nums)):\n",
    "            self.prefix_sums[i+1] = self.prefix_sums[i] + nums[i]\n",
    "        \n",
    "\n",
    "    def sumRange(self, left: int, right: int) -> int:\n",
    "        return self.prefix_sums[right+1] - self.prefix_sums[left]\n",
    "        \n",
    "        \n",
    "\n",
    "\n",
    "# Your NumArray object will be instantiated and called as such:\n",
    "# obj = NumArray(nums)\n",
    "# param_1 = obj.sumRange(left,right)"
   ]
  },
  {
   "cell_type": "markdown",
   "metadata": {},
   "source": [
    "### **525. Contiguous Array**"
   ]
  },
  {
   "cell_type": "code",
   "execution_count": 3,
   "metadata": {},
   "outputs": [
    {
     "data": {
      "text/plain": [
       "2"
      ]
     },
     "execution_count": 3,
     "metadata": {},
     "output_type": "execute_result"
    }
   ],
   "source": [
    "class Solution:\n",
    "    def findMaxLength(self, nums: List[int]) -> int:\n",
    "        n:int = len(nums)\n",
    "        count:int = 0\n",
    "        max_count:int = 0\n",
    "        count_map = {0:-1}\n",
    "        for i in range(n):\n",
    "            count += 1 if nums[i] == 1 else -1\n",
    "            \n",
    "            if count in count_map:\n",
    "                max_count = max(max_count, (i - count_map[count]))\n",
    "            else:\n",
    "                count_map[count] = i\n",
    "        \n",
    "        return max_count                \n",
    "\n",
    "sol: Solution = Solution()\n",
    "sol.findMaxLength([0,1])\n",
    "# sol.findMaxLength([0,1,0]) # Not contigious subarray\n",
    "# sol.findMaxLength([0, 1, 0, 1, 0, 1, 0, 1, 0, 1])"
   ]
  },
  {
   "cell_type": "markdown",
   "metadata": {},
   "source": [
    "### **560. Subarray Sum Equals K**"
   ]
  },
  {
   "cell_type": "code",
   "execution_count": 4,
   "metadata": {},
   "outputs": [
    {
     "name": "stdout",
     "output_type": "stream",
     "text": [
      "{0: 1, 1: 1, 2: 1, 3: 1}\n"
     ]
    },
    {
     "data": {
      "text/plain": [
       "2"
      ]
     },
     "execution_count": 4,
     "metadata": {},
     "output_type": "execute_result"
    }
   ],
   "source": [
    "class Solution:\n",
    "    def subarraySum(self, nums: List[int], k: int) -> int:\n",
    "        n:int = len(nums)\n",
    "        sum:int = 0\n",
    "        sum_map = {0:1}\n",
    "        count:int = 0\n",
    "        \n",
    "        for i in range(n):\n",
    "            sum += nums[i]\n",
    "            if (sum - k) in sum_map:\n",
    "                count += sum_map[sum - k]\n",
    "            # else:\n",
    "            sum_map[sum] = sum_map.get(sum, 0) + 1\n",
    "                \n",
    "        print(sum_map)        \n",
    "                \n",
    "        return count\n",
    " \n",
    "sol:Solution = Solution()\n",
    "sol.subarraySum([1,1,1], 2) # Output: 2    "
   ]
  },
  {
   "cell_type": "markdown",
   "metadata": {},
   "source": [
    "## **Two Pointers**\n",
    "\n",
    "The Two Pointers pattern involves using two pointers to iterate through an array or list, often used to find pairs or elements that meet specific criteria.\n",
    "\n",
    "Use this pattern when dealing with sorted arrays or lists where you need to find pairs that satisfy a specific condition."
   ]
  },
  {
   "cell_type": "code",
   "execution_count": 5,
   "metadata": {},
   "outputs": [
    {
     "data": {
      "text/plain": [
       "[1, 3]"
      ]
     },
     "execution_count": 5,
     "metadata": {},
     "output_type": "execute_result"
    }
   ],
   "source": [
    "\"\"\"\n",
    "Find two numbers in a sorted array that add up to a target value.\n",
    "\n",
    "Example:\n",
    "\n",
    "Input: nums = [1, 2, 3, 4, 6], target = 6\n",
    "\n",
    "Output: [1, 3]\n",
    "\"\"\"\n",
    "class Solution:\n",
    "    def checkTwoNumbers(self, nums:List[int], k:int):\n",
    "        nums.sort()\n",
    "        left, right = 0, len(nums) - 1\n",
    "        \n",
    "        while left < right:\n",
    "            current_sum = nums[left] + nums[right]\n",
    "            \n",
    "            if current_sum == k:\n",
    "                return [left, right]\n",
    "            elif current_sum < k:\n",
    "                left += 1\n",
    "            else:\n",
    "                right -= 1\n",
    "    \n",
    "sol:Solution = Solution()\n",
    "sol.checkTwoNumbers([1, 2, 3, 4, 6], 6) # Output: [1, 3]\n",
    "            \n",
    "            "
   ]
  },
  {
   "cell_type": "markdown",
   "metadata": {},
   "source": [
    "## **Sliding Window**\n",
    "\n",
    "The Sliding Window pattern is used to find a subarray or substring that satisfies a specific condition, optimizing the time complexity by maintaining a window of elements.\n",
    "\n",
    "Use this pattern when dealing with problems involving contiguous subarrays or substrings."
   ]
  },
  {
   "cell_type": "code",
   "execution_count": 6,
   "metadata": {},
   "outputs": [
    {
     "data": {
      "text/plain": [
       "9"
      ]
     },
     "execution_count": 6,
     "metadata": {},
     "output_type": "execute_result"
    }
   ],
   "source": [
    "\"\"\"\n",
    "Find the maximum sum of a subarray of size k.\n",
    "\n",
    "Example:\n",
    "\n",
    "Input: nums = [2, 1, 5, 1, 3, 2], k = 3\n",
    "\n",
    "Output: 9\n",
    "\"\"\"\n",
    "class Solution:\n",
    "    def maxSubArray(self, nums:List[int], k:int):\n",
    "        window_size:int = 0\n",
    "        current_sum:int = 0\n",
    "        max_sum:int = 0\n",
    "        for i in range(len(nums)):\n",
    "            current_sum += nums[i]\n",
    "            \n",
    "            if i >= k - 1:\n",
    "                max_sum = max(current_sum, max_sum)\n",
    "                current_sum -= nums[i - (k - 1)]\n",
    "        \n",
    "        return max_sum\n",
    "                    \n",
    "\n",
    "sol:Solution = Solution()\n",
    "sol.maxSubArray([2, 1, 5, 1, 3, 2], 3) # Output: 9"
   ]
  },
  {
   "cell_type": "markdown",
   "metadata": {},
   "source": [
    "## **Fast & Slow Pointers**\n",
    "\n",
    "The Fast & Slow Pointers (Tortoise and Hare) pattern is used to detect cycles in linked lists and other similar structures.\n",
    "\n",
    "### **Sample Problem:**\n",
    "Detect if a linked list has a cycle.\n",
    "\n",
    "### **Explanation:**\n",
    "- Initialize two pointers, one moving one step at a time (slow) and the other moving two steps at a time (fast).\n",
    "\n",
    "- If there is a cycle, the fast pointer will eventually meet the slow pointer.\n",
    "\n",
    "- If the fast pointer reaches the end of the list, there is no cycle."
   ]
  },
  {
   "cell_type": "markdown",
   "metadata": {},
   "source": [
    "### **141. Detect Cycle in a Linked List**"
   ]
  },
  {
   "cell_type": "code",
   "execution_count": 8,
   "metadata": {},
   "outputs": [],
   "source": [
    "from typing import Optional\n",
    "# Definition for singly-linked list.\n",
    "class ListNode:\n",
    "    def __init__(self, x):\n",
    "        self.val = x\n",
    "        self.next = None\n",
    "\n",
    "class Solution:\n",
    "    def hasCycle(self, head: Optional[ListNode]) -> bool:\n",
    "        slow_pointer:ListNode = head\n",
    "        fast_pointer:ListNode = head\n",
    "\n",
    "        while fast_pointer and fast_pointer.next != None:\n",
    "            slow_pointer = slow_pointer.next\n",
    "            fast_pointer = fast_pointer.next.next\n",
    "\n",
    "            if slow_pointer == fast_pointer:\n",
    "                return True\n",
    "        \n",
    "        return False"
   ]
  }
 ],
 "metadata": {
  "kernelspec": {
   "display_name": "python-dev-shahzaibse",
   "language": "python",
   "name": "python3"
  },
  "language_info": {
   "codemirror_mode": {
    "name": "ipython",
    "version": 3
   },
   "file_extension": ".py",
   "mimetype": "text/x-python",
   "name": "python",
   "nbconvert_exporter": "python",
   "pygments_lexer": "ipython3",
   "version": "3.12.2"
  }
 },
 "nbformat": 4,
 "nbformat_minor": 2
}
