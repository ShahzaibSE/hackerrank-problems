{
 "cells": [
  {
   "cell_type": "markdown",
   "metadata": {},
   "source": [
    "## **Dynamic Programming**"
   ]
  },
  {
   "cell_type": "code",
   "execution_count": 1,
   "metadata": {},
   "outputs": [],
   "source": [
    "def fibonacci_series_recursive(n):\n",
    "    if n <= 1:\n",
    "       return n\n",
    "    else:\n",
    "       return fibonacci_series_recursive(n-1) + fibonacci_series_recursive(n-2)"
   ]
  },
  {
   "cell_type": "code",
   "execution_count": 2,
   "metadata": {},
   "outputs": [
    {
     "data": {
      "text/plain": [
       "55"
      ]
     },
     "execution_count": 2,
     "metadata": {},
     "output_type": "execute_result"
    }
   ],
   "source": [
    "fibonacci_series_recursive(10)"
   ]
  },
  {
   "cell_type": "markdown",
   "metadata": {},
   "source": [
    "## **Iterative Appraoch**"
   ]
  },
  {
   "cell_type": "code",
   "execution_count": 3,
   "metadata": {},
   "outputs": [
    {
     "name": "stdout",
     "output_type": "stream",
     "text": [
      "1\n",
      "1\n",
      "2\n",
      "3\n",
      "5\n",
      "8\n",
      "13\n",
      "21\n"
     ]
    },
    {
     "data": {
      "text/plain": [
       "'\\nTime Complexity: O(n)\\nSpace Complexity: O(1)\\n'"
      ]
     },
     "execution_count": 3,
     "metadata": {},
     "output_type": "execute_result"
    }
   ],
   "source": [
    "def fibonacci_iterative(n):\n",
    "    num1: int = 0\n",
    "    num2: int = 1\n",
    "    \n",
    "    result: int = num1 + num2\n",
    "    \n",
    "    for i in range(2,n):\n",
    "        current = num1 + num2\n",
    "        num2 = num1\n",
    "        num1 = current\n",
    "        #\n",
    "        print(current)\n",
    "\n",
    "fibonacci_iterative(10)\n",
    "\n",
    "'''\n",
    "Time Complexity: O(n)\n",
    "Space Complexity: O(1)\n",
    "'''\n",
    "        "
   ]
  },
  {
   "cell_type": "markdown",
   "metadata": {},
   "source": [
    "### **Top Down Technique**"
   ]
  },
  {
   "cell_type": "code",
   "execution_count": 4,
   "metadata": {},
   "outputs": [
    {
     "data": {
      "text/plain": [
       "55"
      ]
     },
     "execution_count": 4,
     "metadata": {},
     "output_type": "execute_result"
    }
   ],
   "source": [
    "def fibonacci_top_down(n:int, memo={}):\n",
    "    if n <= 1:\n",
    "        return n\n",
    "    if n in memo:\n",
    "        return memo[n]\n",
    "    \n",
    "    memo[n] = fibonacci_series_recursive(n-1) + fibonacci_series_recursive(n-2)\n",
    "    \n",
    "    return memo[n]\n",
    "    \n",
    "\n",
    "fibonacci_top_down(10, {})"
   ]
  },
  {
   "cell_type": "markdown",
   "metadata": {},
   "source": [
    "### **Enums**"
   ]
  },
  {
   "cell_type": "code",
   "execution_count": 11,
   "metadata": {},
   "outputs": [
    {
     "name": "stdout",
     "output_type": "stream",
     "text": [
      "Direction.NORTH\n",
      "NORTH\n",
      "1\n",
      "The direction is north\n",
      "==============\n",
      "Direction.NORTH\n",
      "NORTH\n",
      "1\n",
      "================\n",
      "Direction.SOUTH\n",
      "SOUTH\n",
      "2\n",
      "================\n",
      "Direction.EAST\n",
      "EAST\n",
      "3\n",
      "================\n",
      "Direction.WEST\n",
      "WEST\n",
      "4\n",
      "================\n"
     ]
    }
   ],
   "source": [
    "from enum import Enum\n",
    "\n",
    "class Direction(Enum):\n",
    "    NORTH = 1\n",
    "    SOUTH = 2\n",
    "    EAST = 3\n",
    "    WEST = 4\n",
    "\n",
    "# Accessing enum members\n",
    "print(Direction.NORTH)        # Output: Direction.NORTH\n",
    "print(Direction.NORTH.name)   # Output: 'NORTH'\n",
    "print(Direction.NORTH.value)  # Output: 1\n",
    "\n",
    "# Comparing enum members\n",
    "if Direction.NORTH == Direction.NORTH:\n",
    "    print(\"The direction is north\")  # This will print\n",
    "\n",
    "# Iterating over enum members\n",
    "print(\"==============\")\n",
    "for direction in Direction:\n",
    "    print(direction)\n",
    "    print(direction.name)\n",
    "    print(direction.value)\n",
    "    print(\"================\")\n"
   ]
  },
  {
   "cell_type": "markdown",
   "metadata": {},
   "source": [
    "<h3>8.1 Triple Step: A child is running up a staircase with n steps and can hop either 1 step, 2 steps, or 3\n",
    "steps at a time. Implement a method to count how many possible ways the child can run up the\n",
    "stairs.\n",
    "Hints: #152, #178, #217, #237, #262, #359</h3>"
   ]
  },
  {
   "cell_type": "markdown",
   "metadata": {},
   "source": [
    "### **Bottom Up Approach**"
   ]
  },
  {
   "cell_type": "code",
   "execution_count": 14,
   "metadata": {},
   "outputs": [
    {
     "name": "stdout",
     "output_type": "stream",
     "text": [
      "Number of ways to climb 5 steps: 13\n"
     ]
    }
   ],
   "source": [
    "# steps - k \n",
    "'''\n",
    " steps - k,\n",
    " 1 <= k <= 3\n",
    " -----------\n",
    " n - steps\n",
    " 0 <= n <= 100\n",
    " \n",
    " -----------\n",
    " \n",
    " - Identify base cases. \n",
    " \n",
    " - Let's try Bottom Up Solution.\n",
    "'''\n",
    "\n",
    "def triple_step_bottom_up(n):\n",
    "    # Initialize the DP array to store the number of ways to reach each step\n",
    "    possible_ways = [0] * (n + 1)\n",
    "    \n",
    "    # Base cases:\n",
    "    possible_ways[0] = 1  # 1 way to stay at step 0 (doing nothing)\n",
    "    \n",
    "    if n >= 1:\n",
    "        possible_ways[1] = 1  # 1 way to reach step 1 (hop 1)\n",
    "    if n >= 2:\n",
    "        possible_ways[2] = 2  # 2 ways to reach step 2 (1+1, 2)\n",
    "    \n",
    "    # Fill the DP table for steps 3 to n\n",
    "    for i in range(3, n + 1):\n",
    "        possible_ways[i] = possible_ways[i - 1] + possible_ways[i - 2] + possible_ways[i - 3]\n",
    "    \n",
    "    return possible_ways[n]\n",
    "\n",
    "# Example usage\n",
    "n = 5\n",
    "print(f\"Number of ways to climb {n} steps: {triple_step_bottom_up(n)}\")"
   ]
  },
  {
   "cell_type": "markdown",
   "metadata": {},
   "source": [
    "### **Top Down Approach - Memoisation**"
   ]
  },
  {
   "cell_type": "code",
   "execution_count": 16,
   "metadata": {},
   "outputs": [
    {
     "name": "stdout",
     "output_type": "stream",
     "text": [
      "Top Down Approach: Number of ways to climb 5 steps: 13\n"
     ]
    }
   ],
   "source": [
    "'''\n",
    "We’ll use a memoization table to avoid recalculating the same results multiple times. The recursive \n",
    "function will break the problem into subproblems and store the results in a cache (dictionary) to prevent repeated calculations.\n",
    "'''\n",
    "def triple_step_top_down(n:int, memo=[]):\n",
    "    if memo is None:\n",
    "        memo = [-1] * (n+1)\n",
    "        \n",
    "    if n <= 0:\n",
    "        return 0\n",
    "    \n",
    "    if n <= 1:\n",
    "        return 1\n",
    "    \n",
    "    if memo[n] != -1:\n",
    "        return memo[n]\n",
    "    \n",
    "    memo[n] = triple_step_top_down(n-1, memo) + triple_step_top_down(n-2, memo) + triple_step_top_down(n-3, memo)\n",
    "    \n",
    "    return memo[n]\n",
    "    \n",
    "    \n",
    "n = 5\n",
    "print(f\"Top Down Approach: Number of ways to climb {n} steps: {triple_step_bottom_up(n)}\")    "
   ]
  },
  {
   "cell_type": "markdown",
   "metadata": {},
   "source": [
    "8.2 Robot in a Grid: Imagine a robot sitting on the upper left corner of grid with r rows and c columns.\n",
    "The robot can only move in two directions, right and down, but certain cells are \"off limits\"such that\n",
    "the robot cannot step on them. Design an algorithm to find a path for the robot from the top left to\n",
    "the bottom right.\n",
    "Hints:#331, #360, #388"
   ]
  },
  {
   "cell_type": "code",
   "execution_count": null,
   "metadata": {},
   "outputs": [],
   "source": []
  }
 ],
 "metadata": {
  "kernelspec": {
   "display_name": "python-shahzaibse",
   "language": "python",
   "name": "python3"
  },
  "language_info": {
   "codemirror_mode": {
    "name": "ipython",
    "version": 3
   },
   "file_extension": ".py",
   "mimetype": "text/x-python",
   "name": "python",
   "nbconvert_exporter": "python",
   "pygments_lexer": "ipython3",
   "version": "3.12.2"
  }
 },
 "nbformat": 4,
 "nbformat_minor": 2
}
