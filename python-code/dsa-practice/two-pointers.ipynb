{
 "cells": [
  {
   "cell_type": "markdown",
   "metadata": {},
   "source": [
    "## **Two Pointer Solutions**"
   ]
  },
  {
   "cell_type": "code",
   "execution_count": 1,
   "metadata": {},
   "outputs": [],
   "source": [
    "from typing import List\n",
    "\n",
    "def find_sum_subarray(nums: List[int], k: int) -> int:\n",
    "    left: int = 0\n",
    "    current_sum: int = 0\n",
    "    n = len(nums)\n",
    "    sums: List[int] = []\n",
    "    \n",
    "    for right in range(n):\n",
    "        current_sum += nums[right]  # Add the right element to the current sum\n",
    "        \n",
    "        # Check if we have reached the desired window size of `k`\n",
    "        if right - left + 1 == k:\n",
    "            sums.append(current_sum)  # Store the sum of the current window\n",
    "            \n",
    "            # Shrink the window from the left\n",
    "            current_sum -= nums[left]  # Remove the element at `left` from `current_sum`\n",
    "            left += 1  # Move the left pointer to the right\n",
    "            \n",
    "    # Return the minimum sum of all subarrays of size `k`\n",
    "    return min(sums) if sums else 0\n"
   ]
  },
  {
   "cell_type": "code",
   "execution_count": 2,
   "metadata": {},
   "outputs": [
    {
     "data": {
      "text/plain": [
       "6"
      ]
     },
     "execution_count": 2,
     "metadata": {},
     "output_type": "execute_result"
    }
   ],
   "source": [
    "find_sum_subarray([1,2,3,4,5], 3)"
   ]
  },
  {
   "cell_type": "markdown",
   "metadata": {},
   "source": [
    "### **Longest Palindromic Substring**\n",
    "\n",
    "Given a string s, return the longest \n",
    "palindromic\n",
    " \n",
    "substring\n",
    " in s.\n",
    "\n",
    " \n",
    "\n",
    "Example 1:\n",
    "\n",
    "Input: s = \"babad\"\n",
    "Output: \"bab\"\n",
    "Explanation: \"aba\" is also a valid answer.\n",
    "Example 2:\n",
    "\n",
    "Input: s = \"cbbd\"\n",
    "Output: \"bb\""
   ]
  },
  {
   "cell_type": "code",
   "execution_count": 3,
   "metadata": {},
   "outputs": [
    {
     "data": {
      "text/plain": [
       "'bab'"
      ]
     },
     "execution_count": 3,
     "metadata": {},
     "output_type": "execute_result"
    }
   ],
   "source": [
    "class Solution:\n",
    "    def longestPalindromeSubstring(self, s: str) -> str:\n",
    "        longest_palindrome = \"\"\n",
    "        n = len(s)\n",
    "        \n",
    "        for i in range(n):\n",
    "            # Check for odd-length palindromes centered at i\n",
    "            left, right = i, i\n",
    "            while left >= 0 and right < n and s[left] == s[right]:\n",
    "                if right - left + 1 > len(longest_palindrome):\n",
    "                    longest_palindrome = s[left:right + 1]\n",
    "                left -= 1\n",
    "                right += 1\n",
    "\n",
    "            # Check for even-length palindromes centered between i and i+1\n",
    "            left, right = i, i + 1\n",
    "            while left >= 0 and right < n and s[left] == s[right]:\n",
    "                if right - left + 1 > len(longest_palindrome):\n",
    "                    longest_palindrome = s[left:right + 1]\n",
    "                left -= 1\n",
    "                right += 1\n",
    "        \n",
    "        return longest_palindrome\n",
    "\n",
    "\n",
    "\n",
    "sol = Solution()\n",
    "sol.longestPalindromeSubstring('babad')"
   ]
  },
  {
   "cell_type": "markdown",
   "metadata": {},
   "source": [
    "### **Let's move a window over a list for a subsequence.**"
   ]
  },
  {
   "cell_type": "code",
   "execution_count": 4,
   "metadata": {},
   "outputs": [
    {
     "name": "stdout",
     "output_type": "stream",
     "text": [
      "[2, 4, 6]\n",
      "[4, 6, 8]\n",
      "[6, 8, 10]\n"
     ]
    }
   ],
   "source": [
    "from typing import List\n",
    "def moving_two_pointers(nums:List[int], k:int):\n",
    "    left: int = 0\n",
    "    right: int = 0\n",
    "    n: int = len(nums)\n",
    "    \n",
    "    #\n",
    "    while right < n:\n",
    "        if right - left + 1 < k:\n",
    "            right += 1\n",
    "        elif right - left + 1 == k:\n",
    "            print(nums[left:right+1]) #Plus 1 adds every element in the subarray.\n",
    "            left += 1\n",
    "            right += 1\n",
    "    \n",
    "\n",
    "moving_two_pointers([2,4,6,8,10], 3) # Even numbers."
   ]
  },
  {
   "cell_type": "markdown",
   "metadata": {},
   "source": [
    "### **Gausian Distribution**"
   ]
  },
  {
   "cell_type": "code",
   "execution_count": 5,
   "metadata": {},
   "outputs": [
    {
     "name": "stdout",
     "output_type": "stream",
     "text": [
      "Detected anomalies:\n",
      "Empty DataFrame\n",
      "Columns: [value, z-score, is_anomaly]\n",
      "Index: []\n"
     ]
    }
   ],
   "source": [
    "import pandas as pd\n",
    "\n",
    "data = {'value': [1, 2, 2, 3, 4, 5, 6, 100]} \n",
    "df = pd.DataFrame(data)\n",
    "\n",
    "# Let's calculate MEAN and Standard Deviation.\n",
    "# type(df['value']) \n",
    "mean = df['value'].mean()\n",
    "standardDeviation = df['value'].std()\n",
    "\n",
    "threshold:int = 3\n",
    "\n",
    "'''\n",
    "Calculating the Z-score is essential in anomaly detection, especially when using Gaussian (normal) distribution, \n",
    "because it helps us understand how far a data point deviates from the mean relative to the overall data distribution\n",
    "'''\n",
    "\n",
    "df['z-score'] = (df['value'] - mean) / standardDeviation\n",
    "\n",
    "df['is_anomaly'] = df['z-score'].apply(lambda x: abs(x) > threshold)\n",
    "\n",
    "print(\"Detected anomalies:\")\n",
    "print(df[df['is_anomaly']])"
   ]
  }
 ],
 "metadata": {
  "kernelspec": {
   "display_name": "python-shahzaibse",
   "language": "python",
   "name": "python3"
  },
  "language_info": {
   "codemirror_mode": {
    "name": "ipython",
    "version": 3
   },
   "file_extension": ".py",
   "mimetype": "text/x-python",
   "name": "python",
   "nbconvert_exporter": "python",
   "pygments_lexer": "ipython3",
   "version": "3.12.2"
  }
 },
 "nbformat": 4,
 "nbformat_minor": 2
}
