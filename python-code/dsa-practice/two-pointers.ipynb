{
 "cells": [
  {
   "cell_type": "markdown",
   "metadata": {},
   "source": [
    "## **Two Pointer Solutions**"
   ]
  },
  {
   "cell_type": "code",
   "execution_count": 1,
   "metadata": {},
   "outputs": [],
   "source": [
    "from typing import List\n",
    "\n",
    "def find_sum_subarray(nums: List[int], k: int) -> int:\n",
    "    left: int = 0\n",
    "    current_sum: int = 0\n",
    "    n = len(nums)\n",
    "    sums: List[int] = []\n",
    "    \n",
    "    for right in range(n):\n",
    "        current_sum += nums[right]  # Add the right element to the current sum\n",
    "        \n",
    "        # Check if we have reached the desired window size of `k`\n",
    "        if right - left + 1 == k:\n",
    "            sums.append(current_sum)  # Store the sum of the current window\n",
    "            \n",
    "            # Shrink the window from the left\n",
    "            current_sum -= nums[left]  # Remove the element at `left` from `current_sum`\n",
    "            left += 1  # Move the left pointer to the right\n",
    "            \n",
    "    # Return the minimum sum of all subarrays of size `k`\n",
    "    return min(sums) if sums else 0\n"
   ]
  },
  {
   "cell_type": "code",
   "execution_count": 2,
   "metadata": {},
   "outputs": [
    {
     "data": {
      "text/plain": [
       "6"
      ]
     },
     "execution_count": 2,
     "metadata": {},
     "output_type": "execute_result"
    }
   ],
   "source": [
    "find_sum_subarray([1,2,3,4,5], 3)"
   ]
  },
  {
   "cell_type": "markdown",
   "metadata": {},
   "source": [
    "### **Longest Palindromic Substring**\n",
    "\n",
    "Given a string s, return the longest \n",
    "palindromic\n",
    " \n",
    "substring\n",
    " in s.\n",
    "\n",
    " \n",
    "\n",
    "Example 1:\n",
    "\n",
    "Input: s = \"babad\"\n",
    "Output: \"bab\"\n",
    "Explanation: \"aba\" is also a valid answer.\n",
    "Example 2:\n",
    "\n",
    "Input: s = \"cbbd\"\n",
    "Output: \"bb\""
   ]
  },
  {
   "cell_type": "code",
   "execution_count": 3,
   "metadata": {},
   "outputs": [
    {
     "data": {
      "text/plain": [
       "'bab'"
      ]
     },
     "execution_count": 3,
     "metadata": {},
     "output_type": "execute_result"
    }
   ],
   "source": [
    "class Solution:\n",
    "    def longestPalindromeSubstring(self, s: str) -> str:\n",
    "        longest_palindrome = \"\"\n",
    "        n = len(s)\n",
    "        \n",
    "        for i in range(n):\n",
    "            # Check for odd-length palindromes centered at i\n",
    "            left, right = i, i\n",
    "            while left >= 0 and right < n and s[left] == s[right]:\n",
    "                if right - left + 1 > len(longest_palindrome):\n",
    "                    longest_palindrome = s[left:right + 1]\n",
    "                left -= 1\n",
    "                right += 1\n",
    "\n",
    "            # Check for even-length palindromes centered between i and i+1\n",
    "            left, right = i, i + 1\n",
    "            while left >= 0 and right < n and s[left] == s[right]:\n",
    "                if right - left + 1 > len(longest_palindrome):\n",
    "                    longest_palindrome = s[left:right + 1]\n",
    "                left -= 1\n",
    "                right += 1\n",
    "        \n",
    "        return longest_palindrome\n",
    "\n",
    "\n",
    "\n",
    "sol = Solution()\n",
    "sol.longestPalindromeSubstring('babad')"
   ]
  },
  {
   "cell_type": "markdown",
   "metadata": {},
   "source": [
    "### **Let's move a window over a list for a subsequence.**"
   ]
  },
  {
   "cell_type": "code",
   "execution_count": 4,
   "metadata": {},
   "outputs": [
    {
     "name": "stdout",
     "output_type": "stream",
     "text": [
      "[2, 4, 6]\n",
      "[4, 6, 8]\n",
      "[6, 8, 10]\n"
     ]
    }
   ],
   "source": [
    "from typing import List\n",
    "def moving_two_pointers(nums:List[int], k:int):\n",
    "    left: int = 0\n",
    "    right: int = 0\n",
    "    n: int = len(nums)\n",
    "    \n",
    "    #\n",
    "    while right < n:\n",
    "        if right - left + 1 < k:\n",
    "            right += 1\n",
    "        elif right - left + 1 == k:\n",
    "            print(nums[left:right+1]) #Plus 1 adds every element in the subarray.\n",
    "            left += 1\n",
    "            right += 1\n",
    "    \n",
    "\n",
    "moving_two_pointers([2,4,6,8,10], 3) # Even numbers."
   ]
  },
  {
   "cell_type": "markdown",
   "metadata": {},
   "source": [
    "### **Gausian Distribution**"
   ]
  },
  {
   "cell_type": "code",
   "execution_count": 5,
   "metadata": {},
   "outputs": [
    {
     "name": "stdout",
     "output_type": "stream",
     "text": [
      "Detected anomalies:\n",
      "Empty DataFrame\n",
      "Columns: [value, z-score, is_anomaly]\n",
      "Index: []\n"
     ]
    }
   ],
   "source": [
    "import pandas as pd\n",
    "\n",
    "data = {'value': [1, 2, 2, 3, 4, 5, 6, 100]} \n",
    "df = pd.DataFrame(data)\n",
    "\n",
    "# Let's calculate MEAN and Standard Deviation.\n",
    "# type(df['value']) \n",
    "mean = df['value'].mean()\n",
    "standardDeviation = df['value'].std()\n",
    "\n",
    "threshold:int = 3\n",
    "\n",
    "'''\n",
    "Calculating the Z-score is essential in anomaly detection, especially when using Gaussian (normal) distribution, \n",
    "because it helps us understand how far a data point deviates from the mean relative to the overall data distribution\n",
    "'''\n",
    "\n",
    "df['z-score'] = (df['value'] - mean) / standardDeviation\n",
    "\n",
    "df['is_anomaly'] = df['z-score'].apply(lambda x: abs(x) > threshold)\n",
    "\n",
    "print(\"Detected anomalies:\")\n",
    "print(df[df['is_anomaly']])"
   ]
  },
  {
   "cell_type": "markdown",
   "metadata": {},
   "source": [
    "### **Remove Duplicates and Return Unique Elements - V2**"
   ]
  },
  {
   "cell_type": "code",
   "execution_count": 6,
   "metadata": {},
   "outputs": [],
   "source": [
    "class Solution:\n",
    "    def removeDuplicates(self, nums: List[int]) -> int:\n",
    "        n:int = len(nums)\n",
    "\n",
    "        if n < 0:\n",
    "            return 0\n",
    "        \n",
    "        unique_nums = [] \n",
    "        left: int = 0\n",
    "        \n",
    "        print(nums)\n",
    "        for right in range(1,n):\n",
    "            if nums[right] != nums[left]:\n",
    "                left += 1\n",
    "                nums[left] = nums[right] \n",
    "                print(nums)\n",
    "                \n",
    "        return left + 1\n",
    "        "
   ]
  },
  {
   "cell_type": "code",
   "execution_count": 7,
   "metadata": {},
   "outputs": [
    {
     "name": "stdout",
     "output_type": "stream",
     "text": [
      "[1, 1, 2]\n",
      "[1, 2, 2]\n",
      "2\n"
     ]
    }
   ],
   "source": [
    "sol: Solution = Solution()\n",
    "\n",
    "response = sol.removeDuplicates([1,1,2])\n",
    "print(response)"
   ]
  },
  {
   "cell_type": "markdown",
   "metadata": {},
   "source": [
    "### **3Sum**\n",
    "\n",
    "Given an integer array nums, return all the triplets [nums[i], nums[j], nums[k]] such that i != j, i != k, and j != k, and nums[i] + nums[j] + nums[k] == 0.\n",
    "\n",
    "Notice that the solution set must not contain duplicate triplets.\n",
    "\n",
    "Example 1:\n",
    "\n",
    "```\n",
    "Input: nums = [-1,0,1,2,-1,-4]\n",
    "Output: [[-1,-1,2],[-1,0,1]]\n",
    "Explanation: \n",
    "nums[0] + nums[1] + nums[2] = (-1) + 0 + 1 = 0.\n",
    "nums[1] + nums[2] + nums[4] = 0 + 1 + (-1) = 0.\n",
    "nums[0] + nums[3] + nums[4] = (-1) + 2 + (-1) = 0.\n",
    "The distinct triplets are [-1,0,1] and [-1,-1,2].\n",
    "Notice that the order of the output and the order of the triplets does not matter.\n",
    "```\n",
    "\n",
    "Example 2:\n",
    "```\n",
    "Input: nums = [0,1,1]\n",
    "Output: []\n",
    "Explanation: The only possible triplet does not sum up to 0.\n",
    "```"
   ]
  },
  {
   "cell_type": "code",
   "execution_count": 8,
   "metadata": {},
   "outputs": [
    {
     "data": {
      "text/plain": [
       "[[-1, -1, 2], [-1, 0, 1]]"
      ]
     },
     "execution_count": 8,
     "metadata": {},
     "output_type": "execute_result"
    }
   ],
   "source": [
    "from typing import List\n",
    "\n",
    "class Solution:\n",
    "    def threeSum(self, nums: List[int]) -> List[List[int]]:\n",
    "        # Sort the array to simplify the two-pointer approach\n",
    "        nums.sort()\n",
    "        n = len(nums)\n",
    "        result = []\n",
    "\n",
    "        for i in range(n):\n",
    "            # Skip duplicates for the first number\n",
    "            if i > 0 and nums[i] == nums[i - 1]:\n",
    "                continue\n",
    "\n",
    "            # Two-pointer approach\n",
    "            left, right = i + 1, n - 1\n",
    "            while left < right:\n",
    "                total = nums[i] + nums[left] + nums[right]\n",
    "                \n",
    "                if total == 0:\n",
    "                    result.append([nums[i], nums[left], nums[right]])\n",
    "                    left += 1\n",
    "                    right -= 1\n",
    "                    \n",
    "                    # Skip duplicates for the second and third numbers\n",
    "                    while left < right and nums[left] == nums[left - 1]:\n",
    "                        left += 1\n",
    "                    while left < right and nums[right] == nums[right + 1]:\n",
    "                        right -= 1\n",
    "                elif total < 0:\n",
    "                    left += 1  # Move left pointer to increase the sum\n",
    "                else:\n",
    "                    right -= 1  # Move right pointer to decrease the sum\n",
    "\n",
    "        return result\n",
    "\n",
    "\n",
    "\n",
    "sol = Solution()\n",
    "sol.threeSum([-1,0,1,2,-1,-4])"
   ]
  },
  {
   "cell_type": "markdown",
   "metadata": {},
   "source": [
    "### **Valid Palindrome - V1**\n",
    "\n",
    "A phrase is a palindrome if, after converting all uppercase letters into lowercase letters and removing all non-alphanumeric characters, it reads the same forward and backward. Alphanumeric characters include letters and numbers.\n",
    "\n",
    "Given a string s, return true if it is a palindrome, or false otherwise."
   ]
  },
  {
   "cell_type": "code",
   "execution_count": 9,
   "metadata": {},
   "outputs": [
    {
     "name": "stdout",
     "output_type": "stream",
     "text": [
      "amanaplanacanalpanama\n",
      "amanaplanacanalpanama\n",
      "True\n",
      "raceacar\n",
      "racaecar\n",
      "False\n"
     ]
    }
   ],
   "source": [
    "import re\n",
    "class Solution:\n",
    "    def remove_whitespace_and_convert_to_lowercase(self, input_string) -> str:\n",
    "        return \"\".join((re.sub(r\"[^a-zA-Z\\s]\", \"\", input_string).lower()).split(\" \"))\n",
    "    def isPalindrome(self, s: str) -> bool:\n",
    "        if s == \" \":\n",
    "            return True\n",
    "        \n",
    "        n:int = len(s)\n",
    "        \n",
    "        s = self.remove_whitespace_and_convert_to_lowercase(s)\n",
    "        print(s)\n",
    "        print(s[::-1])\n",
    "\n",
    "        if s == s[::-1]:\n",
    "            return True\n",
    "        else:\n",
    "            return False\n",
    "        \n",
    "\n",
    "        \n",
    "\n",
    "sol = Solution()\n",
    "print(sol.isPalindrome(s = \"A man, a plan, a canal: Panama\"))\n",
    "print(sol.isPalindrome(s = \"race a car\"))"
   ]
  },
  {
   "cell_type": "code",
   "execution_count": 10,
   "metadata": {},
   "outputs": [
    {
     "name": "stdout",
     "output_type": "stream",
     "text": [
      "biazhahs\n"
     ]
    }
   ],
   "source": [
    "name:str = \"shahzaib\"\n",
    "print(name[::-1])"
   ]
  },
  {
   "cell_type": "markdown",
   "metadata": {},
   "source": [
    "### **Max Sum - Two Pointers**\n",
    "\n",
    "We have a list of nums and we have to return the max sum of subarray of k size."
   ]
  },
  {
   "cell_type": "code",
   "execution_count": 11,
   "metadata": {},
   "outputs": [
    {
     "name": "stdout",
     "output_type": "stream",
     "text": [
      "67\n"
     ]
    }
   ],
   "source": [
    "from typing import List\n",
    "class Solution:\n",
    "    def maxSum(self,nums:int, k:int) -> int:\n",
    "        n: int = len(nums)\n",
    "        sum_list:List[int] = []\n",
    "        left:int = 0\n",
    "        sum_result:int = 0\n",
    "        \n",
    "        for right in range(n):\n",
    "            sum_result += nums[right]\n",
    "            if right - left + 1 == k:\n",
    "                sum_list.append(sum_result)\n",
    "                sum_result -= nums[left]\n",
    "                left += 1\n",
    "        \n",
    "        return max(sum_list)\n",
    "\n",
    "\n",
    "sol = Solution()\n",
    "print(sol.maxSum([2,4,6,8,10,12,14,16,18,20,21,22,24], 3))"
   ]
  },
  {
   "cell_type": "markdown",
   "metadata": {},
   "source": [
    "### **Valid Palindrome - V2**\n",
    "\n",
    "A phrase is a palindrome if, after converting all uppercase letters into lowercase letters and removing all non-alphanumeric characters, it reads the same forward and backward. Alphanumeric characters include letters and numbers.\n",
    "\n",
    "Given a string s, return true if it is a palindrome, or false otherwise."
   ]
  },
  {
   "cell_type": "code",
   "execution_count": 12,
   "metadata": {},
   "outputs": [
    {
     "name": "stdout",
     "output_type": "stream",
     "text": [
      "True\n",
      "False\n"
     ]
    }
   ],
   "source": [
    "class Solution:\n",
    "    def isPalindrome(self, s: str) -> bool:\n",
    "        n = len(s)\n",
    "        left, right = 0, n - 1\n",
    "        #\n",
    "        while left < right:\n",
    "            # Move left pointer until it points to an alphanumeric character\n",
    "            while left < right and not s[left].isalnum():\n",
    "                left += 1\n",
    "            # Move right pointer until it points to an alphanumeric character\n",
    "            while left < right and not s[right].isalnum():\n",
    "                right -= 1\n",
    "            \n",
    "            # Compare the characters (case insensitive)\n",
    "            if s[left].lower() != s[right].lower():\n",
    "                return False\n",
    "            \n",
    "            # Move both pointers inward\n",
    "            left += 1\n",
    "            right -= 1\n",
    "        \n",
    "        return True\n",
    "    \n",
    "sol = Solution()\n",
    "print(sol.isPalindrome(\"A man, a plan, a canal: Panama\"))  # Output: True\n",
    "print(sol.isPalindrome(\"race a car\"))   \n",
    "        "
   ]
  },
  {
   "cell_type": "markdown",
   "metadata": {},
   "source": [
    "### **Two Pointer Technique - No Window Size**"
   ]
  },
  {
   "cell_type": "code",
   "execution_count": null,
   "metadata": {},
   "outputs": [
    {
     "name": "stdout",
     "output_type": "stream",
     "text": [
      "abba\n"
     ]
    }
   ],
   "source": [
    "class Solution:\n",
    "    def longestPalindrome(self, s: str) -> str:\n",
    "        def expandAroundCenter(left: int, right: int) -> str:\n",
    "            # Expand outward as long as the characters match\n",
    "            while left >= 0 and right < len(s) and s[left] == s[right]:\n",
    "                left -= 1\n",
    "                right += 1\n",
    "            # Return the substring from the last valid indices\n",
    "            return s[left + 1:right]\n",
    "\n",
    "        n = len(s)\n",
    "        if n == 0:\n",
    "            return \"\"\n",
    "\n",
    "        longest = \"\"\n",
    "        for i in range(n):\n",
    "            # Odd-length palindrome (single center)\n",
    "            odd = expandAroundCenter(i, i)\n",
    "            # Even-length palindrome (two centers)\n",
    "            even = expandAroundCenter(i, i + 1)\n",
    "            # Update the longest palindrome\n",
    "            longest = max(longest, odd, even, key=len)\n",
    "\n",
    "        return longest\n",
    "\n",
    "# Example usage\n",
    "sol = Solution()\n",
    "print(sol.longestPalindrome(\"babbad\"))  # Output: \"bab\" or \"aba\"\n"
   ]
  },
  {
   "cell_type": "code",
   "execution_count": 14,
   "metadata": {},
   "outputs": [],
   "source": [
    "# Langgraph TypedDict and Pydantic model that is implemented for created state of a graph.\n",
    "from typing import TypedDict\n",
    "from pydantic import BaseModel\n",
    "\n",
    "# Using TypedDict\n",
    "class AppState(TypedDict):\n",
    "    user_id: int\n",
    "    user_name: str\n",
    "    is_active: bool\n",
    "\n",
    "# Using Pydantic\n",
    "class AppStateModel(BaseModel):\n",
    "    user_id: int\n",
    "    user_name: str\n",
    "    is_active: bool\n"
   ]
  },
  {
   "cell_type": "markdown",
   "metadata": {},
   "source": [
    "### **Happy Number**\n",
    "\n",
    "Write an algorithm to determine if a number n is happy.\n",
    "\n",
    "A happy number is a number defined by the following process:\n",
    "\n",
    "- Starting with any positive integer, replace the number by the sum of the squares of its digits.\n",
    "- Repeat the process until the number equals 1 (where it will stay), or it loops endlessly in a cycle which does not include 1.\n",
    "- Those numbers for which this process ends in 1 are happy.\n",
    "\n",
    "Return true if n is a happy number, and false if not.\n",
    "\n",
    "```\n",
    "Example 1:\n",
    "\n",
    "Input: n = 19\n",
    "Output: true\n",
    "Explanation:\n",
    "12 + 92 = 82\n",
    "82 + 22 = 68\n",
    "62 + 82 = 100\n",
    "12 + 02 + 02 = 1\n",
    "\n",
    "-------------\n",
    "\n",
    "Example 2:\n",
    "\n",
    "Input: n = 2\n",
    "Output: false\n",
    "```\n",
    "\n"
   ]
  },
  {
   "cell_type": "code",
   "execution_count": 10,
   "metadata": {},
   "outputs": [
    {
     "name": "stdout",
     "output_type": "stream",
     "text": [
      "True\n"
     ]
    }
   ],
   "source": [
    "class Solution:\n",
    "    @staticmethod\n",
    "    def isHappy(n: int) -> bool:\n",
    "        def sum_of_squares(num: int) -> int:\n",
    "            total = 0\n",
    "            while num > 0:\n",
    "                digit = num % 10\n",
    "                total += digit ** 2\n",
    "                num //= 10  # Correctly update num\n",
    "            return total\n",
    "\n",
    "        if n <= 0:  # Negative numbers or 0 cannot be happy\n",
    "            return False\n",
    "        \n",
    "        left: int = n  # Slow pointer\n",
    "        right: int = sum_of_squares(n)  # Fast pointer\n",
    "        \n",
    "        while left != right and right != 1:\n",
    "            left = sum_of_squares(left)  # Slow pointer moves one step\n",
    "            right = sum_of_squares(sum_of_squares(right))  # Fast pointer moves two steps\n",
    "        \n",
    "        return right == 1  # Happy if fast pointer reaches 1\n",
    "\n",
    "# Example usage\n",
    "print(Solution.isHappy(19))  # Output: True"
   ]
  },
  {
   "cell_type": "code",
   "execution_count": 6,
   "metadata": {},
   "outputs": [
    {
     "data": {
      "text/plain": [
       "9"
      ]
     },
     "execution_count": 6,
     "metadata": {},
     "output_type": "execute_result"
    }
   ],
   "source": [
    "19 % 10"
   ]
  },
  {
   "cell_type": "code",
   "execution_count": 7,
   "metadata": {},
   "outputs": [
    {
     "data": {
      "text/plain": [
       "1"
      ]
     },
     "execution_count": 7,
     "metadata": {},
     "output_type": "execute_result"
    }
   ],
   "source": [
    "19 // 10"
   ]
  },
  {
   "cell_type": "markdown",
   "metadata": {},
   "source": [
    "### **Move Zeros**\n",
    "\n",
    "Given an integer array nums, move all 0's to the end of it while maintaining the relative order of the non-zero elements.\n",
    "\n",
    "Note that you must do this in-place without making a copy of the array."
   ]
  },
  {
   "cell_type": "code",
   "execution_count": 13,
   "metadata": {},
   "outputs": [
    {
     "name": "stdout",
     "output_type": "stream",
     "text": [
      "[1, 3, 12, 0, 0]\n"
     ]
    }
   ],
   "source": [
    "from typing import List \n",
    "class Solution:\n",
    "    def moveZero(self,nums: List[int]):\n",
    "        zero_count:int = nums.count(0)\n",
    "        # if zero_count != 0:\n",
    "        #     return\n",
    "        nums = list(filter(lambda x: x != 0, nums)) + ([0] * zero_count)\n",
    "        return nums\n",
    "\n",
    "sol:Solution = Solution()\n",
    "print(sol.moveZero([0,1,0,3,12]))"
   ]
  },
  {
   "cell_type": "code",
   "execution_count": 3,
   "metadata": {},
   "outputs": [],
   "source": [
    "sol.moveZero([0])"
   ]
  },
  {
   "cell_type": "code",
   "execution_count": null,
   "metadata": {},
   "outputs": [
    {
     "name": "stdout",
     "output_type": "stream",
     "text": [
      "3\n",
      "4\n"
     ]
    }
   ],
   "source": [
    "\"\"\"\n",
    "Let's revise using 'Two Pointers Technique'\n",
    "\n",
    "A two-pointer approach could be helpful here. \n",
    "The idea would be to have one pointer for iterating the array and another pointer \n",
    "that just works on the non-zero elements of the array.\n",
    "\"\"\"\n",
    "from typing import List \n",
    "class Solution:\n",
    "    def moveZero(self,nums: List[int]):\n",
    "        non_zero_index:int = 0\n",
    "        n:int = len(nums)\n",
    "\n",
    "        for i in range(n):\n",
    "            if nums[i] != 0:\n",
    "                nums[non_zero_index] = nums[i]\n",
    "                non_zero_index += 1\n",
    "        \n",
    "        for i in range(non_zero_index, n):\n",
    "            nums[i] = 0\n",
    "            \n",
    "\n",
    "sol:Solution = Solution()\n",
    "sol.moveZero([0,1,0,3,12])"
   ]
  },
  {
   "cell_type": "code",
   "execution_count": 16,
   "metadata": {},
   "outputs": [
    {
     "name": "stdout",
     "output_type": "stream",
     "text": [
      "[1, 3, 12, 0, 0]\n"
     ]
    }
   ],
   "source": [
    "\"\"\"\n",
    "Let's revise using 'Two Pointers Technique'\n",
    "\n",
    "A two-pointer approach could be helpful here. \n",
    "The idea would be to have one pointer for iterating the array and another pointer \n",
    "that just works on the non-zero elements of the array.\n",
    "\"\"\"\n",
    "from typing import List \n",
    "class Solution:\n",
    "    def moveZero(self,nums: List[int]):\n",
    "        n:int = len(nums)\n",
    "        left:int = 0\n",
    "        \n",
    "        for right in range(n):\n",
    "            if nums[right] != 0:\n",
    "                nums[left], nums[right] = nums[right], nums[left]\n",
    "                left += 1\n",
    "        print(nums)\n",
    "        \n",
    "            \n",
    "\n",
    "sol:Solution = Solution()\n",
    "sol.moveZero([0,1,0,3,12])"
   ]
  }
 ],
 "metadata": {
  "kernelspec": {
   "display_name": "python-shahzaibse",
   "language": "python",
   "name": "python3"
  },
  "language_info": {
   "codemirror_mode": {
    "name": "ipython",
    "version": 3
   },
   "file_extension": ".py",
   "mimetype": "text/x-python",
   "name": "python",
   "nbconvert_exporter": "python",
   "pygments_lexer": "ipython3",
   "version": "3.12.2"
  }
 },
 "nbformat": 4,
 "nbformat_minor": 2
}
