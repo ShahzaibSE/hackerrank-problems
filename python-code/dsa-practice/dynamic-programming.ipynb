{
 "cells": [
  {
   "cell_type": "markdown",
   "metadata": {},
   "source": [
    "## **Dynamic Programming**"
   ]
  },
  {
   "cell_type": "code",
   "execution_count": 17,
   "metadata": {},
   "outputs": [],
   "source": [
    "def fibonacci_series_recursive(n):\n",
    "    if n <= 1:\n",
    "       return n\n",
    "    else:\n",
    "       return fibonacci_series_recursive(n-1) + fibonacci_series_recursive(n-2)"
   ]
  },
  {
   "cell_type": "code",
   "execution_count": 18,
   "metadata": {},
   "outputs": [
    {
     "data": {
      "text/plain": [
       "55"
      ]
     },
     "execution_count": 18,
     "metadata": {},
     "output_type": "execute_result"
    }
   ],
   "source": [
    "fibonacci_series_recursive(10)"
   ]
  },
  {
   "cell_type": "markdown",
   "metadata": {},
   "source": [
    "## **Iterative Appraoch**"
   ]
  },
  {
   "cell_type": "code",
   "execution_count": 19,
   "metadata": {},
   "outputs": [
    {
     "name": "stdout",
     "output_type": "stream",
     "text": [
      "1\n",
      "1\n",
      "2\n",
      "3\n",
      "5\n",
      "8\n",
      "13\n",
      "21\n"
     ]
    },
    {
     "data": {
      "text/plain": [
       "'\\nTime Complexity: O(n)\\nSpace Complexity: O(1)\\n'"
      ]
     },
     "execution_count": 19,
     "metadata": {},
     "output_type": "execute_result"
    }
   ],
   "source": [
    "def fibonacci_iterative(n):\n",
    "    num1: int = 0\n",
    "    num2: int = 1\n",
    "    \n",
    "    result: int = num1 + num2\n",
    "    \n",
    "    for i in range(2,n):\n",
    "        current = num1 + num2\n",
    "        num2 = num1\n",
    "        num1 = current\n",
    "        #\n",
    "        print(current)\n",
    "\n",
    "fibonacci_iterative(10)\n",
    "\n",
    "'''\n",
    "Time Complexity: O(n)\n",
    "Space Complexity: O(1)\n",
    "'''\n",
    "        "
   ]
  },
  {
   "cell_type": "markdown",
   "metadata": {},
   "source": [
    "### **Top Down Technique**"
   ]
  },
  {
   "cell_type": "code",
   "execution_count": 20,
   "metadata": {},
   "outputs": [
    {
     "data": {
      "text/plain": [
       "55"
      ]
     },
     "execution_count": 20,
     "metadata": {},
     "output_type": "execute_result"
    }
   ],
   "source": [
    "def fibonacci_top_down(n:int, memo={}):\n",
    "    if n <= 1:\n",
    "        return n\n",
    "    if n in memo:\n",
    "        return memo[n]\n",
    "    \n",
    "    memo[n] = fibonacci_series_recursive(n-1) + fibonacci_series_recursive(n-2)\n",
    "    \n",
    "    return memo[n]\n",
    "    \n",
    "\n",
    "fibonacci_top_down(10, {})"
   ]
  },
  {
   "cell_type": "markdown",
   "metadata": {},
   "source": [
    "### **Enums**"
   ]
  },
  {
   "cell_type": "code",
   "execution_count": 21,
   "metadata": {},
   "outputs": [
    {
     "name": "stdout",
     "output_type": "stream",
     "text": [
      "Direction.NORTH\n",
      "NORTH\n",
      "1\n",
      "The direction is north\n",
      "==============\n",
      "Direction.NORTH\n",
      "NORTH\n",
      "1\n",
      "================\n",
      "Direction.SOUTH\n",
      "SOUTH\n",
      "2\n",
      "================\n",
      "Direction.EAST\n",
      "EAST\n",
      "3\n",
      "================\n",
      "Direction.WEST\n",
      "WEST\n",
      "4\n",
      "================\n"
     ]
    }
   ],
   "source": [
    "from enum import Enum\n",
    "\n",
    "class Direction(Enum):\n",
    "    NORTH = 1\n",
    "    SOUTH = 2\n",
    "    EAST = 3\n",
    "    WEST = 4\n",
    "\n",
    "# Accessing enum members\n",
    "print(Direction.NORTH)        # Output: Direction.NORTH\n",
    "print(Direction.NORTH.name)   # Output: 'NORTH'\n",
    "print(Direction.NORTH.value)  # Output: 1\n",
    "\n",
    "# Comparing enum members\n",
    "if Direction.NORTH == Direction.NORTH:\n",
    "    print(\"The direction is north\")  # This will print\n",
    "\n",
    "# Iterating over enum members\n",
    "print(\"==============\")\n",
    "for direction in Direction:\n",
    "    print(direction)\n",
    "    print(direction.name)\n",
    "    print(direction.value)\n",
    "    print(\"================\")\n"
   ]
  },
  {
   "cell_type": "markdown",
   "metadata": {},
   "source": [
    "<h3>8.1 Triple Step: A child is running up a staircase with n steps and can hop either 1 step, 2 steps, or 3\n",
    "steps at a time. Implement a method to count how many possible ways the child can run up the\n",
    "stairs.\n",
    "Hints: #152, #178, #217, #237, #262, #359</h3>"
   ]
  },
  {
   "cell_type": "markdown",
   "metadata": {},
   "source": [
    "### **Bottom Up Approach**"
   ]
  },
  {
   "cell_type": "code",
   "execution_count": 22,
   "metadata": {},
   "outputs": [
    {
     "name": "stdout",
     "output_type": "stream",
     "text": [
      "Number of ways to climb 5 steps: 13\n"
     ]
    }
   ],
   "source": [
    "# steps - k \n",
    "'''\n",
    " steps - k,\n",
    " 1 <= k <= 3\n",
    " -----------\n",
    " n - steps\n",
    " 0 <= n <= 100\n",
    " \n",
    " -----------\n",
    " \n",
    " - Identify base cases. \n",
    " \n",
    " - Let's try Bottom Up Solution.\n",
    "'''\n",
    "\n",
    "def triple_step_bottom_up(n):\n",
    "    # Initialize the DP array to store the number of ways to reach each step\n",
    "    possible_ways = [0] * (n + 1)\n",
    "    \n",
    "    # Base cases:\n",
    "    possible_ways[0] = 1  # 1 way to stay at step 0 (doing nothing)\n",
    "    \n",
    "    if n >= 1:\n",
    "        possible_ways[1] = 1  # 1 way to reach step 1 (hop 1)\n",
    "    if n >= 2:\n",
    "        possible_ways[2] = 2  # 2 ways to reach step 2 (1+1, 2)\n",
    "    \n",
    "    # Fill the DP table for steps 3 to n\n",
    "    for i in range(3, n + 1):\n",
    "        possible_ways[i] = possible_ways[i - 1] + possible_ways[i - 2] + possible_ways[i - 3]\n",
    "    \n",
    "    return possible_ways[n]\n",
    "\n",
    "# Example usage\n",
    "n = 5\n",
    "print(f\"Number of ways to climb {n} steps: {triple_step_bottom_up(n)}\")"
   ]
  },
  {
   "cell_type": "markdown",
   "metadata": {},
   "source": [
    "### **Top Down Approach - Memoisation**"
   ]
  },
  {
   "cell_type": "code",
   "execution_count": 23,
   "metadata": {},
   "outputs": [
    {
     "name": "stdout",
     "output_type": "stream",
     "text": [
      "Top Down Approach: Number of ways to climb 5 steps: 13\n"
     ]
    }
   ],
   "source": [
    "'''\n",
    "We’ll use a memoization table to avoid recalculating the same results multiple times. The recursive \n",
    "function will break the problem into subproblems and store the results in a cache (dictionary) to prevent repeated calculations.\n",
    "'''\n",
    "def triple_step_top_down(n:int, memo=[]):\n",
    "    if memo is None:\n",
    "        memo = [-1] * (n+1)\n",
    "        \n",
    "    if n <= 0:\n",
    "        return 0\n",
    "    \n",
    "    if n <= 1:\n",
    "        return 1\n",
    "    \n",
    "    if memo[n] != -1:\n",
    "        return memo[n]\n",
    "    \n",
    "    memo[n] = triple_step_top_down(n-1, memo) + triple_step_top_down(n-2, memo) + triple_step_top_down(n-3, memo)\n",
    "    \n",
    "    return memo[n]\n",
    "    \n",
    "    \n",
    "n = 5\n",
    "print(f\"Top Down Approach: Number of ways to climb {n} steps: {triple_step_bottom_up(n)}\")    "
   ]
  },
  {
   "cell_type": "markdown",
   "metadata": {},
   "source": [
    "8.2 Robot in a Grid: Imagine a robot sitting on the upper left corner of grid with r rows and c columns.\n",
    "The robot can only move in two directions, right and down, but certain cells are \"off limits\"such that\n",
    "the robot cannot step on them. Design an algorithm to find a path for the robot from the top left to\n",
    "the bottom right.\n",
    "Hints:#331, #360, #388"
   ]
  },
  {
   "cell_type": "code",
   "execution_count": 24,
   "metadata": {},
   "outputs": [
    {
     "data": {
      "text/plain": [
       "set"
      ]
     },
     "execution_count": 24,
     "metadata": {},
     "output_type": "execute_result"
    }
   ],
   "source": [
    "new_set = {1,2}\n",
    "type(new_set)"
   ]
  },
  {
   "cell_type": "markdown",
   "metadata": {},
   "source": [
    "### **Top Down Approach**"
   ]
  },
  {
   "cell_type": "code",
   "execution_count": 25,
   "metadata": {},
   "outputs": [
    {
     "name": "stdout",
     "output_type": "stream",
     "text": [
      "Path found: [(2, 2), (1, 2), (0, 2), (0, 1), (0, 0)]\n"
     ]
    }
   ],
   "source": [
    "def find_path_top_down(grid):\n",
    "    '''\n",
    "    A grid is something with rows and columns. Here, 'not grid' -> row & 'not grid[0]' -> column, assuming columns are even in length.\n",
    "    ''' \n",
    "    if not grid or not grid[0]: \n",
    "        return None  # Return None if grid is empty or invalid\n",
    "\n",
    "    memo = {}  # Memoization Table\n",
    "    path = []\n",
    "    \n",
    "    # Start from the bottom-right corner (r-1, c-1) and find the path\n",
    "    if get_path(grid, len(grid) - 1, len(grid[0]) - 1, path, memo):\n",
    "        return path[::-1]  # Reverse the path since we're building it backwards\n",
    "    \n",
    "    return None\n",
    "\n",
    "def get_path(grid, r, c, path, memo):\n",
    "    # Check if out of bounds or if the cell is off-limits\n",
    "    if r < 0 or c < 0 or not grid[r][c]:\n",
    "        return False\n",
    "    \n",
    "    # Create a point for the current position\n",
    "    point = (r, c)\n",
    "    \n",
    "    # Check memoization table to see if this point has already been computed\n",
    "    if point in memo:\n",
    "        return memo[point]\n",
    "    \n",
    "    '''\n",
    "    Since we're going backwards from the largest value to the smallest value, smallest value is our destination, i.e., the origin.\n",
    "    If we reach the origin, we found a valid path.\n",
    "    '''\n",
    "    at_origin = (r == 0 and c == 0)\n",
    "    \n",
    "    # Check if we can reach the origin or come from above or left\n",
    "    if at_origin or get_path(grid, r - 1, c, path, memo) or get_path(grid, r, c - 1, path, memo):\n",
    "        path.append(point)  # Add current point to path\n",
    "        memo[point] = True  # Mark as part of a valid path in memoization table\n",
    "        return True\n",
    "    \n",
    "    # Mark this point as unreachable and store in memoization table\n",
    "    memo[point] = False\n",
    "    return False\n",
    "\n",
    "# Example usage\n",
    "grid = [\n",
    "    [True, True, True],\n",
    "    [True, False, True],\n",
    "    [False, True, True]\n",
    "]\n",
    "\n",
    "path = find_path_top_down(grid)\n",
    "if path:\n",
    "    print(\"Path found:\", path)\n",
    "else:\n",
    "    print(\"No valid path found\")\n"
   ]
  },
  {
   "cell_type": "code",
   "execution_count": 26,
   "metadata": {},
   "outputs": [
    {
     "name": "stdout",
     "output_type": "stream",
     "text": [
      "False\n"
     ]
    }
   ],
   "source": [
    "r = 1 \n",
    "c = 2\n",
    "at_origin = (r == 0 and c == 0)\n",
    "# print(at_origin)\n",
    "\n",
    "if at_origin:\n",
    "    print(True)\n",
    "else:\n",
    "    print(False)"
   ]
  },
  {
   "cell_type": "markdown",
   "metadata": {},
   "source": [
    "### **Bottom Up / Iterative - Dynamic Programming**"
   ]
  },
  {
   "cell_type": "code",
   "execution_count": 27,
   "metadata": {},
   "outputs": [],
   "source": [
    "def find_path_bottom_up(grid, r, c, path):\n",
    "    if not grid or not grid[0]: \n",
    "        return None  # Return None if grid is empty or invalid\n",
    "    grid = [[0]*(c-1)]*(r-1)\n",
    "    print(grid)\n"
   ]
  },
  {
   "cell_type": "code",
   "execution_count": 28,
   "metadata": {},
   "outputs": [
    {
     "data": {
      "text/plain": [
       "[[0, 0, 0, 0],\n",
       " [0, 0, 0, 0],\n",
       " [0, 0, 0, 0],\n",
       " [0, 0, 0, 0],\n",
       " [0, 0, 0, 0],\n",
       " [0, 0, 0, 0],\n",
       " [0, 0, 0, 0],\n",
       " [0, 0, 0, 0],\n",
       " [0, 0, 0, 0],\n",
       " [0, 0, 0, 0]]"
      ]
     },
     "execution_count": 28,
     "metadata": {},
     "output_type": "execute_result"
    }
   ],
   "source": [
    "[[0]*4] * 10"
   ]
  },
  {
   "cell_type": "markdown",
   "metadata": {},
   "source": [
    "### **Two Pointer Problem**\n",
    "I have an array nums, in that array I need to identify subarrays that are distinct then add their sums in a separate array before returning max sum of a subarray.\n",
    "\n",
    "- Subarray length is **k**"
   ]
  },
  {
   "cell_type": "code",
   "execution_count": 29,
   "metadata": {},
   "outputs": [
    {
     "name": "stdout",
     "output_type": "stream",
     "text": [
      "24\n",
      "17\n"
     ]
    }
   ],
   "source": [
    "def distinct_subarray(nums, k):\n",
    "    left = 0\n",
    "    current_sum = 0\n",
    "    max_sum = 0\n",
    "    distinct_elements = set()\n",
    "    n = len(nums)  # total size of nums list\n",
    "    \n",
    "    for right in range(n):\n",
    "        # Check if the current element is already in the set (non-distinct)\n",
    "        while nums[right] in distinct_elements:\n",
    "            distinct_elements.remove(nums[left])\n",
    "            current_sum -= nums[left]  # Remove the value at `left` from the sum\n",
    "            left += 1  # Shrink the window\n",
    "        \n",
    "        # Add the current element to the set and include it in the sum\n",
    "        distinct_elements.add(nums[right])\n",
    "        current_sum += nums[right]\n",
    "        \n",
    "        # If the window size is exactly `k`, update the maximum sum\n",
    "        if right - left + 1 == k:\n",
    "            max_sum = max(max_sum, current_sum)\n",
    "            \n",
    "            # Slide the window by removing the leftmost element\n",
    "            distinct_elements.remove(nums[left])\n",
    "            current_sum -= nums[left]\n",
    "            left += 1\n",
    "    \n",
    "    return max_sum\n",
    "\n",
    "# Example usage:\n",
    "print(distinct_subarray([1, 3, 4, 6, 7, 8, 9, 9, 9], 3))  # Output: 21 (from subarray [7, 8, 9])\n",
    "print(distinct_subarray([4,2,4,6,7,7], 3))  # Output: 21 (from subarray [7, 8, 9])\n"
   ]
  },
  {
   "cell_type": "markdown",
   "metadata": {},
   "source": [
    "Suppose we have days range 1 through 365, and we can buy tickets <strong>costs[0]</strong>, <strong>costs[1]</strong>, and <strong>costs[2]</strong>. Costs array is sorted, depending days array like [1,3,4,6,7,8], tell me the minimum cost to go to a trip using tickets with cost stored in array costs.\n",
    "\n",
    "cost[0] - 1 day <br>\n",
    "cost[1] - 7 day <br>\n",
    "cost[2] - 30 days <br>"
   ]
  },
  {
   "cell_type": "markdown",
   "metadata": {},
   "source": [
    "### **Bottom Up Approach**"
   ]
  },
  {
   "cell_type": "code",
   "execution_count": 30,
   "metadata": {},
   "outputs": [
    {
     "name": "stdout",
     "output_type": "stream",
     "text": [
      "9\n"
     ]
    }
   ],
   "source": [
    "def mincostTickets_bottom_up(days, costs):\n",
    "    n = len(days)\n",
    "    last_day = days[-1]\n",
    "    dp = [0] * (last_day + 1)  # dp[i] stores the minimum cost up to day i\n",
    "    day_set = set(days)  # For quick lookup of travel days\n",
    "    \n",
    "    for day in range(1, last_day + 1):\n",
    "        if day not in day_set:\n",
    "            dp[day] = dp[day - 1]  # No travel on this day, same cost as previous day\n",
    "        else:\n",
    "            # Take the minimum of buying 1-day, 7-day, or 30-day ticket\n",
    "            dp[day] = min(\n",
    "                dp[day - 1] + costs[0],  # 1-day pass\n",
    "                dp[max(0, day - 7)] + costs[1],  # 7-day pass\n",
    "                dp[max(0, day - 30)] + costs[2]  # 30-day pass\n",
    "            )\n",
    "    \n",
    "    return dp[last_day]\n",
    "\n",
    "# Example usage\n",
    "days = [1, 3, 4, 6, 7, 8]\n",
    "costs = [2, 7, 15]\n",
    "print(mincostTickets_bottom_up(days, costs))  # Output: 11\n"
   ]
  },
  {
   "cell_type": "code",
   "execution_count": 31,
   "metadata": {},
   "outputs": [
    {
     "name": "stdout",
     "output_type": "stream",
     "text": [
      "('s', 2)\n",
      "('h', 4)\n",
      "('a', 6)\n",
      "('h', 8)\n"
     ]
    }
   ],
   "source": [
    "for i in zip('shahzaib', [2,4,6,8]):\n",
    "    print(i)"
   ]
  },
  {
   "cell_type": "markdown",
   "metadata": {},
   "source": [
    "### **Pascal Triangle - Dynamic Programming**\n",
    "\n",
    "We are using **Bottom Up Approach**"
   ]
  },
  {
   "cell_type": "code",
   "execution_count": 32,
   "metadata": {},
   "outputs": [],
   "source": [
    "from typing import List\n",
    "\n",
    "class Solution:\n",
    "    def generate(self, numRows: int) -> List[List[int]]:\n",
    "        dp = [[1]]  # Start with the first row already in dp\n",
    "\n",
    "        if numRows == 1:\n",
    "            return dp  # Return the triangle with just the first row\n",
    "        \n",
    "        # Generate each row iteratively\n",
    "        for i in range(1, numRows):\n",
    "            row = [1] * (i + 1)  # Initialize the current row with 1s\n",
    "            \n",
    "            # Fill in the middle elements based on the previous row\n",
    "            for j in range(1, i):\n",
    "                row[j] = dp[i - 1][j - 1] + dp[i - 1][j]\n",
    "            \n",
    "            dp.append(row)  # Append the current row to dp\n",
    "        \n",
    "        return dp "
   ]
  }
 ],
 "metadata": {
  "kernelspec": {
   "display_name": "python-shahzaibse",
   "language": "python",
   "name": "python3"
  },
  "language_info": {
   "codemirror_mode": {
    "name": "ipython",
    "version": 3
   },
   "file_extension": ".py",
   "mimetype": "text/x-python",
   "name": "python",
   "nbconvert_exporter": "python",
   "pygments_lexer": "ipython3",
   "version": "3.12.2"
  }
 },
 "nbformat": 4,
 "nbformat_minor": 2
}
