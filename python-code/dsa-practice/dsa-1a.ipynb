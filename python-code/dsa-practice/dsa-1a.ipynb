{
 "cells": [
  {
   "cell_type": "code",
   "execution_count": 1,
   "metadata": {},
   "outputs": [],
   "source": [
    "from collections import Counter\n",
    "import math\n",
    "import pandas as pd\n",
    "import numpy as np"
   ]
  },
  {
   "cell_type": "markdown",
   "metadata": {},
   "source": [
    "### **A left rotation operation on an array of size  shifts each of the array's elements  unit to the left. Given an integer, , rotate the array that many steps left and return the result.**"
   ]
  },
  {
   "cell_type": "code",
   "execution_count": 2,
   "metadata": {},
   "outputs": [],
   "source": [
    "d = 2\n",
    "arr = [1,2,3,4,5]"
   ]
  },
  {
   "cell_type": "code",
   "execution_count": 3,
   "metadata": {},
   "outputs": [],
   "source": [
    "def rotateLeft(d, arr):\n",
    "    n = len(arr)\n",
    "    # Constraining rotation to not out of bounds array.\n",
    "    d = d % n\n",
    "    print(f\"Constraining rotation: {d}\")\n",
    "    # Rotation\n",
    "    rotated_arr = arr[d:] + arr[:d]\n",
    "    \n",
    "    return rotated_arr"
   ]
  },
  {
   "cell_type": "code",
   "execution_count": 4,
   "metadata": {},
   "outputs": [
    {
     "name": "stdout",
     "output_type": "stream",
     "text": [
      "Constraining rotation: 2\n"
     ]
    },
    {
     "data": {
      "text/plain": [
       "[3, 4, 5, 1, 2]"
      ]
     },
     "execution_count": 4,
     "metadata": {},
     "output_type": "execute_result"
    }
   ],
   "source": [
    "rotateLeft(d, arr)"
   ]
  },
  {
   "cell_type": "code",
   "execution_count": 5,
   "metadata": {},
   "outputs": [
    {
     "data": {
      "text/plain": [
       "[1, 2, 2, 3]"
      ]
     },
     "execution_count": 5,
     "metadata": {},
     "output_type": "execute_result"
    }
   ],
   "source": [
    "[1,2] + [2,3]"
   ]
  },
  {
   "cell_type": "code",
   "execution_count": 6,
   "metadata": {},
   "outputs": [
    {
     "data": {
      "text/plain": [
       "'eeee'"
      ]
     },
     "execution_count": 6,
     "metadata": {},
     "output_type": "execute_result"
    }
   ],
   "source": [
    "\"ee\" * 2"
   ]
  },
  {
   "cell_type": "markdown",
   "metadata": {},
   "source": [
    "### **Reverse an array**"
   ]
  },
  {
   "cell_type": "code",
   "execution_count": 7,
   "metadata": {},
   "outputs": [],
   "source": [
    "def reverseArray(a):\n",
    "    return a[::-1]"
   ]
  },
  {
   "cell_type": "code",
   "execution_count": 8,
   "metadata": {},
   "outputs": [
    {
     "data": {
      "text/plain": [
       "[5, 4, 3, 2, 1]"
      ]
     },
     "execution_count": 8,
     "metadata": {},
     "output_type": "execute_result"
    }
   ],
   "source": [
    "reverseArray([1,2,3,4,5])"
   ]
  },
  {
   "cell_type": "markdown",
   "metadata": {},
   "source": [
    "### **Hourglass Sum Problem**"
   ]
  },
  {
   "cell_type": "code",
   "execution_count": 9,
   "metadata": {},
   "outputs": [],
   "source": [
    "arr = [\n",
    "    [1, 1, 1, 0, 0, 0],\n",
    "    [0, 1, 0, 0, 0, 0],\n",
    "    [1, 1, 1, 0, 0, 0],\n",
    "    [0, 0, 2, 4, 4, 0],\n",
    "    [0, 0, 0, 2, 0, 0],\n",
    "    [0, 0, 1, 2, 4, 0]\n",
    "]"
   ]
  },
  {
   "cell_type": "code",
   "execution_count": 10,
   "metadata": {},
   "outputs": [],
   "source": [
    "def hourGlassSum(arr):\n",
    "    max_sum = float('-inf') # Initialize max_sum to negative infinity\n",
    "    \n",
    "    for i in range(len(arr)-2):\n",
    "        for j in range(len(arr[i])-2):\n",
    "            # Calculate sum of current hourglass\n",
    "            current_sum = (arr[i][j] + arr[i][j+1] + arr[i][j+2] +\n",
    "                           arr[i+1][j+1] +\n",
    "                           arr[i+2][j] + arr[i+2][j+1] + arr[i+2][j+2])\n",
    "            # Update max_sum if necessary\n",
    "            max_sum = max(max_sum, current_sum)\n",
    "    \n",
    "    return max_sum"
   ]
  },
  {
   "cell_type": "code",
   "execution_count": 11,
   "metadata": {},
   "outputs": [
    {
     "data": {
      "text/plain": [
       "tuple"
      ]
     },
     "execution_count": 11,
     "metadata": {},
     "output_type": "execute_result"
    }
   ],
   "source": [
    "tuple_sample = (2,2)\n",
    "\n",
    "type(tuple_sample)"
   ]
  },
  {
   "cell_type": "code",
   "execution_count": 12,
   "metadata": {},
   "outputs": [
    {
     "data": {
      "text/plain": [
       "[1, 2, 1, 2]"
      ]
     },
     "execution_count": 12,
     "metadata": {},
     "output_type": "execute_result"
    }
   ],
   "source": [
    "2 * [1,2]"
   ]
  },
  {
   "cell_type": "markdown",
   "metadata": {},
   "source": [
    "### **Create a Linked List**"
   ]
  },
  {
   "cell_type": "code",
   "execution_count": 13,
   "metadata": {},
   "outputs": [],
   "source": [
    "class Node:\n",
    "    def __init__(self,data):\n",
    "        self.data = data\n",
    "        self.next = None\n",
    "\n",
    "class LinkedList:\n",
    "    def __init__(self):\n",
    "        self.head = None\n",
    "        \n",
    "    def append(self,data):\n",
    "        new_node = Node(data)\n",
    "        if self.head is None:\n",
    "            self.head = new_node\n",
    "            return\n",
    "        last_node = self.head\n",
    "        #\n",
    "        while last_node.next:\n",
    "            last_node = last_node.next\n",
    "        last_node.next = new_node\n",
    "    \n",
    "    def display(self):\n",
    "        current_node = self.head\n",
    "        #\n",
    "        while current_node:\n",
    "            print(current_node.data, end=\" -> \")\n",
    "            current_node = current_node.next\n",
    "        print(\"None\")\n",
    "    "
   ]
  },
  {
   "cell_type": "code",
   "execution_count": 14,
   "metadata": {},
   "outputs": [
    {
     "name": "stdout",
     "output_type": "stream",
     "text": [
      "1 -> 2 -> 3 -> None\n"
     ]
    }
   ],
   "source": [
    "# Create a new linked list\n",
    "linked_list = LinkedList()\n",
    "\n",
    "# Append some elements\n",
    "linked_list.append(1)\n",
    "linked_list.append(2)\n",
    "linked_list.append(3)\n",
    "\n",
    "# Display the linked list\n",
    "linked_list.display()"
   ]
  },
  {
   "cell_type": "markdown",
   "metadata": {},
   "source": [
    "### ** ACM-ICPC World Finals.**\n",
    "\n",
    "There are a number of people who will be attending ACM-ICPC World Finals. Each of them may be well versed in a number of topics. Given a list of topics known by each attendee, presented as binary strings, determine the maximum number of topics a 2-person team can know. Each subject has a column in the binary string, and a '1' means the subject is known while '0' means it is not. Also determine the number of teams that know the maximum number of topics. Return an integer array with two elements. The first is the maximum number of topics known, and the second is the number of teams that know that number of topics."
   ]
  },
  {
   "cell_type": "code",
   "execution_count": 15,
   "metadata": {},
   "outputs": [],
   "source": [
    "from itertools import combinations\n",
    "\n",
    "# Python shortest solution.\n",
    "\n",
    "# n,k = map(int,input().split())\n",
    "# teams = [list(map(int,list(input()))) for i in range(n)]\n",
    "# sums = [sum([x[0] or x[1] for x in list(zip(*i))]) for i in combinations(teams,2)]\n",
    "# print(max(sums),sums.count(max(sums)),sep='\\n')"
   ]
  },
  {
   "cell_type": "code",
   "execution_count": 16,
   "metadata": {},
   "outputs": [],
   "source": [
    "n:int = 3\n",
    "topics = [\"10101\", \"11110\", \"00010\"]"
   ]
  },
  {
   "cell_type": "code",
   "execution_count": 17,
   "metadata": {},
   "outputs": [
    {
     "name": "stdout",
     "output_type": "stream",
     "text": [
      "<class 'int'>\n",
      "<class 'int'>\n",
      "<class 'int'>\n"
     ]
    }
   ],
   "source": [
    "def acmTeam(topic):\n",
    "    # Write your code here\n",
    "    for i in range(len(topic)):\n",
    "        sample_str = map(int,topic[i].split(\",\"))\n",
    "        for item in sample_str:\n",
    "            print(type(item))\n",
    "\n",
    "acmTeam(topic=topics)"
   ]
  },
  {
   "cell_type": "code",
   "execution_count": 18,
   "metadata": {},
   "outputs": [
    {
     "data": {
      "text/plain": [
       "101"
      ]
     },
     "execution_count": 18,
     "metadata": {},
     "output_type": "execute_result"
    }
   ],
   "source": [
    "low =  1\n",
    "right = 100\n",
    "mid = (low + right)\n",
    "\n",
    "mid"
   ]
  },
  {
   "cell_type": "code",
   "execution_count": 19,
   "metadata": {},
   "outputs": [
    {
     "data": {
      "text/plain": [
       "6"
      ]
     },
     "execution_count": 19,
     "metadata": {},
     "output_type": "execute_result"
    }
   ],
   "source": [
    "(12 - (-1)) // 2"
   ]
  },
  {
   "cell_type": "markdown",
   "metadata": {},
   "source": [
    "### **Breadth First Search**"
   ]
  },
  {
   "cell_type": "code",
   "execution_count": 20,
   "metadata": {},
   "outputs": [],
   "source": [
    "nums = [100,250,500,600,100]\n",
    "target:int = 600"
   ]
  },
  {
   "cell_type": "code",
   "execution_count": 21,
   "metadata": {},
   "outputs": [],
   "source": [
    "from typing import List\n",
    "\n",
    "def binary_search(nums: List[int], target: int) -> int:\n",
    "    low = 0\n",
    "    high = len(nums) - 1\n",
    "\n",
    "    #\n",
    "    while low <= high:\n",
    "        mid = low + (high - low) // 2\n",
    "        guess = nums[mid]\n",
    "        #\n",
    "        if guess == target:\n",
    "            return mid\n",
    "        if guess > target:\n",
    "            high = mid - 1\n",
    "        else:\n",
    "            low = mid + 1\n",
    "        \n",
    "    return -1"
   ]
  },
  {
   "cell_type": "code",
   "execution_count": 22,
   "metadata": {},
   "outputs": [
    {
     "data": {
      "text/plain": [
       "600"
      ]
     },
     "execution_count": 22,
     "metadata": {},
     "output_type": "execute_result"
    }
   ],
   "source": [
    "nums[binary_search(nums, target=target)]"
   ]
  },
  {
   "cell_type": "markdown",
   "metadata": {},
   "source": [
    "### **Search in Rotated Sorted Array**"
   ]
  },
  {
   "cell_type": "code",
   "execution_count": 23,
   "metadata": {},
   "outputs": [],
   "source": [
    "def binary_search_circular(nums, target, left, right):\n",
    "    while left <= right:\n",
    "        mid = left + (right - left) // 2\n",
    "\n",
    "        if nums[mid] == target:\n",
    "            return mid\n",
    "        elif nums[mid] < target:\n",
    "            left = mid + 1\n",
    "        else:\n",
    "            right = mid - 1\n",
    "\n",
    "    return -1"
   ]
  },
  {
   "cell_type": "code",
   "execution_count": 24,
   "metadata": {},
   "outputs": [],
   "source": [
    "def find_pivot(nums):\n",
    "    left, right = 0, len(nums) - 1\n",
    "\n",
    "    while left < right:\n",
    "        mid = left + (right - left) // 2\n",
    "\n",
    "        if nums[mid] > nums[right]:\n",
    "            left = mid + 1\n",
    "        else:\n",
    "            right = mid\n",
    "\n",
    "    return left"
   ]
  },
  {
   "cell_type": "code",
   "execution_count": 25,
   "metadata": {},
   "outputs": [],
   "source": [
    "def search_rotated_array(nums: List[int], target: int) -> int:\n",
    "    if not nums:\n",
    "        return -1\n",
    "\n",
    "    # Step 1: Find the rotation point (pivot)\n",
    "    pivot = find_pivot(nums)\n",
    "\n",
    "    # Step 2: Determine which part of the array to search\n",
    "    if target >= nums[0]:\n",
    "        # Search in the left side of the rotation point\n",
    "        return binary_search_circular(nums, target, 0, pivot)\n",
    "    else:\n",
    "        # Search in the right side of the rotation point\n",
    "        return binary_search_circular(nums, target, pivot + 1, len(nums) - 1)\n",
    "    \n",
    "    "
   ]
  },
  {
   "cell_type": "code",
   "execution_count": 26,
   "metadata": {},
   "outputs": [
    {
     "name": "stdout",
     "output_type": "stream",
     "text": [
      "5\n"
     ]
    }
   ],
   "source": [
    "numss = [4, 5, 6, 7, 0, 1, 2]\n",
    "target = 1\n",
    "print(search_rotated_array(numss, target)) "
   ]
  },
  {
   "cell_type": "markdown",
   "metadata": {},
   "source": [
    "### **Format Date**"
   ]
  },
  {
   "cell_type": "code",
   "execution_count": 27,
   "metadata": {},
   "outputs": [
    {
     "name": "stdout",
     "output_type": "stream",
     "text": [
      "Formatted Time: 2024-11-28 11:44:40\n"
     ]
    }
   ],
   "source": [
    "from datetime import datetime\n",
    "\n",
    "now = datetime.now()\n",
    "formatted_time = now.strftime(\"%Y-%m-%d %H:%M:%S\")\n",
    "print(\"Formatted Time:\", formatted_time)"
   ]
  },
  {
   "cell_type": "markdown",
   "metadata": {},
   "source": [
    "### **Count Characters and Spaces**"
   ]
  },
  {
   "cell_type": "code",
   "execution_count": 28,
   "metadata": {},
   "outputs": [
    {
     "data": {
      "text/plain": [
       "2"
      ]
     },
     "execution_count": 28,
     "metadata": {},
     "output_type": "execute_result"
    }
   ],
   "source": [
    "\"shahzaib\".count(\"h\")"
   ]
  },
  {
   "cell_type": "code",
   "execution_count": 29,
   "metadata": {},
   "outputs": [
    {
     "data": {
      "text/plain": [
       "65"
      ]
     },
     "execution_count": 29,
     "metadata": {},
     "output_type": "execute_result"
    }
   ],
   "source": [
    "ord(\"A\")"
   ]
  },
  {
   "cell_type": "markdown",
   "metadata": {},
   "source": [
    "### **Count Number of Capital Characters in a phrase**"
   ]
  },
  {
   "cell_type": "code",
   "execution_count": 30,
   "metadata": {},
   "outputs": [],
   "source": [
    "def count_capital(s:str):\n",
    "    count:int = 0\n",
    "    for char in s:\n",
    "        if char.isupper():\n",
    "            count += 1 \n",
    "    return count"
   ]
  },
  {
   "cell_type": "code",
   "execution_count": 31,
   "metadata": {},
   "outputs": [
    {
     "data": {
      "text/plain": [
       "4"
      ]
     },
     "execution_count": 31,
     "metadata": {},
     "output_type": "execute_result"
    }
   ],
   "source": [
    "count_capital(\"sHaHZaiB\")"
   ]
  },
  {
   "cell_type": "markdown",
   "metadata": {},
   "source": [
    "### **Creating set from a list**"
   ]
  },
  {
   "cell_type": "code",
   "execution_count": 32,
   "metadata": {},
   "outputs": [
    {
     "data": {
      "text/plain": [
       "[1, 2, 3, 4, 6, 7, 8, 9]"
      ]
     },
     "execution_count": 32,
     "metadata": {},
     "output_type": "execute_result"
    }
   ],
   "source": [
    "list_of_nums = [1,2,3,4,7,7,7,6,8,9]\n",
    "set_of_nums = set(list_of_nums)\n",
    "list(set_of_nums)"
   ]
  },
  {
   "cell_type": "markdown",
   "metadata": {},
   "source": [
    "### **Remove Duplicates from list and return count of unique elements**\n",
    "\n",
    "Given an integer array nums sorted in non-decreasing order, remove the duplicates in-place such that each unique element appears only once. The relative order of the elements should be kept the same. Then return the number of unique elements in nums.\n",
    "\n",
    "Consider the number of unique elements of nums to be k, to get accepted, you need to do the following things:\n",
    "\n",
    "Change the array nums such that the first k elements of nums contain the unique elements in the order they were present in nums initially. The remaining elements of nums are not important as well as the size of nums.\n",
    "Return k."
   ]
  },
  {
   "cell_type": "code",
   "execution_count": 33,
   "metadata": {},
   "outputs": [],
   "source": [
    "def removeDuplicates(nums: List[int]) -> int:\n",
    "    if not nums:\n",
    "        return -1\n",
    "    #\n",
    "    unique_numbers_counter:int = 1\n",
    "    #\n",
    "    for i in range(1, len(nums)):\n",
    "        if nums[i] != nums[i - 1]:\n",
    "            nums[unique_numbers_counter] = nums[i]\n",
    "            unique_numbers_counter += 1\n",
    "\n",
    "    return unique_numbers_counter"
   ]
  },
  {
   "cell_type": "markdown",
   "metadata": {},
   "source": [
    "## **Bubble Sort**"
   ]
  },
  {
   "cell_type": "code",
   "execution_count": 34,
   "metadata": {},
   "outputs": [
    {
     "data": {
      "text/plain": [
       "[7, 13, 10, 18, 5, 12, 9, 2, 17, 6, 14, 20, 4, 19, 8, 16, 11, 3, 1, 15]"
      ]
     },
     "execution_count": 34,
     "metadata": {},
     "output_type": "execute_result"
    }
   ],
   "source": [
    "import random\n",
    "\n",
    "ids: List[int] = [num for num in range(1, 21)]\n",
    "random.shuffle(ids)\n",
    "ids"
   ]
  },
  {
   "cell_type": "code",
   "execution_count": 35,
   "metadata": {},
   "outputs": [],
   "source": [
    "def bubble_sort(l: List[int]):\n",
    "    if not l:\n",
    "        return -1\n",
    "    for i in range(0, len(l)):\n",
    "        for j in range(0, len(l) - i -1):\n",
    "            if l[j] > l[j+1]:\n",
    "                l[j], l[j+1] = l[j+1], l[j]\n",
    "    #\n",
    "    return l"
   ]
  },
  {
   "cell_type": "code",
   "execution_count": 36,
   "metadata": {},
   "outputs": [
    {
     "data": {
      "text/plain": [
       "[1, 2, 3, 4, 5, 6, 7, 8, 9, 10, 11, 12, 13, 14, 15, 16, 17, 18, 19, 20]"
      ]
     },
     "execution_count": 36,
     "metadata": {},
     "output_type": "execute_result"
    }
   ],
   "source": [
    "bubble_sort(ids)"
   ]
  },
  {
   "cell_type": "markdown",
   "metadata": {},
   "source": [
    "### **Longest Common Prefix**"
   ]
  },
  {
   "cell_type": "code",
   "execution_count": 37,
   "metadata": {},
   "outputs": [],
   "source": [
    "def LongestCommonPrefix(strs: List[str]):\n",
    "    mn, mx = min(strs), max(strs)\n",
    "    \n",
    "    print(mn)\n",
    "    print(mx)\n",
    "\n",
    "    for i in range(len(mn)):\n",
    "        if mn[i] != mx[i]:\n",
    "            return mn[:i]\n",
    "    \n",
    "    return mn"
   ]
  },
  {
   "cell_type": "code",
   "execution_count": 38,
   "metadata": {},
   "outputs": [
    {
     "name": "stdout",
     "output_type": "stream",
     "text": [
      "flight\n",
      "flower\n"
     ]
    },
    {
     "data": {
      "text/plain": [
       "'fl'"
      ]
     },
     "execution_count": 38,
     "metadata": {},
     "output_type": "execute_result"
    }
   ],
   "source": [
    "LongestCommonPrefix([\"flower\",\"flow\",\"flight\"])"
   ]
  },
  {
   "cell_type": "code",
   "execution_count": 39,
   "metadata": {},
   "outputs": [
    {
     "name": "stdout",
     "output_type": "stream",
     "text": [
      "car\n",
      "racecar\n"
     ]
    },
    {
     "data": {
      "text/plain": [
       "''"
      ]
     },
     "execution_count": 39,
     "metadata": {},
     "output_type": "execute_result"
    }
   ],
   "source": [
    "LongestCommonPrefix([\"dog\",\"racecar\",\"car\"])"
   ]
  },
  {
   "cell_type": "markdown",
   "metadata": {},
   "source": [
    "### **Merge two sorted lists**"
   ]
  },
  {
   "cell_type": "code",
   "execution_count": 40,
   "metadata": {},
   "outputs": [],
   "source": [
    "# def merge_two_sorted_lists(nums1: List[int], m: int, nums2: List[int], n: int):\n",
    "#     for i in range(len(nums1)):\n",
    "#         if nums1[i] == 0:\n",
    "#             nums1[i] += nums2[i - n]\n",
    "#     nums1.sort()\n",
    "#     print(nums1)"
   ]
  },
  {
   "cell_type": "code",
   "execution_count": 41,
   "metadata": {},
   "outputs": [],
   "source": [
    "def merge_two_sorted_lists(nums1: List[int], m: int, nums2: List[int], n: int) -> None:\n",
    "    \"\"\" filter = lambda nums_list,elements_count: nums_list[(len(nums_list) - elements_count):]          \n",
    "    nums1 = sorted(filter(sorted(nums1),m) + filter(sorted(nums2),n)) \"\"\"\n",
    "    a = m-1\n",
    "    b = n-1\n",
    "    c = m+n-1\n",
    "    while c >= 0:\n",
    "        if b == -1:\n",
    "            # First Condition\n",
    "            pass\n",
    "        elif a == -1:\n",
    "            #  Second Condition\n",
    "            nums1[c] = nums2[b]\n",
    "            b -= 1\n",
    "        elif nums2[b] > nums1[a]:\n",
    "            # Third Condition\n",
    "            nums1[c] = nums2[b]\n",
    "            b -= 1\n",
    "        elif nums1[a] > nums2[b]:\n",
    "            # Fourth Condition\n",
    "            nums1[c] = nums1[a]\n",
    "            a -= 1\n",
    "        else:\n",
    "            # Fifth Condition\n",
    "            nums1[c] = nums1[a]\n",
    "            a -= 1\n",
    "        c -= 1\n",
    "    print(nums1)"
   ]
  },
  {
   "cell_type": "code",
   "execution_count": 42,
   "metadata": {},
   "outputs": [
    {
     "name": "stdout",
     "output_type": "stream",
     "text": [
      "[1, 2, 2, 3, 5, 6]\n"
     ]
    }
   ],
   "source": [
    "nums1 = [1,2,3,0,0,0] \n",
    "m = 3 \n",
    "nums2 = [2,5,6] \n",
    "n = 3\n",
    "\n",
    "merge_two_sorted_lists(nums1=nums1, nums2=nums2, m=m, n=n)"
   ]
  },
  {
   "cell_type": "code",
   "execution_count": 43,
   "metadata": {},
   "outputs": [
    {
     "name": "stdout",
     "output_type": "stream",
     "text": [
      "[1]\n"
     ]
    }
   ],
   "source": [
    "nums1 = [1] \n",
    "m = 1 \n",
    "nums2 = [] \n",
    "n = 0\n",
    "\n",
    "merge_two_sorted_lists(nums1=nums1, nums2=nums2, m=m, n=n)"
   ]
  },
  {
   "cell_type": "code",
   "execution_count": 44,
   "metadata": {},
   "outputs": [
    {
     "name": "stdout",
     "output_type": "stream",
     "text": [
      "[1]\n"
     ]
    }
   ],
   "source": [
    "nums1 = [0] \n",
    "m = 0 \n",
    "nums2 = [1] \n",
    "n = 1\n",
    "\n",
    "merge_two_sorted_lists(nums1=nums1, nums2=nums2, m=m, n=n)"
   ]
  },
  {
   "cell_type": "code",
   "execution_count": 45,
   "metadata": {},
   "outputs": [
    {
     "name": "stdout",
     "output_type": "stream",
     "text": [
      "[1, 0, 0, 3, 3, 3, 0, 0, 0]\n"
     ]
    }
   ],
   "source": [
    "nums1 = [-1,0,0,3,3,3,0,0,0] \n",
    "m = 0 \n",
    "nums2 = [1,2,2] \n",
    "n = 1\n",
    "\n",
    "merge_two_sorted_lists(nums1=nums1, nums2=nums2, m=m, n=n)"
   ]
  },
  {
   "cell_type": "markdown",
   "metadata": {},
   "source": [
    "### **Find the index of the first occurrence in a String**"
   ]
  },
  {
   "cell_type": "code",
   "execution_count": 46,
   "metadata": {},
   "outputs": [],
   "source": [
    "def strStr(haystack: str, needle: str) -> int:\n",
    "    str1_size = len(haystack)\n",
    "    str2_size = len(needle)\n",
    "    #\n",
    "    if needle in haystack:\n",
    "        return haystack.find(needle)\n",
    "    else:\n",
    "        return -1"
   ]
  },
  {
   "cell_type": "code",
   "execution_count": 47,
   "metadata": {},
   "outputs": [
    {
     "data": {
      "text/plain": [
       "0"
      ]
     },
     "execution_count": 47,
     "metadata": {},
     "output_type": "execute_result"
    }
   ],
   "source": [
    "haystack = \"sadbutsad\" \n",
    "needle = \"sad\"\n",
    "\n",
    "strStr(haystack=haystack, needle=needle)"
   ]
  },
  {
   "cell_type": "markdown",
   "metadata": {},
   "source": [
    "### **Search Insert Position**"
   ]
  },
  {
   "cell_type": "code",
   "execution_count": 48,
   "metadata": {},
   "outputs": [],
   "source": [
    "def searchInsert(nums: List[int], target: int) -> int:\n",
    "    if not nums:\n",
    "        return 0\n",
    "    \n",
    "    low, high = 0, len(nums) - 1  # Adjust high to be the last index\n",
    "    \n",
    "    while low <= high:\n",
    "        mid = (low + high) // 2  # Calculate mid inside the loop\n",
    "        \n",
    "        if target == nums[mid]:\n",
    "            return mid\n",
    "        elif target < nums[mid]:\n",
    "            high = mid - 1  # Update high to narrow down the search range\n",
    "        else:  # target > nums[mid]\n",
    "            low = mid + 1  # Update low to narrow down the search range\n",
    "    \n",
    "    return low "
   ]
  },
  {
   "cell_type": "code",
   "execution_count": 49,
   "metadata": {},
   "outputs": [
    {
     "data": {
      "text/plain": [
       "2"
      ]
     },
     "execution_count": 49,
     "metadata": {},
     "output_type": "execute_result"
    }
   ],
   "source": [
    "nums = [1,3,5,6] \n",
    "target = 5\n",
    "\n",
    "searchInsert(nums=nums, target=target)"
   ]
  },
  {
   "cell_type": "code",
   "execution_count": 50,
   "metadata": {},
   "outputs": [
    {
     "data": {
      "text/plain": [
       "2"
      ]
     },
     "execution_count": 50,
     "metadata": {},
     "output_type": "execute_result"
    }
   ],
   "source": [
    "nums = [1,3,5,6] \n",
    "target = 5\n",
    "\n",
    "searchInsert(nums=nums, target=target)"
   ]
  },
  {
   "cell_type": "code",
   "execution_count": 51,
   "metadata": {},
   "outputs": [
    {
     "data": {
      "text/plain": [
       "2"
      ]
     },
     "execution_count": 51,
     "metadata": {},
     "output_type": "execute_result"
    }
   ],
   "source": [
    "nums = [1,3,5,6] \n",
    "target = 5\n",
    "\n",
    "searchInsert(nums=nums, target=target)"
   ]
  },
  {
   "cell_type": "code",
   "execution_count": 52,
   "metadata": {},
   "outputs": [
    {
     "data": {
      "text/plain": [
       "'fly to the top'"
      ]
     },
     "execution_count": 52,
     "metadata": {},
     "output_type": "execute_result"
    }
   ],
   "source": [
    "\" fly to the top \".strip()"
   ]
  },
  {
   "cell_type": "markdown",
   "metadata": {},
   "source": [
    "### **Plus One - LeetCode**"
   ]
  },
  {
   "cell_type": "code",
   "execution_count": 53,
   "metadata": {},
   "outputs": [],
   "source": [
    "def plusOne(digits: List[int]) -> List[int]:\n",
    "    if not digits:\n",
    "        return -1\n",
    "    # Iterate from the end of the digits array\n",
    "    for i in range(len(digits) - 1, -1, -1):\n",
    "        # Increment the current digit\n",
    "        digits[i] += 1\n",
    "        # If the digit becomes 10, set it to 0 and continue to the next digit\n",
    "        if digits[i] == 10:\n",
    "            digits[i] = 0\n",
    "        # If the digit is less than 10, there is no carry, so return the digits array\n",
    "        else:\n",
    "            return digits\n",
    "\n",
    "    # If we reach here, it means all digits were 9 and we need to add a new leading digit\n",
    "    return [1] + digits"
   ]
  },
  {
   "cell_type": "markdown",
   "metadata": {},
   "source": [
    "### **Logical Operations**"
   ]
  },
  {
   "cell_type": "code",
   "execution_count": 54,
   "metadata": {},
   "outputs": [
    {
     "data": {
      "text/plain": [
       "2"
      ]
     },
     "execution_count": 54,
     "metadata": {},
     "output_type": "execute_result"
    }
   ],
   "source": [
    "# Bitwise AND Operation\n",
    "2 & 2"
   ]
  },
  {
   "cell_type": "code",
   "execution_count": 55,
   "metadata": {},
   "outputs": [
    {
     "data": {
      "text/plain": [
       "2"
      ]
     },
     "execution_count": 55,
     "metadata": {},
     "output_type": "execute_result"
    }
   ],
   "source": [
    "2 and 2"
   ]
  },
  {
   "cell_type": "code",
   "execution_count": 56,
   "metadata": {},
   "outputs": [
    {
     "data": {
      "text/plain": [
       "2"
      ]
     },
     "execution_count": 56,
     "metadata": {},
     "output_type": "execute_result"
    }
   ],
   "source": [
    "# Bitwise OR operation\n",
    "2 | 2"
   ]
  },
  {
   "cell_type": "code",
   "execution_count": 57,
   "metadata": {},
   "outputs": [
    {
     "data": {
      "text/plain": [
       "2"
      ]
     },
     "execution_count": 57,
     "metadata": {},
     "output_type": "execute_result"
    }
   ],
   "source": [
    "2 or 2"
   ]
  },
  {
   "cell_type": "code",
   "execution_count": 58,
   "metadata": {},
   "outputs": [
    {
     "name": "stdout",
     "output_type": "stream",
     "text": [
      "Opening parenthesis: 40\n",
      "Closing parenthesis: 41\n"
     ]
    }
   ],
   "source": [
    "print(f\"Opening parenthesis: {ord(\"(\")}\")\n",
    "print(f\"Closing parenthesis: {ord(\")\")}\")"
   ]
  },
  {
   "cell_type": "markdown",
   "metadata": {},
   "source": [
    "### **Valid String**"
   ]
  },
  {
   "cell_type": "code",
   "execution_count": 59,
   "metadata": {},
   "outputs": [],
   "source": [
    "def isValid(s: str) -> bool:\n",
    "    s_split = s.split(\" \")\n",
    "    print(s_split)"
   ]
  },
  {
   "cell_type": "code",
   "execution_count": 60,
   "metadata": {},
   "outputs": [
    {
     "name": "stdout",
     "output_type": "stream",
     "text": [
      "['()']\n"
     ]
    }
   ],
   "source": [
    "s = \"()\"\n",
    "\n",
    "isValid(s=s)"
   ]
  },
  {
   "cell_type": "markdown",
   "metadata": {},
   "source": [
    "### **Jumping on the Clouds**"
   ]
  },
  {
   "cell_type": "code",
   "execution_count": 61,
   "metadata": {},
   "outputs": [],
   "source": [
    "c: List[int] = [0,0,1,0,0,1,0]\n",
    "size: int = len(c)"
   ]
  },
  {
   "cell_type": "code",
   "execution_count": 62,
   "metadata": {},
   "outputs": [],
   "source": [
    "# The player can jump on any cumulus cloud having a number that is equal to the number of the current cloud plus 1 or 2. \n",
    "def jumpingOnClouds(c):\n",
    "    jumps: int = 0\n",
    "    if not c:\n",
    "        return -1\n",
    "    #\n",
    "    i = 0\n",
    "    while i < size - 1:\n",
    "        # Testing for two jumps if it's safe to jump 2 clouds\n",
    "        if (i + 2 < size) and c[i + 2] == 0:\n",
    "            i += 2\n",
    "        elif (i < size) and c[i] == 0:\n",
    "            i += 1\n",
    "        jumps += 1\n",
    "    return jumps "
   ]
  },
  {
   "cell_type": "code",
   "execution_count": 63,
   "metadata": {},
   "outputs": [
    {
     "data": {
      "text/plain": [
       "4"
      ]
     },
     "execution_count": 63,
     "metadata": {},
     "output_type": "execute_result"
    }
   ],
   "source": [
    "jumpingOnClouds(c=c)"
   ]
  },
  {
   "cell_type": "markdown",
   "metadata": {},
   "source": [
    "### **ACM ICPC Team - Hackerrank**\n",
    "\n",
    "There are a number of people who will be attending ACM-ICPC World Finals. Each of them may be well versed in a number of topics. Given a list of topics known by each attendee, presented as binary strings, determine the maximum number of topics a 2-person team can know. Each subject has a column in the binary string, and a '1' means the subject is known while '0' means it is not. Also determine the number of teams that know the maximum number of topics. Return an integer array with two elements. The first is the maximum number of topics known, and the second is the number of teams that know that number of topics."
   ]
  },
  {
   "cell_type": "code",
   "execution_count": 64,
   "metadata": {},
   "outputs": [],
   "source": [
    "n: int = 3\n",
    "sample_topics: List[str] = [\n",
    "    \"10101\",\n",
    "    \"11110\",\n",
    "    \"00010\"\n",
    "]"
   ]
  },
  {
   "cell_type": "code",
   "execution_count": 65,
   "metadata": {},
   "outputs": [
    {
     "data": {
      "text/plain": [
       "'0b1001'"
      ]
     },
     "execution_count": 65,
     "metadata": {},
     "output_type": "execute_result"
    }
   ],
   "source": [
    "bin(9)"
   ]
  },
  {
   "cell_type": "code",
   "execution_count": 66,
   "metadata": {},
   "outputs": [],
   "source": [
    "def acmTeam(topic):\n",
    "    max_topics = 0\n",
    "    num_teams = 0\n",
    "\n",
    "    for i in range(len(topic)):\n",
    "        for j in range(i + 1, len(topic)):\n",
    "            topics_known = bin(int(topic[i], 2) | int(topic[j], 2)).count('1')\n",
    "            if topics_known > max_topics:\n",
    "                max_topics = topics_known\n",
    "                num_teams = 1\n",
    "            elif topics_known == max_topics:\n",
    "                num_teams += 1\n",
    "\n",
    "    return [max_topics, num_teams]"
   ]
  },
  {
   "cell_type": "code",
   "execution_count": 67,
   "metadata": {},
   "outputs": [
    {
     "data": {
      "text/plain": [
       "[5, 1]"
      ]
     },
     "execution_count": 67,
     "metadata": {},
     "output_type": "execute_result"
    }
   ],
   "source": [
    "acmTeam(sample_topics)"
   ]
  },
  {
   "cell_type": "markdown",
   "metadata": {},
   "source": [
    "### **Cut the Sticks**\n",
    "\n",
    "You are given a number of sticks of varying lengths. You will iteratively cut the sticks into smaller sticks, discarding the shortest pieces until there are none left. At each iteration you will determine the length of the shortest stick remaining, cut that length from each of the longer sticks and then discard all the pieces of that shortest length. When all the remaining sticks are the same length, they cannot be shortened so discard them.\n",
    "\n",
    "Given the lengths of  sticks, print the number of sticks that are left before each iteration until there are none left."
   ]
  },
  {
   "cell_type": "code",
   "execution_count": 68,
   "metadata": {},
   "outputs": [],
   "source": [
    "sticks: List[int] = [1,2,3]"
   ]
  },
  {
   "cell_type": "code",
   "execution_count": 69,
   "metadata": {},
   "outputs": [],
   "source": [
    "def cutTheSticks(arr):\n",
    "    min_length_stick: int = 0\n",
    "    remaining_sticks = []\n",
    "    while arr:\n",
    "        remaining_sticks.append(len(arr))\n",
    "        min_length_stick = min(arr)\n",
    "        arr = [stick - min_length_stick for stick in arr if stick != min_length_stick]\n",
    "    return remaining_sticks"
   ]
  },
  {
   "cell_type": "code",
   "execution_count": 70,
   "metadata": {},
   "outputs": [
    {
     "data": {
      "text/plain": [
       "[3, 2, 1]"
      ]
     },
     "execution_count": 70,
     "metadata": {},
     "output_type": "execute_result"
    }
   ],
   "source": [
    "cutTheSticks(sticks)"
   ]
  },
  {
   "cell_type": "markdown",
   "metadata": {},
   "source": [
    "### **Taum and B'Day** \n",
    "\n",
    "Taum is planning to celebrate the birthday of his friend, Diksha. There are two types of gifts that Diksha wants from Taum: one is black and the other is white. To make her happy, Taum has to buy  black gifts and  white gifts.\n",
    "\n",
    "The cost of each black gift is  units.\n",
    "The cost of every white gift is  units.\n",
    "The cost to convert a black gift into white gift or vice versa is  units.\n",
    "Determine the minimum cost of Diksha's gifts."
   ]
  },
  {
   "cell_type": "code",
   "execution_count": 71,
   "metadata": {},
   "outputs": [],
   "source": [
    "b = 3\n",
    "w = 5\n",
    "bc = 3\n",
    "wc = 4\n",
    "z = 1\n"
   ]
  },
  {
   "cell_type": "code",
   "execution_count": 72,
   "metadata": {},
   "outputs": [],
   "source": [
    "#\n",
    "# Complete the 'taumBday' function below.\n",
    "#\n",
    "# The function is expected to return a LONG_INTEGER.\n",
    "# The function accepts following parameters:\n",
    "#  1. INTEGER b\n",
    "#  2. INTEGER w\n",
    "#  3. INTEGER bc\n",
    "#  4. INTEGER wc\n",
    "#  5. INTEGER z\n",
    "#\n",
    "\n",
    "def taumBday(b, w, bc, wc, z):\n",
    "    return b*min(bc, wc+z) + w*min(wc,bc+z)"
   ]
  },
  {
   "cell_type": "code",
   "execution_count": 73,
   "metadata": {},
   "outputs": [
    {
     "data": {
      "text/plain": [
       "29"
      ]
     },
     "execution_count": 73,
     "metadata": {},
     "output_type": "execute_result"
    }
   ],
   "source": [
    "taumBday(b=b,w=w,bc=bc,wc=wc,z=z)"
   ]
  },
  {
   "cell_type": "markdown",
   "metadata": {},
   "source": [
    "### **Modified Kaprekar's Number**\n",
    "\n",
    "A modified Kaprekar number is a positive whole number with a special property. If you square it, then split the number into two integers and sum those integers, you have the same value you started with.\n",
    "\n",
    "Consider a positive whole number  with  digits. We square  to arrive at a number that is either 2xd  digits long or  digits long. Split the string representation of the square into two parts,  and . The right hand part,  must be  digits long. The left is the remaining substring. Convert those two substrings back to integers, add them and see if you get .\n",
    "\n",
    "https://www.hackerrank.com/challenges/kaprekar-numbers/problem?isFullScreen=true"
   ]
  },
  {
   "cell_type": "code",
   "execution_count": 74,
   "metadata": {},
   "outputs": [],
   "source": [
    "sample_num: int = 9"
   ]
  },
  {
   "cell_type": "code",
   "execution_count": 75,
   "metadata": {},
   "outputs": [
    {
     "data": {
      "text/plain": [
       "[]"
      ]
     },
     "execution_count": 75,
     "metadata": {},
     "output_type": "execute_result"
    }
   ],
   "source": [
    "sample_nums = [1,2,3,4,5,6,7,8,9,10]\n",
    "size = len(sample_nums)\n",
    "sample_nums[-size:]\n",
    "sample_nums[:-size]"
   ]
  },
  {
   "cell_type": "code",
   "execution_count": 76,
   "metadata": {},
   "outputs": [],
   "source": [
    "def kaprekarNumber(p:int, q:int):\n",
    "    kaprekar_found = False\n",
    "    for num in range(p, q + 1):\n",
    "        sqrt_num = str(num ** 2)\n",
    "        num_digits = len(sqrt_num)\n",
    "        right_half = sqrt_num[-num_digits:]\n",
    "        left_half = sqrt_num[:-num_digits] or \"0\"\n",
    "        result = int(right_half) + int(left_half)\n",
    "        print(result)\n",
    "      "
   ]
  },
  {
   "cell_type": "code",
   "execution_count": 77,
   "metadata": {},
   "outputs": [],
   "source": [
    "# kaprekarNumber(1,100)"
   ]
  },
  {
   "cell_type": "markdown",
   "metadata": {},
   "source": [
    "### **Beautiful Triplete**"
   ]
  },
  {
   "cell_type": "code",
   "execution_count": 78,
   "metadata": {},
   "outputs": [],
   "source": [
    "items: List[int] = [2,2,3,4,5]"
   ]
  },
  {
   "cell_type": "code",
   "execution_count": 79,
   "metadata": {},
   "outputs": [],
   "source": [
    "# a[j] - a[i] = a[k] - a[j] = d\n",
    "def beautifulTriplets(d, arr):\n",
    "    count: int = 0\n",
    "    for i in range(len(arr)):\n",
    "        for j in range(i+1, len(arr)):\n",
    "            if arr[j] - arr[i] == d:\n",
    "                for k in range(j+1, len(arr)):\n",
    "                    if arr[k] - arr[j] == d:\n",
    "                        count += 1\n",
    "    return count"
   ]
  },
  {
   "cell_type": "code",
   "execution_count": 80,
   "metadata": {},
   "outputs": [
    {
     "data": {
      "text/plain": [
       "3"
      ]
     },
     "execution_count": 80,
     "metadata": {},
     "output_type": "execute_result"
    }
   ],
   "source": [
    "beautifulTriplets(1, items)"
   ]
  },
  {
   "cell_type": "markdown",
   "metadata": {},
   "source": [
    "### **Minimum Distance**"
   ]
  },
  {
   "cell_type": "code",
   "execution_count": 81,
   "metadata": {},
   "outputs": [],
   "source": [
    "items: List[int] = [3,2,1,2,3]"
   ]
  },
  {
   "cell_type": "code",
   "execution_count": 82,
   "metadata": {},
   "outputs": [],
   "source": [
    "def minimumDistances(a):\n",
    "    min_distance = len(a) - 1\n",
    "    for i in range(len(a)):\n",
    "        for j in range(i+1, len(a)):\n",
    "            if a[i] == a[j]:\n",
    "                distance = j - i\n",
    "                min_distance = min(min_distance, distance)\n",
    "    #\n",
    "    if min_distance > len(a):\n",
    "        return -1\n",
    "    else:\n",
    "        return min_distance"
   ]
  },
  {
   "cell_type": "code",
   "execution_count": 83,
   "metadata": {},
   "outputs": [
    {
     "data": {
      "text/plain": [
       "2"
      ]
     },
     "execution_count": 83,
     "metadata": {},
     "output_type": "execute_result"
    }
   ],
   "source": [
    "minimumDistances(items)"
   ]
  },
  {
   "cell_type": "code",
   "execution_count": 84,
   "metadata": {},
   "outputs": [],
   "source": [
    "list_nums = [1,2,3]"
   ]
  },
  {
   "cell_type": "code",
   "execution_count": 85,
   "metadata": {},
   "outputs": [],
   "source": [
    "def mergeList(list_og, new_list):\n",
    "    if (not list_og) and (not new_list):\n",
    "        return -1\n",
    "    result = [*list_og, *new_list]\n",
    "    return result"
   ]
  },
  {
   "cell_type": "code",
   "execution_count": 86,
   "metadata": {},
   "outputs": [
    {
     "data": {
      "text/plain": [
       "[1, 2, 3, 10, 20, 30]"
      ]
     },
     "execution_count": 86,
     "metadata": {},
     "output_type": "execute_result"
    }
   ],
   "source": [
    "mergeList(list_nums, [10, 20, 30])"
   ]
  },
  {
   "cell_type": "code",
   "execution_count": 87,
   "metadata": {},
   "outputs": [],
   "source": [
    "def merge_list_at_position(target_list, source_list, index):\n",
    "    if (not target_list) and (not source_list) and (index < 0):\n",
    "        return \"Cannot merge lists\"\n",
    "    \n",
    "    prefix = target_list[:index]\n",
    "    merged_list = prefix + source_list + target_list[index+len(source_list):]\n",
    "    return merged_list\n",
    "    "
   ]
  },
  {
   "cell_type": "code",
   "execution_count": 88,
   "metadata": {},
   "outputs": [
    {
     "data": {
      "text/plain": [
       "[1, 2, 3, 'a', 'b', 'c']"
      ]
     },
     "execution_count": 88,
     "metadata": {},
     "output_type": "execute_result"
    }
   ],
   "source": [
    "target_list = [1, 2, 3, 4, 5, 6]\n",
    "source_list = ['a', 'b', 'c']\n",
    "index = 3\n",
    "merged_list = merge_list_at_position(target_list, source_list, index)\n",
    "\n",
    "merged_list"
   ]
  },
  {
   "cell_type": "code",
   "execution_count": 89,
   "metadata": {},
   "outputs": [
    {
     "data": {
      "text/plain": [
       "False"
      ]
     },
     "execution_count": 89,
     "metadata": {},
     "output_type": "execute_result"
    }
   ],
   "source": [
    "\"apple\" > \"banana\""
   ]
  },
  {
   "cell_type": "code",
   "execution_count": 90,
   "metadata": {},
   "outputs": [
    {
     "name": "stdout",
     "output_type": "stream",
     "text": [
      "Result of addition:Result of multiplication: 4\n",
      " 5\n",
      "Both threads have finished execution.\n"
     ]
    }
   ],
   "source": [
    "from threading import Thread\n",
    "\n",
    "def add(num1, num2):\n",
    "    print(\"Result of addition:\", num1 + num2)\n",
    "\n",
    "def mul(num1, num2):\n",
    "    print(\"Result of multiplication:\", num1 * num2)\n",
    "\n",
    "# Create thread objects with target functions\n",
    "thread1 = Thread(target=add, args=(2, 3))\n",
    "thread2 = Thread(target=mul, args=(2, 2))\n",
    "\n",
    "# Start the threads\n",
    "thread1.start()\n",
    "thread2.start()\n",
    "\n",
    "# Wait for both threads to finish\n",
    "thread1.join()\n",
    "thread2.join()\n",
    "\n",
    "print(\"Both threads have finished execution.\")\n"
   ]
  },
  {
   "cell_type": "code",
   "execution_count": 91,
   "metadata": {},
   "outputs": [
    {
     "name": "stdout",
     "output_type": "stream",
     "text": [
      "0\n",
      "A\n",
      "1B\n",
      "\n",
      "2\n",
      "C\n",
      "3D\n",
      "\n",
      "E4\n",
      "\n",
      "Both threads have finished execution.\n"
     ]
    }
   ],
   "source": [
    "import threading\n",
    "import time\n",
    "\n",
    "def print_numbers():\n",
    "    for i in range(5):\n",
    "        print(i)\n",
    "        time.sleep(1)\n",
    "\n",
    "def print_letters():\n",
    "    for letter in 'ABCDE':\n",
    "        print(letter)\n",
    "        time.sleep(1)\n",
    "\n",
    "# Create two threads\n",
    "t1 = threading.Thread(target=print_numbers)\n",
    "t2 = threading.Thread(target=print_letters)\n",
    "\n",
    "# Start the threads\n",
    "t1.start()\n",
    "t2.start()\n",
    "\n",
    "# Wait for both threads to finish\n",
    "t1.join()\n",
    "t2.join()\n",
    "\n",
    "print(\"Both threads have finished execution.\")\n"
   ]
  },
  {
   "cell_type": "markdown",
   "metadata": {},
   "source": [
    "### **Generating Random Numbers**"
   ]
  },
  {
   "cell_type": "code",
   "execution_count": 92,
   "metadata": {},
   "outputs": [
    {
     "name": "stdout",
     "output_type": "stream",
     "text": [
      "0.24340778732213408\n",
      "40\n",
      "[3, 1, 2, 5, 4]\n",
      "Using random sample\n",
      "[5, 4, 3]\n"
     ]
    }
   ],
   "source": [
    "import random\n",
    "\n",
    "random_number = random.random()\n",
    "print(random_number)\n",
    "\n",
    "random_integer = random.randint(1,100)\n",
    "print(random_integer)\n",
    "\n",
    "# Using random.shuffle(seq): This function shuffles the elements of a sequence seq in place.\n",
    "import random\n",
    "\n",
    "my_list = [1, 2, 3, 4, 5]\n",
    "random.shuffle(my_list)\n",
    "print(my_list)\n",
    "\n",
    "# Using random.sample(population, k): This function returns a k length list of unique elements chosen from the population sequence or set.\n",
    "new_sequence = random.sample(my_list, 3)\n",
    "print(\"Using random sample\")\n",
    "print(new_sequence)"
   ]
  },
  {
   "cell_type": "markdown",
   "metadata": {},
   "source": [
    "### **Python Decorators**"
   ]
  },
  {
   "cell_type": "code",
   "execution_count": 93,
   "metadata": {},
   "outputs": [
    {
     "name": "stdout",
     "output_type": "stream",
     "text": [
      "Something is happening before the function is called.\n",
      "Hello!\n",
      "Something is happening after the function is called.\n"
     ]
    }
   ],
   "source": [
    "def my_decorator(func):\n",
    "    def wrapper():\n",
    "        print(\"Something is happening before the function is called.\")\n",
    "        func()\n",
    "        print(\"Something is happening after the function is called.\")\n",
    "    return wrapper\n",
    "\n",
    "@my_decorator\n",
    "def say_hello():\n",
    "    print(\"Hello!\")\n",
    "\n",
    "say_hello()\n"
   ]
  },
  {
   "cell_type": "code",
   "execution_count": 94,
   "metadata": {},
   "outputs": [
    {
     "name": "stdout",
     "output_type": "stream",
     "text": [
      "Greetings!\n",
      "Greetings!\n",
      "Greetings!\n",
      "Greetings!\n",
      "Greetings!\n",
      "Greetings!\n"
     ]
    }
   ],
   "source": [
    "def repeat(num_times):\n",
    "    def repeater(func):\n",
    "        def wrapper(*args, **kwargs):\n",
    "            for _ in range(num_times):\n",
    "                result = func(*args, **kwargs)\n",
    "            return result\n",
    "        return wrapper\n",
    "    return repeater\n",
    "\n",
    "@repeat(num_times=6)\n",
    "def greet():\n",
    "    print(\"Greetings!\")\n",
    "\n",
    "greet()"
   ]
  },
  {
   "cell_type": "code",
   "execution_count": 95,
   "metadata": {},
   "outputs": [
    {
     "name": "stdout",
     "output_type": "stream",
     "text": [
      "persian\n"
     ]
    }
   ],
   "source": [
    "from abc import ABC, abstractmethod\n",
    "\n",
    "class Animal(ABC):\n",
    "    name:str  \n",
    "\n",
    "    @abstractmethod\n",
    "    def print():\n",
    "        pass\n",
    "\n",
    "class Cat(Animal):\n",
    "    def __init__(self, breed) -> None:\n",
    "        super().__init__()      \n",
    "        self.breed = breed\n",
    "    \n",
    "    def print(self):\n",
    "        print(self.breed)\n",
    "\n",
    "cat1 = Cat(\"persian\")\n",
    "cat1.print()"
   ]
  },
  {
   "cell_type": "markdown",
   "metadata": {},
   "source": [
    "### **Polymorphism**"
   ]
  },
  {
   "cell_type": "code",
   "execution_count": 96,
   "metadata": {},
   "outputs": [],
   "source": [
    "class Human:\n",
    "    def greet(self):\n",
    "        print(\"Student is greeting\")\n",
    "\n",
    "class Student(Human):\n",
    "    def greet(self, name:str):\n",
    "        print(f\"Greetings, {name}\")"
   ]
  },
  {
   "cell_type": "code",
   "execution_count": 97,
   "metadata": {},
   "outputs": [
    {
     "name": "stdout",
     "output_type": "stream",
     "text": [
      "2\n",
      "4\n",
      "6\n",
      "8\n",
      "10\n",
      "12\n",
      "14\n",
      "16\n",
      "18\n",
      "20\n"
     ]
    }
   ],
   "source": [
    "arr: List[int] = [num for num in range(1,21)]\n",
    "for item in filter(lambda item: item % 2 == 0, arr):\n",
    "    print(item)"
   ]
  },
  {
   "cell_type": "markdown",
   "metadata": {},
   "source": [
    "### **Chocolate Feast**\n",
    "\n",
    "Little Bobby loves chocolate. He frequently goes to his favorite  store, Penny Auntie, to buy them. They are having a promotion at Penny Auntie. If Bobby saves enough wrappers, he can turn them in for a free chocolate.\n"
   ]
  },
  {
   "cell_type": "code",
   "execution_count": 98,
   "metadata": {},
   "outputs": [],
   "source": [
    "def chocolateFeast(n, c, m):\n",
    "    chocolates = n // c\n",
    "    #\n",
    "    wrappers = c\n",
    "    #\n",
    "    additional_chocolates = chocolates // m\n",
    "    #\n",
    "    chocolates += additional_chocolates\n",
    "    wrappers = wrappers % m + additional_chocolates\n",
    "       # Calculate additional chocolates Bobby can buy with remaining wrappers\n",
    "    additional_chocolates = wrappers // m\n",
    "    \n",
    "    # Update total chocolates\n",
    "    chocolates += additional_chocolates\n",
    "    \n",
    "    return chocolates"
   ]
  },
  {
   "cell_type": "markdown",
   "metadata": {},
   "source": [
    "### **Encapsulation with Private Attribute**\n",
    "\n",
    "Public Attribute:\n",
    "\n",
    "self.owner is a public attribute and can be accessed directly.\n",
    "Protected Attribute:\n",
    "\n",
    "self._balance is a protected attribute and should not be accessed directly from outside the class. It's intended to be used within the class and by subclasses.\n",
    "Private Attribute Example:\n",
    "\n",
    "To demonstrate private attributes, let's modify the class to use a private attribute:"
   ]
  },
  {
   "cell_type": "code",
   "execution_count": 99,
   "metadata": {},
   "outputs": [
    {
     "name": "stdout",
     "output_type": "stream",
     "text": [
      "Deposited 500. New balance is 1500.\n",
      "Withdrew 200. New balance is 1300.\n",
      "Alice\n",
      "1300\n"
     ]
    }
   ],
   "source": [
    "class BankAccount:\n",
    "    def __init__(self, owner, balance):\n",
    "        self.owner = owner                  # Public attribute\n",
    "        self.__balance = balance            # Private attribute\n",
    "\n",
    "    def deposit(self, amount):\n",
    "        if amount > 0:\n",
    "            self.__balance += amount\n",
    "            print(f\"Deposited {amount}. New balance is {self.__balance}.\")\n",
    "        else:\n",
    "            print(\"Deposit amount must be positive.\")\n",
    "\n",
    "    def withdraw(self, amount):\n",
    "        if amount > 0 and amount <= self.__balance:\n",
    "            self.__balance -= amount\n",
    "            print(f\"Withdrew {amount}. New balance is {self.__balance}.\")\n",
    "        else:\n",
    "            print(\"Insufficient funds or invalid amount.\")\n",
    "\n",
    "    def get_balance(self):\n",
    "        return self.__balance\n",
    "\n",
    "# Usage\n",
    "account = BankAccount(\"Alice\", 1000)\n",
    "account.deposit(500)          # Deposited 500. New balance is 1500.\n",
    "account.withdraw(200)         # Withdrew 200. New balance is 1300.\n",
    "\n",
    "print(account.owner)          # Alice\n",
    "print(account.get_balance())  # 1300\n",
    "\n",
    "# Trying to access private attribute directly will result in an error\n",
    "# print(account.__balance)    # AttributeError: 'BankAccount' object has no attribute '__balance'\n"
   ]
  },
  {
   "cell_type": "code",
   "execution_count": 100,
   "metadata": {},
   "outputs": [
    {
     "name": "stdout",
     "output_type": "stream",
     "text": [
      "<class 'list'>\n",
      "[[5, 6]] 6\n"
     ]
    }
   ],
   "source": [
    "nums = [5,6]\n",
    "*mmid, lst = nums, nums[-1]\n",
    "print(type(mmid))\n",
    "print(mmid, lst) #"
   ]
  },
  {
   "cell_type": "code",
   "execution_count": 101,
   "metadata": {},
   "outputs": [
    {
     "name": "stdout",
     "output_type": "stream",
     "text": [
      "[[2, 4, 6, 8, 10]] 10\n",
      "1\n",
      "10\n"
     ]
    }
   ],
   "source": [
    "even_nums: List[int] = [num for num in range(1,11) if num % 2 == 0]\n",
    "*nums, lst = even_nums, even_nums[-1]\n",
    "print(nums, lst)\n",
    "print(len(nums))\n",
    "print(lst)\n"
   ]
  },
  {
   "cell_type": "code",
   "execution_count": 102,
   "metadata": {},
   "outputs": [
    {
     "name": "stdout",
     "output_type": "stream",
     "text": [
      "2024-11-28 11:44:46.271030\n"
     ]
    },
    {
     "data": {
      "text/plain": [
       "'2024 11 28 11:44:46'"
      ]
     },
     "execution_count": 102,
     "metadata": {},
     "output_type": "execute_result"
    }
   ],
   "source": [
    "import datetime\n",
    "\n",
    "now = datetime.datetime.now()\n",
    "print(now)\n",
    "formatted_time = now.strftime(\"%Y %m %d %H:%M:%S\")\n",
    "formatted_time"
   ]
  },
  {
   "cell_type": "code",
   "execution_count": 103,
   "metadata": {},
   "outputs": [
    {
     "data": {
      "text/plain": [
       "'shahzaib'"
      ]
     },
     "execution_count": 103,
     "metadata": {},
     "output_type": "execute_result"
    }
   ],
   "source": [
    "students = (\"shahzaib\", \"john\", \"bill\")\n",
    "students[0]"
   ]
  },
  {
   "cell_type": "markdown",
   "metadata": {},
   "source": [
    "### **Service Lane - Hacker Rank Problem**"
   ]
  },
  {
   "cell_type": "code",
   "execution_count": 104,
   "metadata": {},
   "outputs": [],
   "source": [
    "n = 4\n",
    "widths = [2,3,2,1]\n",
    "cases = [[1,2],[2,4]]"
   ]
  },
  {
   "cell_type": "code",
   "execution_count": 105,
   "metadata": {},
   "outputs": [],
   "source": [
    "def serviceLane(n, cases):\n",
    "    # Write your code here\n",
    "    pass"
   ]
  },
  {
   "cell_type": "markdown",
   "metadata": {},
   "source": [
    "### **Add Binary**"
   ]
  },
  {
   "cell_type": "code",
   "execution_count": 106,
   "metadata": {},
   "outputs": [],
   "source": [
    "a = \"1010\"\n",
    "b = \"1011\""
   ]
  },
  {
   "cell_type": "code",
   "execution_count": 107,
   "metadata": {},
   "outputs": [],
   "source": [
    " # Pad the shorter string with leading zeros\n",
    "def addBinary(a: str, b: str) -> str:\n",
    "    # Initialize result string and carry\n",
    "    result = []\n",
    "    carry = 0\n",
    "\n",
    "    # Pad the shorter string with leading zeros\n",
    "    max_len = max(len(a), len(b))\n",
    "    a = a.zfill(max_len)\n",
    "    b = b.zfill(max_len)\n",
    "    print(a)\n",
    "    print(b)\n",
    "    # Complete it"
   ]
  },
  {
   "cell_type": "code",
   "execution_count": 108,
   "metadata": {},
   "outputs": [
    {
     "name": "stdout",
     "output_type": "stream",
     "text": [
      "1010\n",
      "1011\n"
     ]
    }
   ],
   "source": [
    "addBinary(a=a,b=b)"
   ]
  },
  {
   "cell_type": "code",
   "execution_count": 109,
   "metadata": {},
   "outputs": [],
   "source": [
    "def deleteDuplicates(head):\n",
    "    \"\"\"\n",
    "    :type head: ListNode\n",
    "    :rtype: ListNode\n",
    "    \"\"\"\n",
    "    pointer = head\n",
    "    if head is not None:\n",
    "        while pointer.next is not None:\n",
    "            if pointer.val == pointer.next.val:\n",
    "                pointer.next = pointer.next.next\n",
    "            else:\n",
    "                pointer = pointer.next\n",
    "    return head"
   ]
  },
  {
   "cell_type": "code",
   "execution_count": 110,
   "metadata": {},
   "outputs": [],
   "source": [
    "def rightTriangle(limit:int):\n",
    "    for i in range(0,limit):\n",
    "        print(\"*\" * i)"
   ]
  },
  {
   "cell_type": "code",
   "execution_count": 111,
   "metadata": {},
   "outputs": [
    {
     "name": "stdout",
     "output_type": "stream",
     "text": [
      "\n",
      "*\n",
      "**\n",
      "***\n",
      "****\n",
      "*****\n",
      "******\n",
      "*******\n",
      "********\n",
      "*********\n"
     ]
    }
   ],
   "source": [
    "rightTriangle(10)"
   ]
  },
  {
   "cell_type": "code",
   "execution_count": 112,
   "metadata": {},
   "outputs": [],
   "source": [
    "def inverseRightTriangle(limit:int):\n",
    "    for i in range(limit, 0, -1):\n",
    "        print(\"*\" * i)"
   ]
  },
  {
   "cell_type": "code",
   "execution_count": 113,
   "metadata": {},
   "outputs": [
    {
     "name": "stdout",
     "output_type": "stream",
     "text": [
      "**********\n",
      "*********\n",
      "********\n",
      "*******\n",
      "******\n",
      "*****\n",
      "****\n",
      "***\n",
      "**\n",
      "*\n"
     ]
    }
   ],
   "source": [
    "inverseRightTriangle(10)"
   ]
  },
  {
   "cell_type": "markdown",
   "metadata": {},
   "source": [
    "### **Lisa's Workbook - Hackerrank**"
   ]
  },
  {
   "cell_type": "code",
   "execution_count": 114,
   "metadata": {},
   "outputs": [],
   "source": [
    "def workbook(n, k, arr):\n",
    "    for i in range(1,n+1):\n",
    "        if(arr[i] < k):\n",
    "            print(\"Pass\")\n",
    "        # Checking last page\n",
    "        if i == n:\n",
    "            print(\"Last page\")"
   ]
  },
  {
   "cell_type": "markdown",
   "metadata": {},
   "source": [
    "### **Longest Substring Without Repeating Characters**"
   ]
  },
  {
   "cell_type": "code",
   "execution_count": 115,
   "metadata": {},
   "outputs": [],
   "source": [
    "def lengthOfLongestSubstring(s: str) -> int:\n",
    "    l = 0\n",
    "    size = len(s)\n",
    "    longest = 0\n",
    "    s_set = set() #To track duplicates.\n",
    "    #\n",
    "    for r in range(size):\n",
    "        while s[r] in s_set:\n",
    "            s_set.remove(s[l])\n",
    "            l += 1\n",
    "        # Calculating varying window.\n",
    "        w = (r - l) + 1\n",
    "        longest = max(longest, w)\n",
    "        s_set.add(s[r])\n",
    "    return longest\n",
    "       "
   ]
  },
  {
   "cell_type": "code",
   "execution_count": 116,
   "metadata": {},
   "outputs": [
    {
     "data": {
      "text/plain": [
       "3"
      ]
     },
     "execution_count": 116,
     "metadata": {},
     "output_type": "execute_result"
    }
   ],
   "source": [
    "lengthOfLongestSubstring(\"abcabcbb\")"
   ]
  },
  {
   "cell_type": "markdown",
   "metadata": {},
   "source": [
    "### **Max Consecutive Ones**"
   ]
  },
  {
   "cell_type": "code",
   "execution_count": 117,
   "metadata": {},
   "outputs": [],
   "source": [
    "def findMaxConsecutiveOnes_v1(self, nums: List[int]) -> int:\n",
    "    l = 0 \n",
    "    size = len(nums)\n",
    "    max_ones:int = 0\n",
    "    current_ones = 0\n",
    "    #\n",
    "    for num in nums:\n",
    "        if num == 1:\n",
    "            current_ones += 1\n",
    "            max_ones = max(max_ones, current_ones)\n",
    "        else:\n",
    "            current_ones = 0\n",
    "            max_ones = max(max_ones, current_ones)\n",
    "    return max_ones "
   ]
  },
  {
   "cell_type": "code",
   "execution_count": 118,
   "metadata": {},
   "outputs": [],
   "source": [
    "def findMaxConsecutiveOnes_v2(nums: List[int]) -> int:\n",
    "    l = 0 \n",
    "    max_ones_total: int = 0\n",
    "    size: int = len(nums)\n",
    "    #\n",
    "    for r in range(size):\n",
    "        if nums[r] == 0:\n",
    "            l = r + 1\n",
    "        w = (r - l) + 1\n",
    "        max_ones_total = max(max_ones_total, w)\n",
    "    \n",
    "    return max_ones_total"
   ]
  },
  {
   "cell_type": "code",
   "execution_count": 119,
   "metadata": {},
   "outputs": [
    {
     "data": {
      "text/plain": [
       "3"
      ]
     },
     "execution_count": 119,
     "metadata": {},
     "output_type": "execute_result"
    }
   ],
   "source": [
    "findMaxConsecutiveOnes_v2([1,1,0,1,1,1])"
   ]
  },
  {
   "cell_type": "code",
   "execution_count": 120,
   "metadata": {},
   "outputs": [
    {
     "data": {
      "text/plain": [
       "[0, 0, 0, 0, 0, 0]"
      ]
     },
     "execution_count": 120,
     "metadata": {},
     "output_type": "execute_result"
    }
   ],
   "source": [
    "[0] * 6"
   ]
  },
  {
   "cell_type": "markdown",
   "metadata": {},
   "source": [
    "### **Enqeue and Deqeue Problem**"
   ]
  },
  {
   "cell_type": "code",
   "execution_count": 121,
   "metadata": {},
   "outputs": [],
   "source": [
    "from collections import deque\n",
    "from typing import List\n",
    "\n",
    "def get_operations(s:str):\n",
    "    operations = deque()\n",
    "    for i in range(s):\n",
    "        if s[i] == \"E\":\n",
    "            operations.append(s[i])\n",
    "        else:\n",
    "            operations.append(s[i])\n",
    "    return operations\n",
    "\n",
    "def enqeue_and_deqeue_nums(data:str):\n",
    "  queue = []\n",
    "  for char in data:\n",
    "    if char.isalpha():\n",
    "      char = char.upper()\n",
    "      if char == 'E':\n",
    "        # Extract the number following E\n",
    "        try:\n",
    "          number = int(data[data.index(char) + 1])\n",
    "          queue.append(number)\n",
    "        except (ValueError, IndexError):\n",
    "          # If no number follows E or conversion fails, return None\n",
    "          return None\n",
    "      elif char == 'D':\n",
    "        try:\n",
    "          # Dequeue an element from the queue\n",
    "          queue.pop(0)\n",
    "        except IndexError:\n",
    "          # If queue is empty on dequeue, return None\n",
    "          return None\n",
    "      else:\n",
    "        # Ignore any other characters\n",
    "        pass\n",
    "    else:\n",
    "      # Ignore non-alphanumeric characters\n",
    "      pass\n",
    "  return queue\n",
    "    "
   ]
  },
  {
   "cell_type": "code",
   "execution_count": 122,
   "metadata": {},
   "outputs": [
    {
     "name": "stdout",
     "output_type": "stream",
     "text": [
      "None\n"
     ]
    }
   ],
   "source": [
    "# Test Case #1\n",
    "print(enqeue_and_deqeue_nums(\"EE2DD3\"))"
   ]
  },
  {
   "cell_type": "code",
   "execution_count": 123,
   "metadata": {},
   "outputs": [
    {
     "name": "stdout",
     "output_type": "stream",
     "text": [
      "1\n",
      "1\n"
     ]
    }
   ],
   "source": [
    "print(51 % 10)\n",
    "print(71 % 10)"
   ]
  },
  {
   "cell_type": "code",
   "execution_count": 124,
   "metadata": {},
   "outputs": [
    {
     "data": {
      "text/plain": [
       "44"
      ]
     },
     "execution_count": 124,
     "metadata": {},
     "output_type": "execute_result"
    }
   ],
   "source": [
    "sum([1,8,6,2,5,4,8,3,7])"
   ]
  },
  {
   "cell_type": "code",
   "execution_count": 125,
   "metadata": {},
   "outputs": [
    {
     "data": {
      "text/plain": [
       "[6]"
      ]
     },
     "execution_count": 125,
     "metadata": {},
     "output_type": "execute_result"
    }
   ],
   "source": [
    "k = 6\n",
    "count = [k]\n",
    "\n",
    "count"
   ]
  },
  {
   "cell_type": "code",
   "execution_count": 126,
   "metadata": {},
   "outputs": [
    {
     "name": "stdout",
     "output_type": "stream",
     "text": [
      "Counter({'(': 1, ')': 1})\n",
      "Counter({'(': 2, ')': 2})\n"
     ]
    },
    {
     "data": {
      "text/plain": [
       "True"
      ]
     },
     "execution_count": 126,
     "metadata": {},
     "output_type": "execute_result"
    }
   ],
   "source": [
    "from collections import Counter\n",
    "\n",
    "# Checking Parenthesis.\n",
    "def extractor(s:str):\n",
    "    s_items = Counter(s)\n",
    "    print(s_items)\n",
    "    #\n",
    "    if s_items[\"(\"] == s_items[\")\"]:\n",
    "        return True\n",
    "    else:\n",
    "        return False\n",
    "\n",
    "# \"(())\"\n",
    "# \"()\"\n",
    "extractor(\"()\")\n",
    "extractor(\"(())\")\n",
    "     "
   ]
  },
  {
   "cell_type": "markdown",
   "metadata": {},
   "source": [
    "### Multiplication using Recursion."
   ]
  },
  {
   "cell_type": "code",
   "execution_count": 127,
   "metadata": {},
   "outputs": [
    {
     "data": {
      "text/plain": [
       "20"
      ]
     },
     "execution_count": 127,
     "metadata": {},
     "output_type": "execute_result"
    }
   ],
   "source": [
    "# Multiplication is addition repeatedly.\n",
    "def multiplication_recursion(a,b):\n",
    "    if b == 0:\n",
    "        return 0\n",
    "    else:\n",
    "        return a + multiplication_recursion(a, b - 1)\n",
    "\n",
    "multiplication_recursion(2,10)"
   ]
  },
  {
   "cell_type": "markdown",
   "metadata": {},
   "source": [
    "### **Valid Parenthesis**"
   ]
  },
  {
   "cell_type": "code",
   "execution_count": 128,
   "metadata": {},
   "outputs": [],
   "source": [
    "# It's a stack problem\n",
    "def valid_parenthesis(s:str)->bool:\n",
    "    if len(s) == 0:\n",
    "        return False\n",
    "    stack = [] # It maintain open brackets\n",
    "    mapping = {\n",
    "        \")\":\"(\",\n",
    "        \"}\":\"{\",\n",
    "        \"]\":\"[\"\n",
    "    }\n",
    "    #\n",
    "    for char in s:\n",
    "        if char not in mapping:\n",
    "            print(char)\n",
    "            stack.append(char)\n",
    "        else:\n",
    "            if not stack:\n",
    "                return False\n",
    "            else:\n",
    "                print(stack)\n",
    "                popped = stack.pop()\n",
    "                if popped != mapping[char]:\n",
    "                    return False\n",
    "    return not stack"
   ]
  },
  {
   "cell_type": "code",
   "execution_count": 129,
   "metadata": {},
   "outputs": [
    {
     "name": "stdout",
     "output_type": "stream",
     "text": [
      "(\n",
      "['(']\n"
     ]
    },
    {
     "data": {
      "text/plain": [
       "True"
      ]
     },
     "execution_count": 129,
     "metadata": {},
     "output_type": "execute_result"
    }
   ],
   "source": [
    "valid_parenthesis(\"()\")\n",
    "# valid_parenthesis(\"()[]{}\")\n",
    "# valid_parenthesis(\"(]\")"
   ]
  },
  {
   "cell_type": "markdown",
   "metadata": {},
   "source": [
    "### **Quicksort Algorithm**"
   ]
  },
  {
   "cell_type": "code",
   "execution_count": 130,
   "metadata": {},
   "outputs": [],
   "source": [
    "def quicksort_algorithm(arr):\n",
    "    if len(arr) <= 1:\n",
    "        return arr\n",
    "    pivot = arr[len(arr)//2]\n",
    "    left = [x for x in arr if x < pivot]\n",
    "    middle = [x for x in arr if x == pivot]\n",
    "    right = [x for x in arr if x > pivot]\n",
    "    return quicksort_algorithm(left) + middle + quicksort_algorithm(right)\n",
    "        "
   ]
  },
  {
   "cell_type": "code",
   "execution_count": 131,
   "metadata": {},
   "outputs": [
    {
     "data": {
      "text/plain": [
       "[10, 30, 40, 80]"
      ]
     },
     "execution_count": 131,
     "metadata": {},
     "output_type": "execute_result"
    }
   ],
   "source": [
    "# Test Cases\n",
    "quicksort_algorithm([10,80,30,40])"
   ]
  },
  {
   "cell_type": "markdown",
   "metadata": {},
   "source": [
    "You are given two types of marbles: red and blue. Initially, you have 1 red and 1 blue marble. In each iteration, you can replicate marbles based on the following rules:\n",
    "\n",
    "1. You can choose to add one blue marble for each red marble you have (replicating red marbles).\n",
    "2. You can choose to add one red marble for each blue marble you have (replicating blue marbles).\n",
    "\n",
    "You can only make one choice per iteration. Your goal is to determine:\n",
    "\n",
    "1. The minimum number of iterations needed to reach exactly `n` red marbles and `m` blue marbles.\n",
    "2. The sequence of decisions (either \"red\" or \"blue\") made at each iteration to achieve the goal.\n",
    "\n",
    "If it is impossible to reach the exact number of marbles, return `-1`.\n"
   ]
  },
  {
   "cell_type": "code",
   "execution_count": 132,
   "metadata": {},
   "outputs": [],
   "source": [
    "def red_blue(n:int, m:int):\n",
    "    # if (n >= 1 and n <= 10000000) and (m >= 1 and m < 10000000):\n",
    "    #     return -1\n",
    "    marbles: list[int] = [\"red\", \"blue\"]\n",
    "    n_count:int = 0\n",
    "    m_count:int = 0\n",
    "    #\n",
    "    while n_count <= n or m_count <= m:\n",
    "        if n_count <= n:\n",
    "            marbles.append(\"red\")\n",
    "            n_count += 1\n",
    "        elif m_count <= m:\n",
    "            marbles.append(\"blue\")\n",
    "            m_count += 1\n",
    "        # else:\n",
    "        #     return -1\n",
    "    #\n",
    "    return marbles"
   ]
  },
  {
   "cell_type": "code",
   "execution_count": 133,
   "metadata": {},
   "outputs": [
    {
     "data": {
      "text/plain": [
       "['red',\n",
       " 'blue',\n",
       " 'red',\n",
       " 'red',\n",
       " 'red',\n",
       " 'red',\n",
       " 'blue',\n",
       " 'blue',\n",
       " 'blue',\n",
       " 'blue',\n",
       " 'blue',\n",
       " 'blue']"
      ]
     },
     "execution_count": 133,
     "metadata": {},
     "output_type": "execute_result"
    }
   ],
   "source": [
    "red_blue(3,5)"
   ]
  },
  {
   "cell_type": "markdown",
   "metadata": {},
   "source": [
    "R\n",
    "B\n",
    "B\n",
    "R\n",
    "R\n",
    "B\n",
    "\n",
    "\n",
    "Example 2:\n",
    "\n",
    "R\n",
    "R\n",
    "B\n",
    "B\n",
    "R\n",
    "R\n",
    "R\n",
    "B\n",
    "R\n",
    "\n",
    "\n",
    "Given a sequence of red and blue coloured buildings. Find the happiness score of Mr. Hassan which is maximum number of consecutive Red buildings\n"
   ]
  },
  {
   "cell_type": "code",
   "execution_count": 134,
   "metadata": {},
   "outputs": [],
   "source": [
    "# def happy_score_calc(arr):\n",
    "#     happy_score_counter:int = 0\n",
    "#     consecutive_Rs: list[str] = []\n",
    "#     collections = []\n",
    "    \n",
    "#     for i in range(len(arr)):\n",
    "#         if arr[i] == \"R\":\n",
    "#             # happy_score_counter += 1\n",
    "#             consecutive_Rs.append(arr[i])\n",
    "#         elif arr[i] == \"B\":\n",
    "#             collections.append(consecutive_Rs)\n",
    "\n",
    "#     print(collections)\n",
    "#     return len(consecutive_Rs)\n",
    "\n",
    "def happy_score_calc(arr):\n",
    "    happy_score_counter: int = 0\n",
    "    consecutive_Rs: list[str] = []\n",
    "    collections = []\n",
    "    \n",
    "    for i in range(len(arr)):\n",
    "        if arr[i] == \"R\":\n",
    "            happy_score_counter += 1\n",
    "            consecutive_Rs.append(arr[i])\n",
    "        elif arr[i] == \"B\":\n",
    "            if consecutive_Rs:\n",
    "                collections.append(len(consecutive_Rs))\n",
    "                consecutive_Rs = []  # Reset for new sequence of \"R\"\n",
    "    \n",
    "    # If the array ends with a sequence of \"R\", add it to collections\n",
    "    if consecutive_Rs:\n",
    "        collections.append(len(consecutive_Rs))\n",
    "    \n",
    "    return max(collections)"
   ]
  },
  {
   "cell_type": "code",
   "execution_count": 135,
   "metadata": {},
   "outputs": [
    {
     "name": "stdout",
     "output_type": "stream",
     "text": [
      "3\n"
     ]
    }
   ],
   "source": [
    "# test_case_1 = [\"R\", \"B\", \"B\", \"R\", \"R\", \"B\"]\n",
    "# test_case_2 = [\"R\", \"R\", \"B\", \"B\", \"R\", \"R\", \"R\", \"B\", \"R\"]\n",
    "\n",
    "# print(happy_score_calc(test_case_1))\n",
    "# print(happy_score_calc(test_case_2))\n",
    "arr = [\"R\", \"R\", \"B\", \"R\", \"R\", \"R\", \"B\", \"R\"]\n",
    "print(happy_score_calc(arr))"
   ]
  },
  {
   "cell_type": "markdown",
   "metadata": {},
   "source": [
    "### **Roman to Integer**"
   ]
  },
  {
   "cell_type": "code",
   "execution_count": 136,
   "metadata": {},
   "outputs": [],
   "source": [
    "def roman_to_integer(s:str):\n",
    "        # There are instances where subtraction is used.\n",
    "    rs = {\n",
    "        \"I\":1,\n",
    "        \"V\":5,\n",
    "        \"X\":10,\n",
    "        \"L\":50,\n",
    "        \"C\":100,\n",
    "        \"D\":500,\n",
    "        \"M\":1000\n",
    "    } \n",
    "    #\n",
    "    i:int = 0\n",
    "    n = len(s)\n",
    "    sum:int = 0\n",
    "    \n",
    "    while i < n:\n",
    "        if i < n-1 and (rs[s[i]] < rs[s[i+1]]):\n",
    "            sum += rs[s[i+1]] - rs[s[i]]\n",
    "            i+=2\n",
    "        else:\n",
    "            sum += rs[s[i]]\n",
    "            i+=1\n",
    "    return sum\n",
    "\n",
    "# Time Complexity: O(n)\n",
    "# Space Complexity: O(1)"
   ]
  },
  {
   "cell_type": "code",
   "execution_count": 137,
   "metadata": {},
   "outputs": [
    {
     "data": {
      "text/plain": [
       "1994"
      ]
     },
     "execution_count": 137,
     "metadata": {},
     "output_type": "execute_result"
    }
   ],
   "source": [
    "roman_to_integer(\"MCMXCIV\")"
   ]
  },
  {
   "cell_type": "markdown",
   "metadata": {},
   "source": [
    "### **Bit Manipulation and Binary Numbers**"
   ]
  },
  {
   "cell_type": "code",
   "execution_count": 138,
   "metadata": {},
   "outputs": [
    {
     "name": "stdout",
     "output_type": "stream",
     "text": [
      "1\n"
     ]
    }
   ],
   "source": [
    "# Bitwise AND(&)\n",
    "\n",
    "a = 5       # (binary: 0101)\n",
    "b = 3       # (binary: 0011)\n",
    "result = a & b  # result = 1 (binary: 0001)\n",
    "print(result)"
   ]
  },
  {
   "cell_type": "markdown",
   "metadata": {},
   "source": [
    "### **Sliding Window - Maximum Consecutive Ones 3**"
   ]
  },
  {
   "cell_type": "code",
   "execution_count": 139,
   "metadata": {},
   "outputs": [],
   "source": [
    "def longestOnes(nums: List[int], k: int) -> int:\n",
    "    max_w = 0\n",
    "    max_zeroes = 0\n",
    "    size = len(nums)\n",
    "    #\n",
    "    l:int = 0\n",
    "\n",
    "    if size <=0:\n",
    "        return 0\n",
    "    \n",
    "    for r in range(0, size):\n",
    "        if nums[r] == 0:\n",
    "            max_zeroes += 1\n",
    "        #\n",
    "        while max_zeroes > k:\n",
    "            if nums[l] == 0:\n",
    "                max_zeroes -= 1\n",
    "            l += 1\n",
    "        w = r - l + 1\n",
    "        max_w = max(max_w, w)\n",
    "    \n",
    "    return max_w\n",
    "\n",
    "    # Time Complexity: O(n), two pointers that are going forward, in one direction.\n",
    "    #Space Complexity: O(1), constant space."
   ]
  },
  {
   "cell_type": "code",
   "execution_count": 140,
   "metadata": {},
   "outputs": [
    {
     "data": {
      "text/plain": [
       "6"
      ]
     },
     "execution_count": 140,
     "metadata": {},
     "output_type": "execute_result"
    }
   ],
   "source": [
    "# Test Case #1\n",
    "nums = [1,1,1,0,0,0,1,1,1,1,0] \n",
    "k = 2\n",
    "longestOnes(nums, k)"
   ]
  },
  {
   "cell_type": "markdown",
   "metadata": {},
   "source": [
    "## **Trees**"
   ]
  },
  {
   "cell_type": "markdown",
   "metadata": {},
   "source": [
    "What is a Node?"
   ]
  },
  {
   "cell_type": "code",
   "execution_count": 141,
   "metadata": {},
   "outputs": [],
   "source": [
    "# A Simple Node of a tree\n",
    "class Node:\n",
    "    def __init__(self, value):\n",
    "        self.value = value\n",
    "        self.left = None\n",
    "        self.right = None"
   ]
  },
  {
   "cell_type": "markdown",
   "metadata": {},
   "source": [
    "### Creating a tree data structure"
   ]
  },
  {
   "cell_type": "markdown",
   "metadata": {},
   "source": [
    "       1\n",
    "      / \\\n",
    "     2   3\n",
    "    / \\\n",
    "   4   5\n"
   ]
  },
  {
   "cell_type": "code",
   "execution_count": 142,
   "metadata": {},
   "outputs": [],
   "source": [
    "from collections import deque\n",
    "\n",
    "class TreeNode:\n",
    "    def __init__(self, value) -> None:\n",
    "        self.value = value\n",
    "        self.children = []\n",
    "    \n",
    "    def addNode(self, childnode):\n",
    "        self.children.append(childnode)\n",
    "    \n",
    "    def printChildren(self, level=0):\n",
    "        \"\"\"Prints the tree structure in a readable format.\"\"\"\n",
    "        indent = \" \" * (level * 4)  # Indentation for visual hierarchy\n",
    "        print(f\"{indent}{self.value}\")\n",
    "        for child in self.children:\n",
    "            child.printChildren(level + 1)\n",
    "    \n",
    "    def printLeafNodes(self):\n",
    "        if len(self.children) <= 0:\n",
    "            print(\"===== Leaf Node =====\")\n",
    "            print(self.value)\n",
    "        else:\n",
    "            for child in self.children:\n",
    "                child.printLeafNodes()\n",
    "            \n",
    "            \n",
    "            \n",
    "    def print(self):\n",
    "        \"\"\"Alias to print_tree method to print the tree structure.\"\"\"\n",
    "        self.printChildren()\n",
    "        print()\n",
    "        print(\"----------------------\")\n",
    "        self.printLeafNodes()"
   ]
  },
  {
   "cell_type": "code",
   "execution_count": 143,
   "metadata": {},
   "outputs": [
    {
     "name": "stdout",
     "output_type": "stream",
     "text": [
      "Tree Structure:\n",
      "Root\n",
      "    Child 1\n",
      "        Grandchild 1.1\n",
      "        Grandchild 1.2\n",
      "    Child 2\n",
      "        Grandchild 2.1\n",
      "    Child 3\n",
      "\n",
      "----------------------\n",
      "===== Leaf Node =====\n",
      "Grandchild 1.1\n",
      "===== Leaf Node =====\n",
      "Grandchild 1.2\n",
      "===== Leaf Node =====\n",
      "Grandchild 2.1\n",
      "===== Leaf Node =====\n",
      "Child 3\n"
     ]
    }
   ],
   "source": [
    "# Example usage\n",
    "root = TreeNode(\"Root\")\n",
    "\n",
    "# Adding child nodes\n",
    "child1 = TreeNode(\"Child 1\")\n",
    "child2 = TreeNode(\"Child 2\")\n",
    "child3 = TreeNode(\"Child 3\")\n",
    "\n",
    "root.addNode(child1)\n",
    "root.addNode(child2)\n",
    "root.addNode(child3)\n",
    "\n",
    "# Adding grandchildren\n",
    "child1.addNode(TreeNode(\"Grandchild 1.1\"))\n",
    "child1.addNode(TreeNode(\"Grandchild 1.2\"))\n",
    "child2.addNode(TreeNode(\"Grandchild 2.1\"))\n",
    "\n",
    "# Displaying the tree structure using print method\n",
    "print(\"Tree Structure:\")\n",
    "root.print()"
   ]
  },
  {
   "cell_type": "markdown",
   "metadata": {},
   "source": [
    "### **Tree Traversals**\n",
    "\n",
    "- InOrder Traversal\n",
    "- Pre-Order Traversal\n",
    "- Post-Order Traversal"
   ]
  },
  {
   "cell_type": "code",
   "execution_count": 144,
   "metadata": {},
   "outputs": [],
   "source": [
    "class INTreeNode:\n",
    "    def __init__(self, val, left, right):\n",
    "        self.val = val\n",
    "        self.left = left\n",
    "        self.right = right\n",
    "    \n",
    "    def printNodes(self):\n",
    "        pass"
   ]
  },
  {
   "cell_type": "markdown",
   "metadata": {},
   "source": [
    "### **HEAP**\n",
    "\n",
    "The time complexity of O(log n) for going down the height of the tree in a min-heap (or max-heap) arises because a heap is typically represented as a binary tree and a binary tree has a logarithmic height relative to the number of elements it contains.\n",
    "\n",
    "There are two types of Heaps:\n",
    "\n",
    "- Min Heap \n",
    "- Max Heap"
   ]
  },
  {
   "cell_type": "markdown",
   "metadata": {},
   "source": [
    "#### Min Heap - Heapify"
   ]
  },
  {
   "cell_type": "code",
   "execution_count": 145,
   "metadata": {},
   "outputs": [
    {
     "data": {
      "text/plain": [
       "[-4, 0, 1, 3, 2, 5, 10, 8, 12, 9]"
      ]
     },
     "execution_count": 145,
     "metadata": {},
     "output_type": "execute_result"
    }
   ],
   "source": [
    "import heapq\n",
    "\n",
    "A = [-4,3,1,0,2,5,10,8,12,9]\n",
    "\n",
    "heapq.heapify(A)\n",
    "\n",
    "A"
   ]
  },
  {
   "cell_type": "code",
   "execution_count": 146,
   "metadata": {},
   "outputs": [
    {
     "data": {
      "text/plain": [
       "[-4, 0, 1, 3, 2, 5, 10, 8, 12, 9, 4]"
      ]
     },
     "execution_count": 146,
     "metadata": {},
     "output_type": "execute_result"
    }
   ],
   "source": [
    "# Heap Push: Insert Element\n",
    "# Time Complexity: O(log n)\n",
    "heapq.heappush(A,4)\n",
    "\n",
    "A"
   ]
  },
  {
   "cell_type": "code",
   "execution_count": 147,
   "metadata": {},
   "outputs": [
    {
     "data": {
      "text/plain": [
       "([0, 2, 1, 3, 4, 5, 10, 8, 12, 9], -4)"
      ]
     },
     "execution_count": 147,
     "metadata": {},
     "output_type": "execute_result"
    }
   ],
   "source": [
    "# Heap Extract: Pop Element\n",
    "# Time Complexity: O(log m)\n",
    "minn = heapq.heappop(A)\n",
    "\n",
    "A, minn"
   ]
  },
  {
   "cell_type": "markdown",
   "metadata": {},
   "source": [
    "#### **Let's work with Heap Sort**"
   ]
  },
  {
   "cell_type": "code",
   "execution_count": 148,
   "metadata": {},
   "outputs": [],
   "source": [
    "# Time Complexity: Building a heap takes O(n), moving down the depth of the heap tree take O(log n), \n",
    "# so the time complexity is O(nlogn)\n",
    "\n",
    "#Space Complexity; O(1)\n",
    "\n",
    "def heap_sort(list):\n",
    "    heapq.heapify(list)\n",
    "    n = len(list)\n",
    "    new_list = [0] * n # Remember this instruction that have zero as default on indices.\n",
    "    #\n",
    "    for i in range(n):\n",
    "        minn = heapq.heappop(list)\n",
    "        new_list[i] = minn\n",
    "        \n",
    "    return new_list\n"
   ]
  },
  {
   "cell_type": "code",
   "execution_count": 149,
   "metadata": {},
   "outputs": [
    {
     "data": {
      "text/plain": [
       "[0, 1, 2, 3, 4, 5, 6, 7, 8, 9]"
      ]
     },
     "execution_count": 149,
     "metadata": {},
     "output_type": "execute_result"
    }
   ],
   "source": [
    "heap_sort([1,3,5,7,9,2,4,6,8,0])"
   ]
  },
  {
   "cell_type": "code",
   "execution_count": 150,
   "metadata": {},
   "outputs": [
    {
     "data": {
      "text/plain": [
       "[(1, 2),\n",
       " (4, 5),\n",
       " (9, 10),\n",
       " (16, 17),\n",
       " (25, 26),\n",
       " (36, 37),\n",
       " (49, 50),\n",
       " (64, 65),\n",
       " (81, 82)]"
      ]
     },
     "execution_count": 150,
     "metadata": {},
     "output_type": "execute_result"
    }
   ],
   "source": [
    "list1 = [n**2 for n in range(1,10)]\n",
    "list2 = [n**2 + 1 for n in range(1,10)]\n",
    "merged_list = [item for item in zip(list1,list2)]\n",
    "result = [0] * len(merged_list)\n",
    "i:int = 0\n",
    "for i in range(len(merged_list)):\n",
    "    result[i] = merged_list[i]\n",
    "    \n",
    "result"
   ]
  },
  {
   "cell_type": "code",
   "execution_count": 151,
   "metadata": {},
   "outputs": [
    {
     "name": "stdout",
     "output_type": "stream",
     "text": [
      "         * \n",
      "        * * \n",
      "       * * * \n",
      "      * * * * \n",
      "     * * * * * \n",
      "    * * * * * * \n",
      "   * * * * * * * \n",
      "  * * * * * * * * \n",
      " * * * * * * * * * \n",
      "* * * * * * * * * * \n"
     ]
    }
   ],
   "source": [
    "### Equilateral Triangle\n",
    "\n",
    "def equilateralTriangle(n:int):\n",
    "    for i in range(n):\n",
    "        # Print spaces to center the asterisks\n",
    "        print(' ' * (n - i - 1), end='')\n",
    "\n",
    "        # Print asterisks with spaces between them for the triangle shape\n",
    "        print('* ' * (i + 1))\n",
    "\n",
    "equilateralTriangle(10)"
   ]
  },
  {
   "cell_type": "markdown",
   "metadata": {},
   "source": [
    "## **Stack & Queue**"
   ]
  },
  {
   "cell_type": "markdown",
   "metadata": {},
   "source": [
    "### **Stack**"
   ]
  },
  {
   "cell_type": "code",
   "execution_count": 152,
   "metadata": {},
   "outputs": [
    {
     "name": "stdout",
     "output_type": "stream",
     "text": [
      "After append\n",
      "[1, 'shahzaib', True, 100]\n"
     ]
    }
   ],
   "source": [
    "stack = []\n",
    "\n",
    "# Append\n",
    "stack.append(1)\n",
    "stack.append(\"shahzaib\")\n",
    "stack.append(True)\n",
    "stack.append(100)\n",
    "\n",
    "print(\"After append\")\n",
    "print(stack)"
   ]
  },
  {
   "cell_type": "code",
   "execution_count": 153,
   "metadata": {},
   "outputs": [
    {
     "data": {
      "text/plain": [
       "100"
      ]
     },
     "execution_count": 153,
     "metadata": {},
     "output_type": "execute_result"
    }
   ],
   "source": [
    "# Top of stack\n",
    "stack[-1]"
   ]
  },
  {
   "cell_type": "code",
   "execution_count": 154,
   "metadata": {},
   "outputs": [
    {
     "data": {
      "text/plain": [
       "100"
      ]
     },
     "execution_count": 154,
     "metadata": {},
     "output_type": "execute_result"
    }
   ],
   "source": [
    "# Extract recent element.\n",
    "x = stack.pop()\n",
    "x"
   ]
  },
  {
   "cell_type": "code",
   "execution_count": 155,
   "metadata": {},
   "outputs": [
    {
     "data": {
      "text/plain": [
       "True"
      ]
     },
     "execution_count": 155,
     "metadata": {},
     "output_type": "execute_result"
    }
   ],
   "source": [
    "# Return the top of stack.\n",
    "stack[-1] # This is equivalent of peek()"
   ]
  },
  {
   "cell_type": "code",
   "execution_count": 156,
   "metadata": {},
   "outputs": [
    {
     "data": {
      "text/plain": [
       "[1, 'shahzaib', True]"
      ]
     },
     "execution_count": 156,
     "metadata": {},
     "output_type": "execute_result"
    }
   ],
   "source": [
    "# After extracting last element length has reduced by 1\n",
    "stack"
   ]
  },
  {
   "cell_type": "markdown",
   "metadata": {},
   "source": [
    "### **Queue**"
   ]
  },
  {
   "cell_type": "code",
   "execution_count": 157,
   "metadata": {},
   "outputs": [
    {
     "data": {
      "text/plain": [
       "deque([1])"
      ]
     },
     "execution_count": 157,
     "metadata": {},
     "output_type": "execute_result"
    }
   ],
   "source": [
    "from collections import deque\n",
    "\n",
    "queue = deque()\n",
    "\n",
    "queue.append(1)\n",
    "\n",
    "# Time Complexity: O(1) i.e constant\n",
    "queue"
   ]
  },
  {
   "cell_type": "markdown",
   "metadata": {},
   "source": [
    "### Three in One: Describe how you could use a single array to implement three stacks."
   ]
  },
  {
   "cell_type": "code",
   "execution_count": 158,
   "metadata": {},
   "outputs": [],
   "source": [
    "class TripleStack:\n",
    "    def __init__(self, stack, totalSize):\n",
    "        self.stack = [None] * totalSize\n",
    "        self.size = len(stack) // 3\n",
    "        self.pointers = {1: -1, 2: -1, 3: -1}  # Dictionary to track the top of each stack\n",
    "    \n",
    "    def push(self, item):\n",
    "        self.stack.append(item)\n",
    "    \n",
    "    def pop(self):\n",
    "        # Pop an item from the front/top of the stack.\n",
    "        self.stack.pop()       \n",
    "    \n",
    "    def is_empty(self, stack_num):\n",
    "        return len(self.stack[stack_num]) == 0    \n",
    "    \n",
    "    def pop(self, stack_num):\n",
    "        \"\"\"Pop a value from one of the three stacks\"\"\"\n",
    "        if self.is_empty(stack_num):\n",
    "            raise IndexError(f\"Stack {stack_num} is empty!\")\n",
    "        return self.stacks[stack_num].pop()  # Use list's pop method to pop\n",
    "\n",
    "    def peek(self, stack_num):\n",
    "        \"\"\"Peek the top value of one of the three stacks\"\"\"\n",
    "        if self.is_empty(stack_num):\n",
    "            raise IndexError(f\"Stack {stack_num} is empty!\")\n",
    "        return self.stacks[stack_num][-1]  # Use list indexing to peek the top value\n",
    "\n",
    "    def size_of_stack(self, stack_num):\n",
    "        \"\"\"Return the current size of a specific stack\"\"\"\n",
    "        return len(self.stacks[stack_num]) \n",
    "    \n",
    "    def isMinElement(self):\n",
    "        pass"
   ]
  },
  {
   "cell_type": "markdown",
   "metadata": {},
   "source": [
    "### Stack Min: How would you design a stack which, in addition to push and pop, has a function min which returns the minimum element? Push, pop and min should all operate in 0(1) time."
   ]
  },
  {
   "cell_type": "code",
   "execution_count": 159,
   "metadata": {},
   "outputs": [],
   "source": [
    "class StackMin:\n",
    "    def __init__(self, minStack, totalSize):\n",
    "        self.minStack = [None] * totalSize\n",
    "    \n",
    "    def addMinItem(self,value):\n",
    "        if len(self.minStack) <= 0 and value <= self.minStack[-1]:\n",
    "            self.minStack.append(value)\n",
    "        else:\n",
    "            return f\"Push a value that is less than {self.minStack[-1]}\"\n",
    "    \n",
    "    def min(self):\n",
    "        \"\"\"Return the minimum element in the stack.\"\"\"\n",
    "        if not self.minStack:\n",
    "            raise IndexError(\"Min stack is empty\")\n",
    "        \n",
    "        return self.minStack[-1]"
   ]
  },
  {
   "cell_type": "markdown",
   "metadata": {},
   "source": [
    "### **Remove Duplicates and Return Unique Elements - V2**"
   ]
  },
  {
   "cell_type": "code",
   "execution_count": 160,
   "metadata": {},
   "outputs": [],
   "source": [
    "class Solution:\n",
    "    def removeDuplicates(self, nums: List[int]) -> int:\n",
    "        n:int = len(nums)\n",
    "\n",
    "        if n < 0:\n",
    "            return 0\n",
    "        \n",
    "        unique_nums = [] \n",
    "        left: int = 0\n",
    "        \n",
    "        print(nums)\n",
    "        for right in range(1,n):\n",
    "            if nums[right] != nums[left]:\n",
    "                left += 1\n",
    "                nums[left] = nums[right] \n",
    "                print(nums)\n",
    "                \n",
    "        return left + 1\n",
    "        "
   ]
  },
  {
   "cell_type": "code",
   "execution_count": 161,
   "metadata": {},
   "outputs": [
    {
     "name": "stdout",
     "output_type": "stream",
     "text": [
      "[1, 1, 2]\n",
      "[1, 2, 2]\n",
      "2\n"
     ]
    }
   ],
   "source": [
    "sol: Solution = Solution()\n",
    "\n",
    "response = sol.removeDuplicates([1,1,2])\n",
    "print(response)"
   ]
  },
  {
   "cell_type": "code",
   "execution_count": 162,
   "metadata": {},
   "outputs": [
    {
     "name": "stdout",
     "output_type": "stream",
     "text": [
      "[0, 0, 1, 1, 1, 2, 2, 3, 3, 4]\n",
      "[0, 1, 1, 1, 1, 2, 2, 3, 3, 4]\n",
      "[0, 1, 2, 1, 1, 2, 2, 3, 3, 4]\n",
      "[0, 1, 2, 3, 1, 2, 2, 3, 3, 4]\n",
      "[0, 1, 2, 3, 4, 2, 2, 3, 3, 4]\n",
      "5\n"
     ]
    }
   ],
   "source": [
    "response = sol.removeDuplicates([0,0,1,1,1,2,2,3,3,4])\n",
    "print(response)"
   ]
  },
  {
   "cell_type": "markdown",
   "metadata": {},
   "source": [
    "### **Find the non-repeating character in a string.**\n"
   ]
  },
  {
   "cell_type": "code",
   "execution_count": null,
   "metadata": {},
   "outputs": [
    {
     "name": "stdout",
     "output_type": "stream",
     "text": [
      "No unique character\n",
      "a\n"
     ]
    }
   ],
   "source": [
    "\"\"\"\n",
    "1. Basic Test Cases\n",
    "    Input: \"abcab\"\n",
    "    Expected Output: 'c' (First non-repeating character is 'c').\n",
    "    \n",
    "    Input: \"aabbcc\"\n",
    "    Expected Output: None or ' ' (No non-repeating character).\n",
    "    \n",
    "    Input: \"abcd\"\n",
    "    Expected Output: 'a' (All characters are non-repeating; return the first one).\n",
    "\"\"\"\n",
    "from collections import Counter\n",
    "class Solution:\n",
    "    def find_non_repeating_character(self,s:str):\n",
    "        s_dict = Counter(s)\n",
    "        unique_char: str = 0\n",
    "        #\n",
    "        for char in s:\n",
    "            if s_dict[char] and s_dict[char] == 1:\n",
    "                unique_char = char\n",
    "        \n",
    "        if unique_char:\n",
    "            return unique_char\n",
    "        \n",
    "        return \"No unique character\"\n",
    "                \n",
    "\n",
    "sol: Solution = Solution()\n",
    "print(sol.find_non_repeating_character('aabbcc'))\n",
    "print(sol.find_non_repeating_character('abcd'))\n"
   ]
  },
  {
   "cell_type": "markdown",
   "metadata": {},
   "source": [
    "### **Find first unique character in the string**"
   ]
  },
  {
   "cell_type": "code",
   "execution_count": 12,
   "metadata": {},
   "outputs": [
    {
     "name": "stdout",
     "output_type": "stream",
     "text": [
      "No unique character\n",
      "a\n"
     ]
    }
   ],
   "source": [
    "from collections import Counter\n",
    "\n",
    "class Solution:\n",
    "    def find_non_repeating_character(self, s: str):\n",
    "        s_dict = Counter(s)\n",
    "        for char in s:  # Ensure the first unique character is returned\n",
    "            if s_dict[char] == 1:\n",
    "                return char\n",
    "        return \"No unique character\"\n",
    "\n",
    "sol = Solution()\n",
    "print(sol.find_non_repeating_character('aabbcc'))  # Output: No unique character\n",
    "print(sol.find_non_repeating_character('abcd'))    # Output: a\n"
   ]
  }
 ],
 "metadata": {
  "kernelspec": {
   "display_name": "python-shahzaibse",
   "language": "python",
   "name": "python3"
  },
  "language_info": {
   "codemirror_mode": {
    "name": "ipython",
    "version": 3
   },
   "file_extension": ".py",
   "mimetype": "text/x-python",
   "name": "python",
   "nbconvert_exporter": "python",
   "pygments_lexer": "ipython3",
   "version": "3.12.2"
  }
 },
 "nbformat": 4,
 "nbformat_minor": 2
}
