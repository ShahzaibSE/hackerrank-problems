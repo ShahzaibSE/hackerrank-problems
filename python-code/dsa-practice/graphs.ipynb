{
 "cells": [
  {
   "cell_type": "markdown",
   "metadata": {},
   "source": [
    "# Graph Data Structure\n",
    "\n",
    "A **graph** is a data structure consisting of:\n",
    "\n",
    "- **Vertices (nodes):** Represent entities (e.g., people, places).\n",
    "- **Edges (links):** Represent connections/relationships between entities.\n",
    "\n",
    "Graphs are widely used to model real-world scenarios, such as social networks, maps, or web pages.\n",
    "\n",
    "---\n",
    "\n",
    "## Key Concepts for Interviews\n",
    "\n",
    "### 1. **Graph Representations**\n",
    "- Understand the difference between:\n",
    "  - **Adjacency List:** Space-efficient for sparse graphs; stores a list of neighbors for each vertex.\n",
    "  - **Adjacency Matrix:** Faster edge lookups; uses more space, especially for dense graphs.\n",
    "- **Trade-offs:** Choose based on the problem and the graph's density.\n",
    "\n",
    "---\n",
    "\n",
    "### 2. **Graph Traversals**\n",
    "- **Breadth-First Search (BFS):**\n",
    "  - Explores the graph layer by layer.\n",
    "  - Useful for solving problems like shortest path in unweighted graphs.\n",
    "- **Depth-First Search (DFS):**\n",
    "  - Explores as far as possible along a branch before backtracking.\n",
    "  - Used for problems like cycle detection, connected components, and puzzles.\n",
    "\n",
    "---\n",
    "\n",
    "### 3. **Graph Algorithms**\n",
    "- **Shortest Path Algorithms:**\n",
    "  - **Dijkstra's Algorithm:** Finds shortest path in weighted graphs (non-negative weights).\n",
    "  - **Bellman-Ford Algorithm:** Handles graphs with negative weights.\n",
    "  - **Floyd-Warshall Algorithm:** Computes shortest paths between all pairs of vertices.\n",
    "- **Minimum Spanning Tree (MST):**\n",
    "  - **Kruskal’s Algorithm:** Edge-based approach using sorting and union-find.\n",
    "  - **Prim’s Algorithm:** Starts from a vertex and grows the MST.\n",
    "\n",
    "---\n",
    "\n",
    "### 4. **Graph Properties**\n",
    "- **Graph Coloring:** Assign colors to vertices such that no two adjacent vertices share the same color.\n",
    "- **Bipartite Graphs:** Can be colored with two colors; used in scheduling and matching problems.\n",
    "- **Graph Connectivity:**\n",
    "  - Check if the graph is connected (all vertices are reachable).\n",
    "  - Identify strongly connected components in directed graphs.\n",
    "\n",
    "---\n",
    "\n",
    "### 5. **Advanced Topics**\n",
    "- **Topological Sorting:** Linear ordering of vertices for Directed Acyclic Graphs (DAGs); used in task scheduling.\n",
    "- **Strongly Connected Components (SCCs):** Subgraphs where every vertex is reachable from every other vertex; identified using Kosaraju's or Tarjan's algorithm.\n",
    "- **Network Flow:**\n",
    "  - Solve problems like maximum flow in a network.\n",
    "  - Algorithms: Ford-Fulkerson and Edmonds-Karp.\n",
    "\n",
    "---\n",
    "\n",
    "Graphs are a cornerstone of many algorithms and data structure problems. Mastering their representations, traversals, properties, and advanced algorithms is crucial for technical interviews.\n"
   ]
  },
  {
   "cell_type": "code",
   "execution_count": 1,
   "metadata": {},
   "outputs": [],
   "source": [
    "\"\"\"\n",
    "Let's create a simple graph.\n",
    "\"\"\"\n",
    "\n",
    "graph = {\n",
    "    1: [2,3,1]\n",
    "}"
   ]
  }
 ],
 "metadata": {
  "kernelspec": {
   "display_name": "python-shahzaibse",
   "language": "python",
   "name": "python3"
  },
  "language_info": {
   "codemirror_mode": {
    "name": "ipython",
    "version": 3
   },
   "file_extension": ".py",
   "mimetype": "text/x-python",
   "name": "python",
   "nbconvert_exporter": "python",
   "pygments_lexer": "ipython3",
   "version": "3.12.2"
  }
 },
 "nbformat": 4,
 "nbformat_minor": 2
}
