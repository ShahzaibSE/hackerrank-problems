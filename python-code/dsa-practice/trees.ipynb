{
 "cells": [
  {
   "cell_type": "markdown",
   "metadata": {},
   "source": [
    "## **What are Trees?**\n",
    "\n"
   ]
  },
  {
   "cell_type": "markdown",
   "metadata": {},
   "source": [
    "In Data Structures and Algorithms, a tree is a hierarchical data structure that represents a collection of elements (nodes) organized in a parent-child relationship. Trees are widely used due to their structured organization and efficient search, insertion, and deletion properties."
   ]
  },
  {
   "cell_type": "markdown",
   "metadata": {},
   "source": [
    "## **Key Terms and Components of Trees**\n",
    "\n",
    "- Node: Each element in a tree is called a node.\n",
    "- Root: The topmost node in a tree, with no parent. It serves as the starting point of the tree.\n",
    "- Edge: The connection between two nodes (parent and child).\n",
    "- Parent: A node that has one or more child nodes.\n",
    "- Child: A node that has a parent node above it.\n",
    "- Leaf (or External Node): A node without children, typically representing the end of a path.\n",
    "- Internal Node: Any node with at least one child.\n",
    "- Height: The length of the longest path from the root to a leaf node.\n",
    "- Depth: The distance of a node from the root node."
   ]
  },
  {
   "cell_type": "code",
   "execution_count": 1,
   "metadata": {},
   "outputs": [
    {
     "name": "stdout",
     "output_type": "stream",
     "text": [
      "-> 1\n",
      "    -> 2\n",
      "        -> 4\n",
      "        -> 5\n",
      "    -> 3\n"
     ]
    }
   ],
   "source": [
    "# Binary Tree is well suited here\n",
    "class TreeNode:\n",
    "    def __init__(self, val, left=None, right=None):\n",
    "        self.val = val\n",
    "        self.left = left\n",
    "        self.right = right\n",
    "    \n",
    "    def print_tree(self, level=0):\n",
    "        print(\" \" * 4 * level + f\"-> {self.val}\")\n",
    "        if self.left:\n",
    "            self.left.print_tree(level + 1)\n",
    "        if self.right:\n",
    "            self.right.print_tree(level + 1)\n",
    "\n",
    "# Test case\n",
    "root = TreeNode(1)\n",
    "root.left = TreeNode(2)\n",
    "root.right = TreeNode(3)\n",
    "root.left.left = TreeNode(4)\n",
    "root.left.right = TreeNode(5)\n",
    "\n",
    "root.print_tree()"
   ]
  },
  {
   "cell_type": "code",
   "execution_count": 2,
   "metadata": {},
   "outputs": [],
   "source": [
    "# General Tree with multiple children.\n",
    "class GeneralTreeNode:\n",
    "    def __init__(self, val, children=[]):\n",
    "        self.val = val\n",
    "        self.children = children\n",
    "        "
   ]
  },
  {
   "cell_type": "markdown",
   "metadata": {},
   "source": [
    "### **Depth First Search**\n",
    "\n",
    "Depth First Search (DFS) is an algorithm for traversing or searching a graph or tree by exploring as far as possible along each branch before backtracking."
   ]
  },
  {
   "cell_type": "code",
   "execution_count": 3,
   "metadata": {},
   "outputs": [
    {
     "data": {
      "text/plain": [
       "[0, 2, 5, 1, 4, 3]"
      ]
     },
     "execution_count": 3,
     "metadata": {},
     "output_type": "execute_result"
    }
   ],
   "source": [
    "from typing import List, Dict\n",
    "class Solution:\n",
    "    def print_graph(self, graph: Dict[int, List[int]]):\n",
    "        for key, value in graph.items():\n",
    "            print(f\"{key} -> {value}\")\n",
    "            \n",
    "    def dfs_stack(self, graph, start):\n",
    "        stack = [start]\n",
    "        visited = set()\n",
    "        result = []      # To store the order of traversal\n",
    "                \n",
    "        while stack:\n",
    "            node = stack.pop() # Here we backtrack\n",
    "            # print(node)\n",
    "            if node not in visited:\n",
    "                visited.add(node)\n",
    "                result.append(node)\n",
    "                # print(node)\n",
    "                for neighbor in graph[node]:\n",
    "                    # print(neighbor)\n",
    "                    stack.append(neighbor)\n",
    "        \n",
    "        return result\n",
    "            \n",
    "\n",
    "graph = {\n",
    "    0: [1, 2],\n",
    "    1: [0, 3, 4],\n",
    "    2: [0, 5],\n",
    "    3: [1],\n",
    "    4: [1],\n",
    "    5: [2]\n",
    "}\n",
    "\n",
    "sol:Solution = Solution()\n",
    "sol.dfs_stack(graph, 0)"
   ]
  },
  {
   "cell_type": "markdown",
   "metadata": {},
   "source": [
    "### **DFS - Recursion Stack**"
   ]
  },
  {
   "cell_type": "code",
   "execution_count": 4,
   "metadata": {},
   "outputs": [
    {
     "data": {
      "text/plain": [
       "[0, 1, 3, 4, 2, 5]"
      ]
     },
     "execution_count": 4,
     "metadata": {},
     "output_type": "execute_result"
    }
   ],
   "source": [
    "from typing import List, Dict\n",
    "class Solution:\n",
    "    def print_graph(self, graph):\n",
    "        pass\n",
    "    def dfs_recursion_stack(self, graph:Dict[int,int], start:int, visited:set, result:List[int]):\n",
    "        if start in visited:\n",
    "            return\n",
    "        visited.add(start)\n",
    "        result.append(start)\n",
    "        for neighbor in graph[start]:\n",
    "            if neighbor not in visited:\n",
    "                self.dfs_recursion_stack(graph, neighbor, visited, result)\n",
    "    def dfs_stack(self, graph, start):\n",
    "        visited = set()\n",
    "        result = []\n",
    "        self.dfs_recursion_stack(graph, start, visited, result)\n",
    "        return result\n",
    "        \n",
    "            \n",
    "\n",
    "graph = {\n",
    "    0: [1, 2],\n",
    "    1: [0, 3, 4],\n",
    "    2: [0, 5],\n",
    "    3: [1],\n",
    "    4: [1],\n",
    "    5: [2]\n",
    "}\n",
    "\n",
    "sol:Solution = Solution()\n",
    "sol.dfs_stack(graph, 0)"
   ]
  },
  {
   "cell_type": "markdown",
   "metadata": {},
   "source": [
    "### **Breadth First Search**\n",
    "\n",
    "BFS is an algorithm used to traverse or search through a graph or tree. It explores all the vertices at the current depth level before moving on to vertices at the next depth level. This is the key characteristic of BFS: it processes nodes level by level.\n",
    "\n",
    "BFS implements queue for traversal."
   ]
  },
  {
   "cell_type": "code",
   "execution_count": 5,
   "metadata": {},
   "outputs": [
    {
     "name": "stdout",
     "output_type": "stream",
     "text": [
      "0\n",
      "1\n",
      "2\n",
      "3\n",
      "4\n",
      "5\n"
     ]
    },
    {
     "data": {
      "text/plain": [
       "{0, 1, 2, 3, 4, 5}"
      ]
     },
     "execution_count": 5,
     "metadata": {},
     "output_type": "execute_result"
    }
   ],
   "source": [
    "from typing import List, Dict\n",
    "from collections import deque\n",
    "\n",
    "class Solution:\n",
    "    def bfs(self, graph:Dict[int,int], start:int):\n",
    "        queue = deque([start])\n",
    "        visited = set([start])\n",
    "        \n",
    "        while queue:\n",
    "            node = queue.popleft() # Dequeue the element from the front.\n",
    "            print(node)\n",
    "            for neighbour in graph[node]:\n",
    "                if neighbour not in visited:\n",
    "                     visited.add(neighbour)\n",
    "                     queue.append(neighbour)\n",
    "        return visited\n",
    "            \n",
    "graph = {\n",
    "    0: [1, 2],\n",
    "    1: [0, 3, 4],\n",
    "    2: [0, 5],\n",
    "    3: [1],\n",
    "    4: [1],\n",
    "    5: [2]\n",
    "}\n",
    "\n",
    "sol:Solution = Solution()\n",
    "sol.bfs(graph, 0)\n",
    "        "
   ]
  },
  {
   "cell_type": "markdown",
   "metadata": {},
   "source": [
    "### **Applications of BFS**:\n",
    "- Shortest Path in Unweighted Graphs: BFS can find the shortest path from a source node to any other node in an unweighted graph.\n",
    "- Level-order Traversal in Trees: BFS is used for printing tree nodes level by level.\n",
    "- Cycle Detection: BFS can be used to detect cycles in undirected graphs.\n",
    "- Connectivity Check: BFS can help check if a graph is connected (i.e., if there is a path from any node to any other node).\n",
    "- Word Ladder: In puzzles like the word ladder problem, BFS is used to find the shortest transformation sequence from one word to another.\n"
   ]
  },
  {
   "cell_type": "markdown",
   "metadata": {},
   "source": [
    "### **Balanced Parentheses**\n",
    "\n",
    "The Balanced Parentheses problem is a classic problem in data structures and algorithms that involves checking whether the parentheses (and sometimes other types of brackets) in a given string are properly balanced and nested. It is commonly solved using a stack."
   ]
  },
  {
   "cell_type": "code",
   "execution_count": 6,
   "metadata": {},
   "outputs": [
    {
     "name": "stdout",
     "output_type": "stream",
     "text": [
      "True\n",
      "False\n",
      "True\n",
      "False\n"
     ]
    }
   ],
   "source": [
    "from typing import List\n",
    "class Solution:\n",
    "    def isBalancedParentheses(self, val:str):\n",
    "        bracket_maps = {\n",
    "            \")\" : \"(\", \"]\" : \"[\", \"}\" : \"{\"\n",
    "        }\n",
    "        stack = []\n",
    "        \n",
    "        for char in val:\n",
    "            if char in bracket_maps.values():\n",
    "                stack.append(char)\n",
    "            elif char in bracket_maps.keys():\n",
    "                if not stack or bracket_maps[char] != stack.pop():\n",
    "                    return False    \n",
    "            \n",
    "        return len(stack) == 0\n",
    "\n",
    "sol:Solution = Solution()\n",
    "print(sol.isBalancedParentheses(\"(a[b]{c})\"))  # Output: True\n",
    "print(sol.isBalancedParentheses(\"(a[b{c})]\"))  # Output: False\n",
    "print(sol.isBalancedParentheses(\"{[()]}\"))     # Output: True\n",
    "print(sol.isBalancedParentheses(\"{[(()]}\")) \n",
    "\n",
    "## Time Complexity: O(n)\n",
    "## Space Complexity: O(n), because the size of stack is gradually increasing."
   ]
  },
  {
   "cell_type": "code",
   "execution_count": 7,
   "metadata": {},
   "outputs": [],
   "source": [
    "\"\"\"\n",
    "A Tree is hierarchical data structure that consists of nodes connected by edges.\n",
    "\"\"\"\n",
    "\n",
    "class TreeNode:\n",
    "    def __init__(self, val):\n",
    "        self.val = val\n",
    "        self.left = None\n",
    "        self.right = None"
   ]
  },
  {
   "cell_type": "markdown",
   "metadata": {},
   "source": [
    "### **Traversals:**\n",
    "- InOrder Traversal\n",
    "- Post Order Traversal\n",
    "- Pre Order Traversal"
   ]
  },
  {
   "cell_type": "code",
   "execution_count": 8,
   "metadata": {},
   "outputs": [
    {
     "name": "stdout",
     "output_type": "stream",
     "text": [
      "[1, 2, 4, 5, 3]\n"
     ]
    }
   ],
   "source": [
    "class Solution:\n",
    "    def preorder_traversal_iterative(self,root:TreeNode):\n",
    "        if root is None:\n",
    "            return []\n",
    "        stack = [root]\n",
    "        results = []\n",
    "        \n",
    "        while stack:\n",
    "            node = stack.pop()\n",
    "            results.append(node.val)\n",
    "            if node.right:\n",
    "                stack.append(node.right)\n",
    "            if node.left:\n",
    "                stack.append(node.left)\n",
    "        \n",
    "        return results\n",
    "    \n",
    "    def inorder_traversal_iterative(self,root:TreeNode):\n",
    "        stack = []\n",
    "        results = []\n",
    "        \n",
    "        current:TreeNode = root\n",
    "        \n",
    "        while stack or current:\n",
    "            while current:\n",
    "                stack.append(current)\n",
    "                current = current.left\n",
    "            current = stack.pop()\n",
    "            results.append(current.val)\n",
    "            current = current.right\n",
    "        \n",
    "        return results\n",
    "    \n",
    "    def postorder_traversal_iterative(self,root:TreeNode):\n",
    "        stack = [root]\n",
    "        results = []\n",
    "        \n",
    "        while stack:\n",
    "            node = stack.pop()\n",
    "            results.append(node.val)\n",
    "            \n",
    "            if node.left:\n",
    "                stack.append(node.left)\n",
    "            \n",
    "            if node.right:\n",
    "                stack.append(node.right)\n",
    "        \n",
    "        return results[::-1] # Reverse the result to achieve postorder.   \n",
    "                 \n",
    "         \n",
    "\n",
    "root = TreeNode(1)\n",
    "root.left = TreeNode(2)\n",
    "root.right = TreeNode(3)\n",
    "root.left.left = TreeNode(4)\n",
    "root.left.right = TreeNode(5)\n",
    "\n",
    "sol = Solution()\n",
    "print(sol.preorder_traversal_iterative(root)) "
   ]
  },
  {
   "cell_type": "code",
   "execution_count": 9,
   "metadata": {},
   "outputs": [
    {
     "name": "stdout",
     "output_type": "stream",
     "text": [
      "[4, 2]\n"
     ]
    }
   ],
   "source": [
    "sample_list = []\n",
    "sample_list.append(4)\n",
    "sample_list.append(2)\n",
    "\n",
    "print(sample_list)"
   ]
  },
  {
   "cell_type": "code",
   "execution_count": 10,
   "metadata": {},
   "outputs": [
    {
     "name": "stdout",
     "output_type": "stream",
     "text": [
      "Iterative Inorder Traversal:\n",
      "[4, 2, 5, 1, 3]\n"
     ]
    }
   ],
   "source": [
    "# Create the tree\n",
    "root = TreeNode(1)\n",
    "root.left = TreeNode(2)\n",
    "root.right = TreeNode(3)\n",
    "root.left.left = TreeNode(4)\n",
    "root.left.right = TreeNode(5)\n",
    "\n",
    "# Solution instance\n",
    "sol = Solution()\n",
    "\n",
    "# Test iterative approach\n",
    "print(\"Iterative Inorder Traversal:\")\n",
    "print(sol.inorder_traversal_iterative(root))"
   ]
  },
  {
   "cell_type": "code",
   "execution_count": 11,
   "metadata": {},
   "outputs": [
    {
     "name": "stdout",
     "output_type": "stream",
     "text": [
      "Iterative Inorder Traversal:\n",
      "[4, 5, 2, 3, 1]\n"
     ]
    }
   ],
   "source": [
    "# Create the tree\n",
    "root = TreeNode(1)\n",
    "root.left = TreeNode(2)\n",
    "root.right = TreeNode(3)\n",
    "root.left.left = TreeNode(4)\n",
    "root.left.right = TreeNode(5)\n",
    "\n",
    "# Solution instance\n",
    "sol = Solution()\n",
    "\n",
    "# Test iterative approach\n",
    "print(\"Iterative Inorder Traversal:\")\n",
    "print(sol.postorder_traversal_iterative(root))"
   ]
  }
 ],
 "metadata": {
  "kernelspec": {
   "display_name": "python-dev-shahzaibse",
   "language": "python",
   "name": "python3"
  },
  "language_info": {
   "codemirror_mode": {
    "name": "ipython",
    "version": 3
   },
   "file_extension": ".py",
   "mimetype": "text/x-python",
   "name": "python",
   "nbconvert_exporter": "python",
   "pygments_lexer": "ipython3",
   "version": "3.12.2"
  }
 },
 "nbformat": 4,
 "nbformat_minor": 2
}
