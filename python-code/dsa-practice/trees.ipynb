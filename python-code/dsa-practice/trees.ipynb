{
 "cells": [
  {
   "cell_type": "markdown",
   "metadata": {},
   "source": [
    "## **What are Trees?**\n",
    "\n"
   ]
  },
  {
   "cell_type": "markdown",
   "metadata": {},
   "source": [
    "In Data Structures and Algorithms, a tree is a hierarchical data structure that represents a collection of elements (nodes) organized in a parent-child relationship. Trees are widely used due to their structured organization and efficient search, insertion, and deletion properties."
   ]
  },
  {
   "cell_type": "markdown",
   "metadata": {},
   "source": [
    "## **Key Terms and Components of Trees**\n",
    "\n",
    "- Node: Each element in a tree is called a node.\n",
    "- Root: The topmost node in a tree, with no parent. It serves as the starting point of the tree.\n",
    "- Edge: The connection between two nodes (parent and child).\n",
    "- Parent: A node that has one or more child nodes.\n",
    "- Child: A node that has a parent node above it.\n",
    "- Leaf (or External Node): A node without children, typically representing the end of a path.\n",
    "- Internal Node: Any node with at least one child.\n",
    "- Height: The length of the longest path from the root to a leaf node.\n",
    "- Depth: The distance of a node from the root node."
   ]
  },
  {
   "cell_type": "code",
   "execution_count": 5,
   "metadata": {},
   "outputs": [
    {
     "name": "stdout",
     "output_type": "stream",
     "text": [
      "-> 1\n",
      "    -> 2\n",
      "        -> 4\n",
      "        -> 5\n",
      "    -> 3\n"
     ]
    }
   ],
   "source": [
    "# Binary Tree is well suited here\n",
    "class TreeNode:\n",
    "    def __init__(self, val, left=None, right=None):\n",
    "        self.val = val\n",
    "        self.left = left\n",
    "        self.right = right\n",
    "    \n",
    "    def print_tree(self, level=0):\n",
    "        print(\" \" * 4 * level + f\"-> {self.val}\")\n",
    "        if self.left:\n",
    "            self.left.print_tree(level + 1)\n",
    "        if self.right:\n",
    "            self.right.print_tree(level + 1)\n",
    "\n",
    "# Test case\n",
    "root = TreeNode(1)\n",
    "root.left = TreeNode(2)\n",
    "root.right = TreeNode(3)\n",
    "root.left.left = TreeNode(4)\n",
    "root.left.right = TreeNode(5)\n",
    "\n",
    "root.print_tree()"
   ]
  },
  {
   "cell_type": "code",
   "execution_count": 2,
   "metadata": {},
   "outputs": [],
   "source": [
    "# General Tree with multiple children.\n",
    "class GeneralTreeNode:\n",
    "    def __init__(self, val, children=[]):\n",
    "        self.val = val\n",
    "        self.children = children\n",
    "        "
   ]
  }
 ],
 "metadata": {
  "kernelspec": {
   "display_name": "python-shahzaibse",
   "language": "python",
   "name": "python3"
  },
  "language_info": {
   "codemirror_mode": {
    "name": "ipython",
    "version": 3
   },
   "file_extension": ".py",
   "mimetype": "text/x-python",
   "name": "python",
   "nbconvert_exporter": "python",
   "pygments_lexer": "ipython3",
   "version": "3.12.2"
  }
 },
 "nbformat": 4,
 "nbformat_minor": 2
}
