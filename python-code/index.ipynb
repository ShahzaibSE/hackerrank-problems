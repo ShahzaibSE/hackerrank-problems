{
 "cells": [
  {
   "cell_type": "markdown",
   "metadata": {},
   "source": [
    "Some of the common excercies of coding.\n",
    "\n",
    "1. **Factorial Calculation:**\n",
    "   Calculate the factorial of a given number `n` (n!). The factorial of a non-negative integer is the product of all positive integers less than or equal to that number.\n",
    "\n",
    "2. **Sum of Digits:**\n",
    "   Write a program to find the sum of digits of a given number `n`.\n",
    "\n",
    "3. **Pascal's Triangle:**\n",
    "   Generate and print the first `n` rows of Pascal's Triangle. Each number is the sum of the two numbers directly above it in the previous row.\n",
    "\n",
    "4. **Prime Numbers:**\n",
    "   Write a program to find and print the first `n` prime numbers.\n",
    "\n",
    "5. **Palindrome Check:**\n",
    "   Determine whether a given string or number is a palindrome. A palindrome reads the same backward as forward.\n",
    "\n",
    "6. **Power of a Number:**\n",
    "   Implement a function to calculate the power of a number `base` raised to the exponent `exponent` without using the built-in power operator.\n",
    "\n",
    "7. **Hanoi Tower Problem:**\n",
    "   Solve the Tower of Hanoi problem, where you have three pegs and a number of disks of different sizes which can slide onto any peg. The puzzle starts with the disks in a neat stack in ascending order of size on one peg, and the goal is to move the entire stack to another peg, obeying the following simple rules.\n",
    "\n",
    "8. **Fibonacci Sum:**\n",
    "   Find the sum of the first `n` Fibonacci numbers.\n",
    "\n",
    "9. **GCD (Greatest Common Divisor):**\n",
    "   Implement a program to find the greatest common divisor of two numbers using the Euclidean algorithm.\n",
    "\n",
    "10. **LCM (Least Common Multiple):**\n",
    "    Write a program to find the least common multiple of two numbers.\n",
    "\n",
    "These problems involve various mathematical and algorithmic concepts and are often used in programming interviews or as exercises to strengthen programming skills."
   ]
  },
  {
   "cell_type": "markdown",
   "metadata": {},
   "source": [
    "## **Fibonacci Series**"
   ]
  },
  {
   "cell_type": "code",
   "execution_count": 1,
   "metadata": {},
   "outputs": [],
   "source": [
    "def fibonacci_series(n):\n",
    "    fibonacci_series: [int] = [0, 1]\n",
    "    \n",
    "    for i in range(2, n+1):\n",
    "        print(fibonacci_series[i-2])\n",
    "        fibonacci_series.append(fibonacci_series[i-1] + fibonacci_series[i-2])\n",
    "        \n",
    "    \n",
    "    return fibonacci_series\n",
    "    "
   ]
  },
  {
   "cell_type": "code",
   "execution_count": 2,
   "metadata": {},
   "outputs": [
    {
     "name": "stdout",
     "output_type": "stream",
     "text": [
      "0\n",
      "1\n",
      "1\n",
      "2\n",
      "3\n",
      "5\n",
      "8\n",
      "13\n",
      "21\n"
     ]
    },
    {
     "data": {
      "text/plain": [
       "[0, 1, 1, 2, 3, 5, 8, 13, 21, 34, 55]"
      ]
     },
     "metadata": {},
     "output_type": "display_data"
    }
   ],
   "source": [
    "display(fibonacci_series(10))"
   ]
  },
  {
   "cell_type": "code",
   "execution_count": 3,
   "metadata": {},
   "outputs": [],
   "source": [
    "def fibonacci_sequence(n):\n",
    "    if(n <= 0):\n",
    "        return 1\n",
    "    else:\n",
    "        return (fibonacci_sequence(n-1) + fibonacci_sequence(n-2))"
   ]
  },
  {
   "cell_type": "markdown",
   "metadata": {},
   "source": [
    "## **Factorial Problem**"
   ]
  },
  {
   "cell_type": "code",
   "execution_count": 4,
   "metadata": {},
   "outputs": [],
   "source": [
    "def factorial_problem(n):\n",
    "    if(n == 0):\n",
    "        return 1\n",
    "    else:\n",
    "        return n * factorial_problem(n-1)"
   ]
  },
  {
   "cell_type": "code",
   "execution_count": 5,
   "metadata": {},
   "outputs": [
    {
     "name": "stdout",
     "output_type": "stream",
     "text": [
      "Fibonacci sequence:\n",
      "1\n",
      "2\n",
      "3\n",
      "5\n",
      "8\n",
      "13\n",
      "21\n",
      "34\n",
      "55\n",
      "89\n"
     ]
    }
   ],
   "source": [
    "nterms = 10\n",
    "\n",
    "# check if the number of terms is valid\n",
    "if nterms <= 0:\n",
    "   print(\"Plese enter a positive integer\")\n",
    "else:\n",
    "   print(\"Fibonacci sequence:\")\n",
    "   for i in range(nterms):\n",
    "       print(fibonacci_sequence(i))"
   ]
  },
  {
   "cell_type": "code",
   "execution_count": 6,
   "metadata": {},
   "outputs": [
    {
     "name": "stdout",
     "output_type": "stream",
     "text": [
      "The factorial of {3} is {6}\n"
     ]
    }
   ],
   "source": [
    "num = 3\n",
    "\n",
    "# check if the number is negative\n",
    "if num < 0:\n",
    "   print(\"Sorry, factorial does not exist for negative numbers\")\n",
    "elif num == 0:\n",
    "   print(\"The factorial of 0 is 1\")\n",
    "else:\n",
    "   print(f\"The factorial of\", {num}, \"is\", {factorial_problem(num)})"
   ]
  },
  {
   "cell_type": "markdown",
   "metadata": {},
   "source": [
    "## **Diagonal Difference - HackerRank**"
   ]
  },
  {
   "cell_type": "code",
   "execution_count": 7,
   "metadata": {},
   "outputs": [],
   "source": [
    "def diagonal_difference(arr):\n",
    "    d1 = sum([arr[x][x] for x in range(len(arr))])\n",
    "    d2 = sum([arr[x][len(arr) - 1 - x] for x in range(len(arr))])\n",
    "    return(abs(d1 - d2))"
   ]
  },
  {
   "cell_type": "code",
   "execution_count": 8,
   "metadata": {},
   "outputs": [
    {
     "data": {
      "text/plain": [
       "15"
      ]
     },
     "execution_count": 8,
     "metadata": {},
     "output_type": "execute_result"
    }
   ],
   "source": [
    "# sample_difference_data = [[1,2,3], [4,5,6], [9,8,9]]\n",
    "sample_difference_data = [[11,2,4], [4,5,6], [10,8,-12]]\n",
    "\n",
    "diagonal_difference(sample_difference_data)"
   ]
  },
  {
   "cell_type": "markdown",
   "metadata": {},
   "source": [
    "## **Counting Sort**"
   ]
  },
  {
   "cell_type": "code",
   "execution_count": 9,
   "metadata": {},
   "outputs": [],
   "source": [
    "def countingSort(arr: list):\n",
    "    try:\n",
    "        frequencies: [int] = []\n",
    "        # arr.sort()\n",
    "        for i in range(len(arr)):\n",
    "            # print(i)\n",
    "            if i > 0 and i < 100:\n",
    "                frequencies.append(arr.count(i))\n",
    "            else:\n",
    "                frequencies.append(0)\n",
    "        #\n",
    "        return frequencies\n",
    "    except:\n",
    "        print(\"Error!\")"
   ]
  },
  {
   "cell_type": "code",
   "execution_count": 10,
   "metadata": {},
   "outputs": [
    {
     "data": {
      "text/plain": [
       "[0, 3, 1, 1, 0]"
      ]
     },
     "execution_count": 10,
     "metadata": {},
     "output_type": "execute_result"
    }
   ],
   "source": [
    "countingSort([1,1,3,2,1])"
   ]
  },
  {
   "cell_type": "code",
   "execution_count": 11,
   "metadata": {},
   "outputs": [],
   "source": [
    "def countingSort(arr):\n",
    "    # Write your code here\n",
    "    a=[ arr.count(i) for i in range(len(arr)) if i>=0 and i<100 ]\n",
    "    return a"
   ]
  },
  {
   "cell_type": "code",
   "execution_count": 12,
   "metadata": {},
   "outputs": [
    {
     "data": {
      "text/plain": [
       "[0, 3, 1, 1, 0]"
      ]
     },
     "execution_count": 12,
     "metadata": {},
     "output_type": "execute_result"
    }
   ],
   "source": [
    "countingSort([1,1,3,2,1])"
   ]
  },
  {
   "cell_type": "markdown",
   "metadata": {},
   "source": [
    "## **Tower Breaker**"
   ]
  },
  {
   "cell_type": "code",
   "execution_count": 13,
   "metadata": {},
   "outputs": [],
   "source": [
    "# Given the values of  and , determine which player will win. If the first player wins, return . Otherwise, return .\n",
    "def tower_breaker(n, m):\n",
    "    return 2 if n%2 == 0 or m == 1 else  1\n"
   ]
  },
  {
   "cell_type": "markdown",
   "metadata": {},
   "source": [
    "## **Caesar Cipher**"
   ]
  },
  {
   "cell_type": "code",
   "execution_count": 14,
   "metadata": {},
   "outputs": [
    {
     "data": {
      "text/plain": [
       "'defghijklmnopqrstuvwxyzabc'"
      ]
     },
     "execution_count": 14,
     "metadata": {},
     "output_type": "execute_result"
    }
   ],
   "source": [
    "def caesarCipher(s, k):\n",
    "    # Write your code here\n",
    "    encrypted_text: str = \"\"\n",
    "    for char in s:\n",
    "        if char.isupper():\n",
    "            encrypted_text += chr((ord(char) + k - 65) % 26 + 65 )\n",
    "        elif char.islower():\n",
    "            encrypted_text += chr((ord(char) + k - 97) % 26 + 97 )\n",
    "        else:\n",
    "            encrypted_text += chr\n",
    "    return encrypted_text\n",
    "\n",
    "caesarCipher(\"abcdefghijklmnopqrstuvwxyz\", 3)      "
   ]
  },
  {
   "cell_type": "markdown",
   "metadata": {},
   "source": [
    "## **Grid Squares**"
   ]
  },
  {
   "cell_type": "code",
   "execution_count": 15,
   "metadata": {},
   "outputs": [],
   "source": [
    "grid: [str] = [\"abc\", \"ade\", \"efg\"]"
   ]
  },
  {
   "cell_type": "code",
   "execution_count": 16,
   "metadata": {},
   "outputs": [],
   "source": [
    "def gridChallenge(grid):\n",
    "    try:\n",
    "        res = [sorted(s) for s in grid]\n",
    "        res_t = [list(item) for item in zip(*res)]\n",
    "        test_res_t = [sorted(t) for t in res_t]\n",
    "        print(res)\n",
    "        print(res_t)\n",
    "        print(test_res_t)\n",
    "        return \"YES\" if res == sorted(res) and res_t == test_res_t else \"NO\"\n",
    "    except:\n",
    "        print(\"Internal error\")"
   ]
  },
  {
   "cell_type": "code",
   "execution_count": 17,
   "metadata": {},
   "outputs": [
    {
     "name": "stdout",
     "output_type": "stream",
     "text": [
      "[['a', 'b', 'c'], ['a', 'd', 'e'], ['e', 'f', 'g']]\n",
      "[['a', 'a', 'e'], ['b', 'd', 'f'], ['c', 'e', 'g']]\n",
      "[['a', 'a', 'e'], ['b', 'd', 'f'], ['c', 'e', 'g']]\n"
     ]
    },
    {
     "data": {
      "text/plain": [
       "'YES'"
      ]
     },
     "execution_count": 17,
     "metadata": {},
     "output_type": "execute_result"
    }
   ],
   "source": [
    "gridChallenge(grid)"
   ]
  },
  {
   "cell_type": "markdown",
   "metadata": {},
   "source": [
    "## **Reverse Number without converting them into String**"
   ]
  },
  {
   "cell_type": "code",
   "execution_count": 18,
   "metadata": {},
   "outputs": [],
   "source": [
    "def reverse_number(num):\n",
    "    is_negative = num < 0\n",
    "    number = abs(num)\n",
    "    #\n",
    "    integer_part = int(number)\n",
    "    decimal_part = number - integer_part\n",
    "    #\n",
    "    reversed_num: int = 0\n",
    "    \n",
    "    while(integer_part != 0):\n",
    "        reversed_num = reversed_num * 10 + integer_part % 10\n",
    "        integer_part = integer_part // 10\n",
    "    \n",
    "    reversed_float = reversed_num + decimal_part\n",
    "    return -reversed_float if is_negative else reversed_float\n",
    "\n",
    "    "
   ]
  },
  {
   "cell_type": "code",
   "execution_count": 19,
   "metadata": {},
   "outputs": [
    {
     "name": "stdout",
     "output_type": "stream",
     "text": [
      "Original Number: 123.45\n",
      "Reversed Number: 321.45\n"
     ]
    }
   ],
   "source": [
    "original_number = 123.45\n",
    "reversed_num = reverse_number(original_number)\n",
    "\n",
    "print(\"Original Number:\", original_number)\n",
    "print(\"Reversed Number:\", reversed_num)"
   ]
  },
  {
   "cell_type": "markdown",
   "metadata": {},
   "source": [
    "### **Right Angle Triangle**"
   ]
  },
  {
   "cell_type": "code",
   "execution_count": 20,
   "metadata": {},
   "outputs": [],
   "source": [
    "def right_angle_triangle(max_limit:int):\n",
    "    for i in range(max_limit):\n",
    "        print(\"*\" * i)"
   ]
  },
  {
   "cell_type": "code",
   "execution_count": 21,
   "metadata": {},
   "outputs": [
    {
     "name": "stdout",
     "output_type": "stream",
     "text": [
      "\n",
      "*\n",
      "**\n",
      "***\n",
      "****\n",
      "*****\n",
      "******\n",
      "*******\n",
      "********\n",
      "*********\n"
     ]
    }
   ],
   "source": [
    "right_angle_triangle(10)"
   ]
  },
  {
   "cell_type": "markdown",
   "metadata": {},
   "source": [
    "### **Reversed Right Angle Triangle**"
   ]
  },
  {
   "cell_type": "code",
   "execution_count": 22,
   "metadata": {},
   "outputs": [],
   "source": [
    "def reversed_right_angle_triangle(max_limit:int):\n",
    "    for i in range(max_limit, 0, -1):\n",
    "        print(\"*\" * i)"
   ]
  },
  {
   "cell_type": "code",
   "execution_count": 23,
   "metadata": {},
   "outputs": [
    {
     "name": "stdout",
     "output_type": "stream",
     "text": [
      "**********\n",
      "*********\n",
      "********\n",
      "*******\n",
      "******\n",
      "*****\n",
      "****\n",
      "***\n",
      "**\n",
      "*\n"
     ]
    }
   ],
   "source": [
    "reversed_right_angle_triangle(10)"
   ]
  },
  {
   "cell_type": "markdown",
   "metadata": {},
   "source": [
    "### **Equilateral triangle**"
   ]
  },
  {
   "cell_type": "code",
   "execution_count": 24,
   "metadata": {},
   "outputs": [],
   "source": [
    "def equilateral_triangle(max_limit:int):\n",
    "    for i in range(max_limit):\n",
    "        print(\" \" * (max_limit - i - 1), end=\" \")\n",
    "        print(\"*\" * (2 * i - 1))"
   ]
  },
  {
   "cell_type": "code",
   "execution_count": 25,
   "metadata": {},
   "outputs": [
    {
     "name": "stdout",
     "output_type": "stream",
     "text": [
      "          \n",
      "         *\n",
      "        ***\n",
      "       *****\n",
      "      *******\n",
      "     *********\n",
      "    ***********\n",
      "   *************\n",
      "  ***************\n",
      " *****************\n"
     ]
    }
   ],
   "source": [
    "equilateral_triangle(10)"
   ]
  },
  {
   "cell_type": "markdown",
   "metadata": {},
   "source": [
    "## **Super Digit Problem**"
   ]
  },
  {
   "cell_type": "code",
   "execution_count": 26,
   "metadata": {},
   "outputs": [],
   "source": [
    "def superDigit(n, k):  \n",
    "    if(k == len(n) ==1):\n",
    "        return int(n)\n",
    "    res = 0\n",
    "    for num in n:\n",
    "        res += int(num)\n",
    "    \n",
    "    return superDigit(str(res*k), 1)"
   ]
  },
  {
   "cell_type": "code",
   "execution_count": 27,
   "metadata": {},
   "outputs": [
    {
     "data": {
      "text/plain": [
       "8"
      ]
     },
     "execution_count": 27,
     "metadata": {},
     "output_type": "execute_result"
    }
   ],
   "source": [
    "n = \"9875\"\n",
    "k = 4\n",
    "\n",
    "superDigit(n, k)"
   ]
  },
  {
   "cell_type": "code",
   "execution_count": 28,
   "metadata": {},
   "outputs": [
    {
     "data": {
      "text/plain": [
       "'9875'"
      ]
     },
     "execution_count": 28,
     "metadata": {},
     "output_type": "execute_result"
    }
   ],
   "source": [
    "''.join(list(\"9875\"))"
   ]
  },
  {
   "cell_type": "markdown",
   "metadata": {},
   "source": [
    "### **Paint Fence Problem**"
   ]
  },
  {
   "cell_type": "code",
   "execution_count": 29,
   "metadata": {},
   "outputs": [],
   "source": [
    "def paint_face(n, k):\n",
    "    if n==0:\n",
    "        return 0\n",
    "    if n==1:\n",
    "        return k\n",
    "    # Now n >= 2.\n",
    "    # Initialize same and diff as if n == 2\n",
    "    same = k\n",
    "    diff = k*(k-1)\n",
    "    for i in range(3,n+1):\n",
    "        r_prev = same + diff # r(i-1)\n",
    "        same = diff # same(i)=diff(i-1)\n",
    "        diff = r_prev*(k-1)\n",
    "    return same + diff"
   ]
  },
  {
   "cell_type": "markdown",
   "metadata": {},
   "source": [
    "### **Sherlock and Squares** "
   ]
  },
  {
   "cell_type": "code",
   "execution_count": 30,
   "metadata": {},
   "outputs": [],
   "source": [
    "import math\n",
    "\n",
    "def squares(a,b):\n",
    "    return int(math.sqrt(b)) - math.ceil(math.sqrt(a)) + 1"
   ]
  },
  {
   "cell_type": "code",
   "execution_count": 31,
   "metadata": {},
   "outputs": [
    {
     "data": {
      "text/plain": [
       "3"
      ]
     },
     "execution_count": 31,
     "metadata": {},
     "output_type": "execute_result"
    }
   ],
   "source": [
    "squares(25,49)"
   ]
  },
  {
   "cell_type": "markdown",
   "metadata": {},
   "source": [
    "### **Library Fine**"
   ]
  },
  {
   "cell_type": "code",
   "execution_count": 32,
   "metadata": {},
   "outputs": [],
   "source": [
    "import math\n",
    "def libraryFine(d1, m1, y1, d2, m2, y2):\n",
    "    # Write your code here\n",
    "    if y1 > y2:\n",
    "        return 10000\n",
    "    elif (y1 == y2) and (m1 > m2):\n",
    "        return 500 * (m1 - m2)\n",
    "    elif (y1 == y2) and (m1 == m2) and (d1 > d2):\n",
    "        return 15 * (d1 - d2)\n",
    "    else:\n",
    "        return 0"
   ]
  },
  {
   "cell_type": "code",
   "execution_count": 33,
   "metadata": {},
   "outputs": [
    {
     "data": {
      "text/plain": [
       "45"
      ]
     },
     "execution_count": 33,
     "metadata": {},
     "output_type": "execute_result"
    }
   ],
   "source": [
    "libraryFine(9, 6, 2015, 6, 6, 2015)"
   ]
  },
  {
   "cell_type": "code",
   "execution_count": 34,
   "metadata": {},
   "outputs": [
    {
     "data": {
      "text/plain": [
       "'biazhahs'"
      ]
     },
     "execution_count": 34,
     "metadata": {},
     "output_type": "execute_result"
    }
   ],
   "source": [
    "# Reversed string.\n",
    "\"shahzaib\"[::-1]"
   ]
  },
  {
   "cell_type": "code",
   "execution_count": 35,
   "metadata": {},
   "outputs": [],
   "source": [
    "def checkPalindrome(s: str):\n",
    "    return s == s[::-1]"
   ]
  },
  {
   "cell_type": "code",
   "execution_count": 36,
   "metadata": {},
   "outputs": [
    {
     "data": {
      "text/plain": [
       "False"
      ]
     },
     "execution_count": 36,
     "metadata": {},
     "output_type": "execute_result"
    }
   ],
   "source": [
    "checkPalindrome(\"shahzaib\")"
   ]
  },
  {
   "cell_type": "code",
   "execution_count": 37,
   "metadata": {},
   "outputs": [
    {
     "data": {
      "text/plain": [
       "True"
      ]
     },
     "execution_count": 37,
     "metadata": {},
     "output_type": "execute_result"
    }
   ],
   "source": [
    "checkPalindrome(\"bab\")"
   ]
  },
  {
   "cell_type": "markdown",
   "metadata": {},
   "source": [
    "### **Cut the Sticks**"
   ]
  },
  {
   "cell_type": "code",
   "execution_count": 38,
   "metadata": {},
   "outputs": [],
   "source": [
    "def cutTheSticks(arr):\n",
    "    # Write your code here\n",
    "    cutSicksSize = len(arr)\n",
    "    while(cutSicksSize > 0):\n",
    "        cutMin = min(arr)\n",
    "        #\n",
    "        for i in range(len(arr)):\n",
    "            arr[i] = arr[i] - cutMin\n",
    "            #\n",
    "            if(arr[i]<=0):\n",
    "                arr[i] = 0\n",
    "                \n",
    "        for i in range(arr.count(0)):\n",
    "            arr.remove(0)\n",
    "            #\n",
    "    return arr"
   ]
  },
  {
   "cell_type": "code",
   "execution_count": null,
   "metadata": {},
   "outputs": [],
   "source": []
  },
  {
   "cell_type": "code",
   "execution_count": 39,
   "metadata": {},
   "outputs": [],
   "source": [
    "arr = [1,2,3]"
   ]
  },
  {
   "cell_type": "code",
   "execution_count": 40,
   "metadata": {},
   "outputs": [],
   "source": [
    "# cutTheSticks(arr)"
   ]
  },
  {
   "cell_type": "markdown",
   "metadata": {},
   "source": [
    "### **Breadth First Search**\n",
    "\n",
    "The steps of the algorithm work as follow:\n",
    "\n",
    " - Start by putting any one of the graph’s vertices at the back of the queue.\n",
    " - Now take the front item of the queue and add it to the visited list.\n",
    " - Create a list of that vertex's adjacent nodes. Add those which are not within the visited list to the rear of the queue.\n",
    " - Keep continuing steps two and three till the queue is empty."
   ]
  },
  {
   "cell_type": "markdown",
   "metadata": {},
   "source": [
    "### Consider following graph:\n",
    "\n",
    "![graph](graph.png \"Title\")\n"
   ]
  },
  {
   "cell_type": "code",
   "execution_count": 41,
   "metadata": {},
   "outputs": [],
   "source": [
    "graph:dict = {\n",
    "    \"5\":[\"3\",\"7\"],\n",
    "    \"3\":[\"2\",\"4\"],\n",
    "    \"7\":[\"8\"],\n",
    "    \"2\":[],\n",
    "    \"4\":[\"8\"],\n",
    "    \"8\":[]\n",
    "}\n",
    "\n",
    "visited = [] # List for visited nodes.\n",
    "queue = []     #Initialize a queue"
   ]
  },
  {
   "cell_type": "code",
   "execution_count": 42,
   "metadata": {},
   "outputs": [],
   "source": [
    "def breadth_first_search(visited,graph,node):\n",
    "    visited.append(node)\n",
    "    queue.append(node)\n",
    "    \n",
    "    # Creating a loop to visit each node.\n",
    "    while queue:\n",
    "        m = queue.pop(0)\n",
    "        print(f\"{m}\", end=\" \")\n",
    "        #\n",
    "        for neighbour in graph[m]:\n",
    "            if neighbour not in visited:\n",
    "                visited.append(neighbour)\n",
    "                queue.append(neighbour)\n"
   ]
  },
  {
   "cell_type": "code",
   "execution_count": 43,
   "metadata": {},
   "outputs": [
    {
     "name": "stdout",
     "output_type": "stream",
     "text": [
      "Following is the Breadth-First Search\n",
      "5 3 7 2 4 8 "
     ]
    }
   ],
   "source": [
    "# Driver Code\n",
    "print(\"Following is the Breadth-First Search\")\n",
    "breadth_first_search(visited, graph, '5') # function calling"
   ]
  },
  {
   "cell_type": "markdown",
   "metadata": {},
   "source": [
    "### **Complexity of Breadth First Search**\n",
    "\n",
    "The time complexity of the Breadth first Search algorithm is in the form of O(V+E), where V is the representation of the number of nodes and E is the number of edges. Also, the space complexity of the BFS algorithm is O(V)."
   ]
  },
  {
   "cell_type": "markdown",
   "metadata": {},
   "source": [
    "### Find repeated occurances of \"a\" in a string."
   ]
  },
  {
   "cell_type": "code",
   "execution_count": 44,
   "metadata": {},
   "outputs": [],
   "source": [
    "sample_str = \"\""
   ]
  },
  {
   "cell_type": "code",
   "execution_count": 45,
   "metadata": {},
   "outputs": [],
   "source": [
    "def repeatedString(s:str,n:int):\n",
    "    # Count occurrences of 'a' in the original string\n",
    "    a_count_original = s.count('a')\n",
    "    \n",
    "    # Calculate how many times the original string can fully repeat in the first n letters\n",
    "    full_repeats = n // len(s)\n",
    "    \n",
    "    # Calculate how many letters are remaining after full repeats\n",
    "    remaining_letters = n % len(s)\n",
    "    \n",
    "    # Count occurrences of 'a' in the remaining letters\n",
    "    a_count_remaining = s[:remaining_letters].count('a')\n",
    "    \n",
    "    # Total count of 'a' in the first n letters\n",
    "    total_a_count = full_repeats * a_count_original + a_count_remaining\n",
    "    \n",
    "    return total_a_count\n",
    "    "
   ]
  },
  {
   "cell_type": "markdown",
   "metadata": {},
   "source": [
    "### **Write a Python function to find the first non-repeated character in a given string. If there are no non-repeated characters, the function should return None.**"
   ]
  },
  {
   "cell_type": "code",
   "execution_count": 46,
   "metadata": {},
   "outputs": [],
   "source": [
    "sample_string:str = \"hello\""
   ]
  },
  {
   "cell_type": "code",
   "execution_count": 47,
   "metadata": {},
   "outputs": [
    {
     "name": "stdout",
     "output_type": "stream",
     "text": [
      "h : 1\n"
     ]
    }
   ],
   "source": [
    "def no_repeated_character(s:str):\n",
    "    non_repeating_character: str = \"\"\n",
    "    for char in s:\n",
    "        if s.count(char) == 1:\n",
    "            print(f\"{char} : {s.count(char)}\")\n",
    "            non_repeating_character = char\n",
    "            break\n",
    "    if(non_repeating_character == \"\"):\n",
    "        return non_repeating_character\n",
    "    else:\n",
    "        return None\n",
    "        \n",
    "            \n",
    "        \n",
    "\n",
    "no_repeated_character(sample_string)"
   ]
  },
  {
   "cell_type": "code",
   "execution_count": 48,
   "metadata": {},
   "outputs": [
    {
     "name": "stdout",
     "output_type": "stream",
     "text": [
      "h\n"
     ]
    }
   ],
   "source": [
    "# Optimized code.\n",
    "def no_repeated_character_v2(s:str):\n",
    "    for char in s:\n",
    "        if s.count(char) == 1:\n",
    "            return char\n",
    "    return None \n",
    "\n",
    "print(no_repeated_character_v2(sample_string))"
   ]
  },
  {
   "cell_type": "markdown",
   "metadata": {},
   "source": [
    "### **Write a Python function to reverse a string without using any built-in string reversal functions or methods.**"
   ]
  },
  {
   "cell_type": "code",
   "execution_count": 49,
   "metadata": {},
   "outputs": [],
   "source": [
    "sample_str: str = \"shahzaib\""
   ]
  },
  {
   "cell_type": "code",
   "execution_count": 50,
   "metadata": {},
   "outputs": [],
   "source": [
    "def reverseString(s:str):\n",
    "    try:\n",
    "        reversed_str: str = \"\"\n",
    "        for i in range(len(s) - 1, -1, -1):\n",
    "            reversed_str += s[i]\n",
    "        return reversed_str\n",
    "    except:\n",
    "        print(\"Internal error while reversing string\") "
   ]
  },
  {
   "cell_type": "code",
   "execution_count": 51,
   "metadata": {},
   "outputs": [
    {
     "name": "stdout",
     "output_type": "stream",
     "text": [
      "biazhahs "
     ]
    }
   ],
   "source": [
    "print(reverseString(sample_str), end=\" \")"
   ]
  },
  {
   "cell_type": "code",
   "execution_count": 52,
   "metadata": {},
   "outputs": [
    {
     "data": {
      "text/plain": [
       "Counter({2: 2, 1: 1, 3: 1})"
      ]
     },
     "execution_count": 52,
     "metadata": {},
     "output_type": "execute_result"
    }
   ],
   "source": [
    "from collections import Counter\n",
    "\n",
    "Counter([1,2,2,3])"
   ]
  },
  {
   "cell_type": "markdown",
   "metadata": {},
   "source": [
    "### **Equalize Array**"
   ]
  },
  {
   "cell_type": "code",
   "execution_count": 53,
   "metadata": {},
   "outputs": [],
   "source": [
    "\n",
    "def equalizeArray(arr):\n",
    "    # Write your code here\n",
    "    try:\n",
    "        # Count the frequency of each integer\n",
    "        freq_count = Counter(arr)\n",
    "        \n",
    "        # Find the maximum frequency\n",
    "        max_freq = max(freq_count.values())\n",
    "        \n",
    "        # Calculate the number of elements to delete\n",
    "        num_deletions = len(arr) - max_freq\n",
    "        \n",
    "        return num_deletions\n",
    "    except:\n",
    "        print(\"Internal error\")"
   ]
  },
  {
   "cell_type": "markdown",
   "metadata": {},
   "source": [
    "## **Calculating Factorial**"
   ]
  },
  {
   "cell_type": "code",
   "execution_count": 54,
   "metadata": {},
   "outputs": [],
   "source": [
    "def calculateFactorial(num:int):\n",
    "    if(num == 0):\n",
    "        return 1\n",
    "    else:\n",
    "        return num * calculateFactorial(num-1)"
   ]
  },
  {
   "cell_type": "code",
   "execution_count": 55,
   "metadata": {},
   "outputs": [
    {
     "data": {
      "text/plain": [
       "24"
      ]
     },
     "metadata": {},
     "output_type": "display_data"
    }
   ],
   "source": [
    "display(calculateFactorial(4))"
   ]
  },
  {
   "cell_type": "markdown",
   "metadata": {},
   "source": [
    "### **Jumping Clouds Problem**"
   ]
  },
  {
   "cell_type": "code",
   "execution_count": null,
   "metadata": {},
   "outputs": [],
   "source": []
  }
 ],
 "metadata": {
  "kernelspec": {
   "display_name": "shahzaibse-langchain-v1",
   "language": "python",
   "name": "python3"
  },
  "language_info": {
   "codemirror_mode": {
    "name": "ipython",
    "version": 3
   },
   "file_extension": ".py",
   "mimetype": "text/x-python",
   "name": "python",
   "nbconvert_exporter": "python",
   "pygments_lexer": "ipython3",
   "version": "3.12.2"
  }
 },
 "nbformat": 4,
 "nbformat_minor": 2
}
